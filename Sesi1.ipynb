{
 "cells": [
  {
   "cell_type": "markdown",
   "id": "234cea9c-c912-4a71-9d10-439d4f4ea776",
   "metadata": {},
   "source": [
    "## Integer = Bilangan Bulat"
   ]
  },
  {
   "cell_type": "code",
   "execution_count": 7,
   "id": "d39a117b-9046-4bb9-9671-bcd8bf6c0077",
   "metadata": {},
   "outputs": [
    {
     "name": "stdout",
     "output_type": "stream",
     "text": [
      "1000000000000\n"
     ]
    }
   ],
   "source": [
    "print(1000000000000)"
   ]
  },
  {
   "cell_type": "code",
   "execution_count": 6,
   "id": "c7527c89-ee9c-4175-a534-c8fe85aa200c",
   "metadata": {},
   "outputs": [
    {
     "data": {
      "text/plain": [
       "6"
      ]
     },
     "execution_count": 6,
     "metadata": {},
     "output_type": "execute_result"
    }
   ],
   "source": [
    "1\n",
    "2\n",
    "3\n",
    "4\n",
    "5\n",
    "6"
   ]
  },
  {
   "cell_type": "code",
   "execution_count": 8,
   "id": "6ef25db7-da55-424a-9c52-9f9dee3ce7e5",
   "metadata": {},
   "outputs": [
    {
     "name": "stdout",
     "output_type": "stream",
     "text": [
      "3\n",
      "<class 'int'>\n"
     ]
    }
   ],
   "source": [
    "print(3)\n",
    "print(type(3))"
   ]
  },
  {
   "cell_type": "markdown",
   "id": "1815a8e9-2e7c-4d55-9697-5a5d96f2a4a4",
   "metadata": {},
   "source": [
    "## FLOAT"
   ]
  },
  {
   "cell_type": "code",
   "execution_count": 10,
   "id": "c9cc94bd-83d9-4f6a-aea0-98b90395901f",
   "metadata": {},
   "outputs": [
    {
     "name": "stdout",
     "output_type": "stream",
     "text": [
      "3.5\n",
      "3 5\n"
     ]
    }
   ],
   "source": [
    "print(3.5)\n",
    "print(3,5)"
   ]
  },
  {
   "cell_type": "code",
   "execution_count": 11,
   "id": "1965ed7d-ba76-42b6-a823-7d994b0959e2",
   "metadata": {},
   "outputs": [
    {
     "name": "stdout",
     "output_type": "stream",
     "text": [
      "<class 'float'>\n"
     ]
    }
   ],
   "source": [
    "print(type(2.3))"
   ]
  },
  {
   "cell_type": "code",
   "execution_count": 12,
   "id": "759865e4-133e-4b6c-a463-cb0bec54214f",
   "metadata": {},
   "outputs": [
    {
     "name": "stdout",
     "output_type": "stream",
     "text": [
      "0.00042\n"
     ]
    }
   ],
   "source": [
    "print(4.2e-4)"
   ]
  },
  {
   "cell_type": "code",
   "execution_count": 14,
   "id": "4b8ba9f7-9091-4ca6-91d2-a25f77828d43",
   "metadata": {},
   "outputs": [
    {
     "name": "stdout",
     "output_type": "stream",
     "text": [
      "<class 'float'>\n"
     ]
    }
   ],
   "source": [
    "print(type(4.2e7))"
   ]
  },
  {
   "cell_type": "markdown",
   "id": "04c4f1de-a942-49e2-84a9-6a9e67377d95",
   "metadata": {},
   "source": [
    "## String"
   ]
  },
  {
   "cell_type": "code",
   "execution_count": 3,
   "id": "54112a63-9809-4329-83d7-317142114f13",
   "metadata": {},
   "outputs": [
    {
     "name": "stdout",
     "output_type": "stream",
     "text": [
      "halo\n"
     ]
    }
   ],
   "source": [
    "print('halo')"
   ]
  },
  {
   "cell_type": "code",
   "execution_count": 4,
   "id": "a23437c5-047c-4406-b73e-fc80bc8a97cf",
   "metadata": {},
   "outputs": [
    {
     "name": "stdout",
     "output_type": "stream",
     "text": [
      "saya\n"
     ]
    }
   ],
   "source": [
    "print('saya')"
   ]
  },
  {
   "cell_type": "code",
   "execution_count": 15,
   "id": "03429d18-6d5c-4adc-a9df-c9a7d95402fd",
   "metadata": {},
   "outputs": [
    {
     "name": "stdout",
     "output_type": "stream",
     "text": [
      "Nama Saya adalah Tassyi\n"
     ]
    }
   ],
   "source": [
    "print(\"Nama Saya adalah Tassyi\")"
   ]
  },
  {
   "cell_type": "code",
   "execution_count": 18,
   "id": "a3baf384-e79e-47bb-997f-d44076bc6051",
   "metadata": {},
   "outputs": [
    {
     "name": "stdout",
     "output_type": "stream",
     "text": [
      "<class 'str'>\n"
     ]
    }
   ],
   "source": [
    "print(type('Tassyi membaca buku'))"
   ]
  },
  {
   "cell_type": "markdown",
   "id": "5234ab1c-9967-4fa1-9eb6-1184d115c5fd",
   "metadata": {},
   "source": [
    "## Boolean"
   ]
  },
  {
   "cell_type": "code",
   "execution_count": 19,
   "id": "580411d0-8eff-4c81-813f-aa73529e900d",
   "metadata": {},
   "outputs": [
    {
     "data": {
      "text/plain": [
       "False"
      ]
     },
     "execution_count": 19,
     "metadata": {},
     "output_type": "execute_result"
    }
   ],
   "source": [
    "True\n",
    "False"
   ]
  },
  {
   "cell_type": "code",
   "execution_count": 20,
   "id": "9e7fedf4-fbc2-4429-98fb-063ccf9a6b7a",
   "metadata": {},
   "outputs": [
    {
     "name": "stdout",
     "output_type": "stream",
     "text": [
      "True\n"
     ]
    }
   ],
   "source": [
    "print(True)"
   ]
  },
  {
   "cell_type": "code",
   "execution_count": 21,
   "id": "27571470-2fda-4c53-9223-27a3541d3a08",
   "metadata": {},
   "outputs": [
    {
     "name": "stdout",
     "output_type": "stream",
     "text": [
      "False\n"
     ]
    }
   ],
   "source": [
    "print(False)"
   ]
  },
  {
   "cell_type": "code",
   "execution_count": 22,
   "id": "992835f7-96b5-4136-b312-3ced325785c3",
   "metadata": {},
   "outputs": [
    {
     "name": "stdout",
     "output_type": "stream",
     "text": [
      "<class 'bool'>\n"
     ]
    }
   ],
   "source": [
    "print(type(True))"
   ]
  },
  {
   "cell_type": "markdown",
   "id": "273036ec-9cbf-4af3-a908-a1524c55a8c8",
   "metadata": {},
   "source": [
    "Ada 4 Data Types yg sering digunakan\n",
    "* Integer\n",
    "* Float\n",
    "* String\n",
    "* Boolean"
   ]
  },
  {
   "cell_type": "markdown",
   "id": "91de3b16-333b-4600-88eb-7269b2bfa028",
   "metadata": {},
   "source": [
    "## Variable"
   ]
  },
  {
   "cell_type": "code",
   "execution_count": 25,
   "id": "da6fd992-9b8a-4e2a-ba57-dd7cb8331709",
   "metadata": {},
   "outputs": [
    {
     "name": "stdout",
     "output_type": "stream",
     "text": [
      "300\n",
      "<class 'int'>\n"
     ]
    }
   ],
   "source": [
    "angka = 300\n",
    "print(angka)\n",
    "print(type(angka))"
   ]
  },
  {
   "cell_type": "code",
   "execution_count": 26,
   "id": "9ef42236-3a17-457e-bd1f-7e8639642132",
   "metadata": {},
   "outputs": [
    {
     "name": "stdout",
     "output_type": "stream",
     "text": [
      "Haha\n",
      "<class 'str'>\n"
     ]
    }
   ],
   "source": [
    "teks = 'Haha'\n",
    "print(teks)\n",
    "print(type(teks))"
   ]
  },
  {
   "cell_type": "code",
   "execution_count": 27,
   "id": "ae83707d-788e-455c-aa02-4769b3bb18e2",
   "metadata": {},
   "outputs": [
    {
     "name": "stdout",
     "output_type": "stream",
     "text": [
      "300 300 300\n"
     ]
    }
   ],
   "source": [
    "a = b = c = 300\n",
    "print(a,b,c)"
   ]
  },
  {
   "cell_type": "code",
   "execution_count": 29,
   "id": "4af04b37-3cba-4cc7-b298-ae683b918a07",
   "metadata": {},
   "outputs": [
    {
     "name": "stdout",
     "output_type": "stream",
     "text": [
      "300\n",
      "<class 'int'>\n"
     ]
    }
   ],
   "source": [
    "print(b)\n",
    "print(type(b))"
   ]
  },
  {
   "cell_type": "code",
   "execution_count": 30,
   "id": "5767b534-b0f9-4591-b618-e96509ebc1ba",
   "metadata": {},
   "outputs": [
    {
     "name": "stdout",
     "output_type": "stream",
     "text": [
      "Bekasi\n"
     ]
    }
   ],
   "source": [
    "rumah_saya = 'Bekasi'\n",
    "print(rumah_saya)"
   ]
  },
  {
   "cell_type": "code",
   "execution_count": 32,
   "id": "8808cbed-ec8d-4aeb-b440-e745061f11a9",
   "metadata": {},
   "outputs": [
    {
     "name": "stdout",
     "output_type": "stream",
     "text": [
      "Bekasi Jakarta\n"
     ]
    }
   ],
   "source": [
    "rumah = 'Bekasi'\n",
    "Rumah = 'Jakarta'\n",
    "\n",
    "print(rumah, Rumah)"
   ]
  },
  {
   "cell_type": "code",
   "execution_count": 34,
   "id": "09174b8f-6edf-40c9-8290-a8b10069f7a7",
   "metadata": {},
   "outputs": [
    {
     "name": "stdout",
     "output_type": "stream",
     "text": [
      "a\n"
     ]
    }
   ],
   "source": [
    "# Nama variabel tidak boleh dimulai dengan angka\n",
    "# 0_rumah = 'a'\n",
    "# tapi\n",
    "\n",
    "rumah_0 = 'a'\n",
    "print(rumah_0)"
   ]
  },
  {
   "cell_type": "markdown",
   "id": "a5e7dcb3-a770-4751-9768-1869a709090c",
   "metadata": {},
   "source": [
    "## Arithmetic Operators"
   ]
  },
  {
   "cell_type": "code",
   "execution_count": 37,
   "id": "19106cfd-8258-45bf-a76e-c39ab3f1044c",
   "metadata": {},
   "outputs": [
    {
     "name": "stdout",
     "output_type": "stream",
     "text": [
      "30\n",
      "-10\n",
      "200\n",
      "0.5\n"
     ]
    }
   ],
   "source": [
    "a = 10\n",
    "b = 20\n",
    "\n",
    "#Penambahan\n",
    "print(a+b)\n",
    "\n",
    "#Pengurangan\n",
    "print(a-b)\n",
    "\n",
    "#Perkalian\n",
    "print(a*b)\n",
    "\n",
    "#Pembagian\n",
    "print(a/b)"
   ]
  },
  {
   "cell_type": "code",
   "execution_count": 40,
   "id": "df90faf2-b657-4f27-a304-3eca8c8b1534",
   "metadata": {},
   "outputs": [
    {
     "name": "stdout",
     "output_type": "stream",
     "text": [
      "0\n",
      "1.5\n",
      "1\n",
      "<class 'float'>\n",
      "<class 'int'>\n"
     ]
    }
   ],
   "source": [
    "#melakukan pembulatan ke bawah\n",
    "print(a//b)\n",
    "\n",
    "print(3/2)\n",
    "print(3//2)\n",
    "\n",
    "print(type(3/2))\n",
    "print(type(3//2))"
   ]
  },
  {
   "cell_type": "code",
   "execution_count": 42,
   "id": "786c2012-f4d1-4d92-98ca-976094d48c2a",
   "metadata": {},
   "outputs": [
    {
     "name": "stdout",
     "output_type": "stream",
     "text": [
      "3.5\n",
      "1\n",
      "1\n",
      "0\n"
     ]
    }
   ],
   "source": [
    "# Modulo (%)\n",
    "print(7/2)\n",
    "print(7%2) # 3 sisa 1\n",
    "\n",
    "print(11%2)\n",
    "print(10%2)"
   ]
  },
  {
   "cell_type": "code",
   "execution_count": 44,
   "id": "d4655837-1a64-4243-b168-dbcf371ba1e8",
   "metadata": {},
   "outputs": [
    {
     "name": "stdout",
     "output_type": "stream",
     "text": [
      "49\n",
      "4\n"
     ]
    }
   ],
   "source": [
    "# Pangkat (**)\n",
    "print (7**2)\n",
    "print(2**2)"
   ]
  },
  {
   "cell_type": "markdown",
   "id": "43a82e17-adf6-41c2-b4df-93f3594669dc",
   "metadata": {},
   "source": [
    "### QUIZ 1"
   ]
  },
  {
   "cell_type": "code",
   "execution_count": 45,
   "id": "7ff2d7a8-963d-49e2-ac48-9dff7a0362fb",
   "metadata": {},
   "outputs": [
    {
     "name": "stdout",
     "output_type": "stream",
     "text": [
      "Konversi Celcius to Fahrenheit\n",
      "86.0\n"
     ]
    }
   ],
   "source": [
    "print('Konversi Celcius to Fahrenheit')\n",
    "\n",
    "celcius = 30\n",
    "fahrenheit = (9/5 * celcius) + 32\n",
    "\n",
    "print(fahrenheit)"
   ]
  },
  {
   "cell_type": "markdown",
   "id": "0ba8a1fa-3b56-4d6e-82be-77750bdf01e8",
   "metadata": {
    "tags": []
   },
   "source": [
    "## Comparison Operators"
   ]
  },
  {
   "cell_type": "code",
   "execution_count": 47,
   "id": "473a72fe-cfd6-4f56-b28c-8a6ee1f81f66",
   "metadata": {},
   "outputs": [
    {
     "name": "stdout",
     "output_type": "stream",
     "text": [
      "False\n",
      "True\n"
     ]
    }
   ],
   "source": [
    "c = 10\n",
    "d = 30\n",
    "e = 10\n",
    "\n",
    "#Persamaan (==)\n",
    "print(c==d)\n",
    "print(c==e)"
   ]
  },
  {
   "cell_type": "code",
   "execution_count": 50,
   "id": "95c09785-6309-43f5-b4b5-8270f6080b15",
   "metadata": {},
   "outputs": [
    {
     "name": "stdout",
     "output_type": "stream",
     "text": [
      "False\n",
      "True\n",
      "False\n",
      "True\n",
      "True\n",
      "True\n"
     ]
    }
   ],
   "source": [
    "print(c>d)\n",
    "print(c<d)\n",
    "print(c>=d)\n",
    "print(c<=d)\n",
    "print(c<=e)\n",
    "print(c>=e)"
   ]
  },
  {
   "cell_type": "code",
   "execution_count": 51,
   "id": "28c5971d",
   "metadata": {},
   "outputs": [
    {
     "name": "stdout",
     "output_type": "stream",
     "text": [
      "True\n",
      "False\n"
     ]
    }
   ],
   "source": [
    "# Tidak sama dengan / Not Equal (!=)\n",
    "print(c!=d)\n",
    "print(c!=e)"
   ]
  },
  {
   "cell_type": "code",
   "execution_count": 53,
   "id": "4dedd2b1",
   "metadata": {},
   "outputs": [
    {
     "name": "stdout",
     "output_type": "stream",
     "text": [
      "False\n",
      "True\n",
      "True\n"
     ]
    }
   ],
   "source": [
    "rumah1 = 'bekasi'\n",
    "rumah2 = 'Jakarta'\n",
    "rumah3 = 'Jakarta'\n",
    "print(rumah1 == rumah3)\n",
    "print(rumah1 != rumah3)\n",
    "print(rumah2 == rumah3)"
   ]
  },
  {
   "cell_type": "code",
   "execution_count": 59,
   "id": "69e8f008",
   "metadata": {},
   "outputs": [
    {
     "name": "stdout",
     "output_type": "stream",
     "text": [
      "True\n",
      "0\n"
     ]
    }
   ],
   "source": [
    "print(c & e != d)\n",
    "print(10 & 20)"
   ]
  },
  {
   "cell_type": "markdown",
   "id": "0832bc9d",
   "metadata": {},
   "source": [
    "## String Manipulation"
   ]
  },
  {
   "cell_type": "code",
   "execution_count": 62,
   "id": "8b6764f9",
   "metadata": {},
   "outputs": [
    {
     "name": "stdout",
     "output_type": "stream",
     "text": [
      "foobar\n",
      "foobarbaz\n"
     ]
    }
   ],
   "source": [
    "# Opeerator +\n",
    "s = 'foo'\n",
    "t = 'bar'\n",
    "u = 'baz'\n",
    "\n",
    "print(s+t)\n",
    "print(s+t+u)"
   ]
  },
  {
   "cell_type": "code",
   "execution_count": 65,
   "id": "44fea84c",
   "metadata": {},
   "outputs": [
    {
     "name": "stdout",
     "output_type": "stream",
     "text": [
      "foofoofoofoofoofoofoofoofoofoofoofoo\n"
     ]
    }
   ],
   "source": [
    "# Operator *\n",
    "print(s*12)"
   ]
  },
  {
   "cell_type": "code",
   "execution_count": 66,
   "id": "2fc70790",
   "metadata": {},
   "outputs": [
    {
     "name": "stdout",
     "output_type": "stream",
     "text": [
      "True\n",
      "False\n"
     ]
    }
   ],
   "source": [
    "#Operator in\n",
    "a = 'buah'\n",
    "print(a in 'Saya mau beli buah')\n",
    "print(a in 'Saya mau beli singkong')"
   ]
  },
  {
   "cell_type": "code",
   "execution_count": 69,
   "id": "bfe140aa",
   "metadata": {},
   "outputs": [
    {
     "name": "stdout",
     "output_type": "stream",
     "text": [
      "True\n"
     ]
    }
   ],
   "source": [
    "print( a in ['buah', 'ayam'])"
   ]
  },
  {
   "cell_type": "code",
   "execution_count": 70,
   "id": "15fb1495",
   "metadata": {},
   "outputs": [
    {
     "name": "stdout",
     "output_type": "stream",
     "text": [
      "buah\n"
     ]
    }
   ],
   "source": [
    "# Case Conversation\n",
    "b = 'BUAH'\n",
    "print(b.lower())"
   ]
  },
  {
   "cell_type": "code",
   "execution_count": 73,
   "id": "8135a3ae",
   "metadata": {},
   "outputs": [
    {
     "name": "stdout",
     "output_type": "stream",
     "text": [
      "Apasichh\n",
      "APASICHH\n"
     ]
    }
   ],
   "source": [
    "c = 'aPasIChh'\n",
    "print(c.capitalize())\n",
    "print(c.upper())"
   ]
  },
  {
   "cell_type": "code",
   "execution_count": 78,
   "id": "14328557",
   "metadata": {},
   "outputs": [
    {
     "name": "stdout",
     "output_type": "stream",
     "text": [
      "Saya mau makan\n",
      "Saya Mau Makan\n",
      "sAYA mAU MAkaN\n",
      "saya mau makan\n"
     ]
    }
   ],
   "source": [
    "d = 'Saya Mau maKAn'\n",
    "print(d.capitalize())\n",
    "print(d.title())\n",
    "print(d.swapcase())\n",
    "print(d.lower())"
   ]
  },
  {
   "cell_type": "markdown",
   "id": "3413f3ea",
   "metadata": {},
   "source": [
    "## Python Lists\n",
    "\n",
    "order . . terurut"
   ]
  },
  {
   "cell_type": "code",
   "execution_count": 82,
   "id": "2b8b001e",
   "metadata": {},
   "outputs": [
    {
     "name": "stdout",
     "output_type": "stream",
     "text": [
      "['saya', 'mau', 'makan']\n"
     ]
    }
   ],
   "source": [
    "a = ['saya', 'mau', 'makan']\n",
    "c = ['makan', 'saya', 'mau']\n",
    "print(a)"
   ]
  },
  {
   "cell_type": "code",
   "execution_count": 81,
   "id": "9ce93151",
   "metadata": {},
   "outputs": [
    {
     "name": "stdout",
     "output_type": "stream",
     "text": [
      "['saya', 1, True, 3.7]\n"
     ]
    }
   ],
   "source": [
    "b = ['saya', 1, True, 3.7]\n",
    "print(b)"
   ]
  },
  {
   "cell_type": "code",
   "execution_count": 83,
   "id": "bb945de3",
   "metadata": {},
   "outputs": [
    {
     "name": "stdout",
     "output_type": "stream",
     "text": [
      "False\n"
     ]
    }
   ],
   "source": [
    "print(a==c)"
   ]
  },
  {
   "cell_type": "code",
   "execution_count": 84,
   "id": "6a1caaa8",
   "metadata": {},
   "outputs": [
    {
     "name": "stdout",
     "output_type": "stream",
     "text": [
      "['foo', 'bar', 'baz', 'qux', 'quux', 'corge']\n"
     ]
    }
   ],
   "source": [
    "# List can be accessed by Index\n",
    "\n",
    "a = ['foo', 'bar', 'baz', 'qux', 'quux', 'corge']\n",
    "print (a)"
   ]
  },
  {
   "cell_type": "code",
   "execution_count": 85,
   "id": "0c7c17f0",
   "metadata": {},
   "outputs": [
    {
     "name": "stdout",
     "output_type": "stream",
     "text": [
      "foo\n",
      "qux\n"
     ]
    }
   ],
   "source": [
    "#indexing\n",
    "print(a[0])\n",
    "print(a[3])"
   ]
  },
  {
   "cell_type": "code",
   "execution_count": 86,
   "id": "553a8fef",
   "metadata": {},
   "outputs": [
    {
     "name": "stdout",
     "output_type": "stream",
     "text": [
      "foo\n"
     ]
    }
   ],
   "source": [
    "print(a[-6])"
   ]
  },
  {
   "cell_type": "code",
   "execution_count": 87,
   "id": "60117034",
   "metadata": {},
   "outputs": [
    {
     "name": "stdout",
     "output_type": "stream",
     "text": [
      "True\n"
     ]
    }
   ],
   "source": [
    "print(a[-6]==a[0])"
   ]
  },
  {
   "cell_type": "code",
   "execution_count": 88,
   "id": "8e64da85",
   "metadata": {},
   "outputs": [
    {
     "name": "stdout",
     "output_type": "stream",
     "text": [
      "i\n"
     ]
    }
   ],
   "source": [
    "x = 'budi'\n",
    "print(x[-1])"
   ]
  },
  {
   "cell_type": "code",
   "execution_count": 91,
   "id": "58a080e1",
   "metadata": {},
   "outputs": [
    {
     "name": "stdout",
     "output_type": "stream",
     "text": [
      "['bar', 'baz', 'qux', 'quux', 'corge']\n"
     ]
    }
   ],
   "source": [
    "# Slicing\n",
    "a = ['foo', 'bar', 'baz', 'qux', 'quux', 'corge']\n",
    "print(a[1:6])"
   ]
  },
  {
   "cell_type": "code",
   "execution_count": 95,
   "id": "d921f909",
   "metadata": {},
   "outputs": [
    {
     "name": "stdout",
     "output_type": "stream",
     "text": [
      "ud\n",
      "['bar', 'baz', 'qux', 'quux', 'corge']\n",
      "['foo', 'bar', 'baz', 'qux', 'quux', 'corge']\n"
     ]
    }
   ],
   "source": [
    "x = 'budi'\n",
    "print(x[1:3])\n",
    "print(a[1:])\n",
    "print(a[:])"
   ]
  },
  {
   "cell_type": "code",
   "execution_count": 97,
   "id": "9467ed75",
   "metadata": {},
   "outputs": [
    {
     "name": "stdout",
     "output_type": "stream",
     "text": [
      "Tingkir Suryanegara\n",
      "Jaka \n"
     ]
    }
   ],
   "source": [
    "y = 'Jaka Tingkir Suryanegara'\n",
    "print(y[5:])\n",
    "print(y[:5])"
   ]
  },
  {
   "cell_type": "markdown",
   "id": "d75509f1",
   "metadata": {},
   "source": [
    "## Prisip Slicing = [start : stop : step]"
   ]
  },
  {
   "cell_type": "code",
   "execution_count": 103,
   "id": "5c99bac6",
   "metadata": {},
   "outputs": [
    {
     "name": "stdout",
     "output_type": "stream",
     "text": [
      "Jk igi uyngr\n",
      "Jaka Tingkir Suryanegara\n",
      "Jaik rna\n",
      "aragenayruS rikgniT akaJ\n"
     ]
    }
   ],
   "source": [
    "y = 'Jaka Tingkir Suryanegara'\n",
    "print(y[0::2])\n",
    "print(y[0::1])\n",
    "print(y[0::3])\n",
    "print(y[::-1])"
   ]
  },
  {
   "cell_type": "markdown",
   "id": "66c64e04",
   "metadata": {},
   "source": [
    "## QUIZ 2"
   ]
  },
  {
   "cell_type": "code",
   "execution_count": 119,
   "id": "dc2ad300",
   "metadata": {},
   "outputs": [
    {
     "name": "stdout",
     "output_type": "stream",
     "text": [
      "i\n",
      "omi\n",
      "tmen\n",
      "kmte\n",
      "kmtn\n"
     ]
    }
   ],
   "source": [
    "a = 'komitmen'\n",
    "\n",
    "print(a[3])\n",
    "print(a[1:4])\n",
    "print(a[4:])\n",
    "print(a[::2])\n",
    "print(a[0]+a[2]+a[4]+a[7])"
   ]
  },
  {
   "cell_type": "code",
   "execution_count": 124,
   "id": "8af28994",
   "metadata": {},
   "outputs": [
    {
     "name": "stdout",
     "output_type": "stream",
     "text": [
      "2\n",
      "kmtn\n"
     ]
    }
   ],
   "source": [
    "print(a.index('m'))\n",
    "print(a[0:5:2]+a[a.index('n')])"
   ]
  },
  {
   "cell_type": "markdown",
   "id": "bd1c683c",
   "metadata": {},
   "source": [
    "## Modify List Values Based on Its Index"
   ]
  },
  {
   "cell_type": "code",
   "execution_count": 126,
   "id": "6582612a",
   "metadata": {},
   "outputs": [
    {
     "name": "stdout",
     "output_type": "stream",
     "text": [
      "['faa', 'bar', 'baz', 'qux', 'quux', 'corge']\n"
     ]
    }
   ],
   "source": [
    "a = ['foo', 'bar', 'baz', 'qux', 'quux', 'corge']\n",
    "a[a.index('foo')] = 'faa'\n",
    "print(a)"
   ]
  },
  {
   "cell_type": "code",
   "execution_count": 130,
   "id": "326b82ac",
   "metadata": {},
   "outputs": [
    {
     "ename": "ValueError",
     "evalue": "'faa' is not in list",
     "output_type": "error",
     "traceback": [
      "\u001b[1;31m---------------------------------------------------------------------------\u001b[0m",
      "\u001b[1;31mValueError\u001b[0m                                Traceback (most recent call last)",
      "Input \u001b[1;32mIn [130]\u001b[0m, in \u001b[0;36m<cell line: 1>\u001b[1;34m()\u001b[0m\n\u001b[1;32m----> 1\u001b[0m a[\u001b[43ma\u001b[49m\u001b[38;5;241;43m.\u001b[39;49m\u001b[43mindex\u001b[49m\u001b[43m(\u001b[49m\u001b[38;5;124;43m'\u001b[39;49m\u001b[38;5;124;43mfaa\u001b[39;49m\u001b[38;5;124;43m'\u001b[39;49m\u001b[43m)\u001b[49m] \u001b[38;5;241m=\u001b[39m \u001b[38;5;241m20\u001b[39m\n\u001b[0;32m      2\u001b[0m a[\u001b[38;5;241m-\u001b[39m\u001b[38;5;241m1\u001b[39m]\u001b[38;5;241m=\u001b[39m\u001b[38;5;124m'\u001b[39m\u001b[38;5;124mcorgi\u001b[39m\u001b[38;5;124m'\u001b[39m\n",
      "\u001b[1;31mValueError\u001b[0m: 'faa' is not in list"
     ]
    }
   ],
   "source": [
    "a[a.index('faa')] = 20\n",
    "a[-1]='corgi'"
   ]
  },
  {
   "cell_type": "code",
   "execution_count": 131,
   "id": "b614735c",
   "metadata": {},
   "outputs": [
    {
     "name": "stdout",
     "output_type": "stream",
     "text": [
      "[20, 'bar', 'baz', 'qux', 'quux', 'corgi']\n"
     ]
    }
   ],
   "source": [
    "print(a)"
   ]
  },
  {
   "cell_type": "code",
   "execution_count": 132,
   "id": "cede880b",
   "metadata": {},
   "outputs": [
    {
     "name": "stdout",
     "output_type": "stream",
     "text": [
      "[20, 'bar', 'baz', 'qux', 'corgi']\n"
     ]
    }
   ],
   "source": [
    "# del command\n",
    "del a[a.index('quux')]\n",
    "print(a)"
   ]
  },
  {
   "cell_type": "code",
   "execution_count": 133,
   "id": "73ed20d2",
   "metadata": {},
   "outputs": [
    {
     "name": "stdout",
     "output_type": "stream",
     "text": [
      "[1, 2, 3, 'qux', 'quux', 'corge', 'quux']\n"
     ]
    }
   ],
   "source": [
    "a = ['foo', 'bar', 'baz', 'qux', 'quux', 'corge', 'quux']\n",
    "a[0:3] = [1,2,3]\n",
    "print(a)"
   ]
  },
  {
   "cell_type": "markdown",
   "id": "154c9665",
   "metadata": {},
   "source": [
    "## Tuple\n",
    "\n",
    "tuple ga bisa diremove kayak list\n",
    "ada juga set, tapi dia ga peduli urutan"
   ]
  },
  {
   "cell_type": "code",
   "execution_count": 134,
   "id": "0ce0f4b6",
   "metadata": {},
   "outputs": [
    {
     "name": "stdout",
     "output_type": "stream",
     "text": [
      "<class 'tuple'>\n"
     ]
    }
   ],
   "source": [
    "t = ('foo', 'bar', 'baz', 'qux', 'quux', 'corge', 'quux')\n",
    "print(type(t))"
   ]
  },
  {
   "cell_type": "code",
   "execution_count": 136,
   "id": "0e45dde1",
   "metadata": {},
   "outputs": [
    {
     "name": "stdout",
     "output_type": "stream",
     "text": [
      "('foo', 'bar', 'baz')\n"
     ]
    }
   ],
   "source": [
    "print(t[0:3])"
   ]
  },
  {
   "cell_type": "code",
   "execution_count": 137,
   "id": "c3ee4275",
   "metadata": {},
   "outputs": [
    {
     "ename": "TypeError",
     "evalue": "'tuple' object does not support item assignment",
     "output_type": "error",
     "traceback": [
      "\u001b[1;31m---------------------------------------------------------------------------\u001b[0m",
      "\u001b[1;31mTypeError\u001b[0m                                 Traceback (most recent call last)",
      "Input \u001b[1;32mIn [137]\u001b[0m, in \u001b[0;36m<cell line: 1>\u001b[1;34m()\u001b[0m\n\u001b[1;32m----> 1\u001b[0m t[\u001b[38;5;241m0\u001b[39m] \u001b[38;5;241m=\u001b[39m \u001b[38;5;241m1\u001b[39m\n",
      "\u001b[1;31mTypeError\u001b[0m: 'tuple' object does not support item assignment"
     ]
    }
   ],
   "source": [
    "t[0] = 1"
   ]
  },
  {
   "cell_type": "markdown",
   "id": "f5dd0848",
   "metadata": {},
   "source": [
    "## Dictionary"
   ]
  },
  {
   "cell_type": "code",
   "execution_count": 139,
   "id": "66416d62",
   "metadata": {},
   "outputs": [
    {
     "name": "stdout",
     "output_type": "stream",
     "text": [
      "Rockies\n"
     ]
    }
   ],
   "source": [
    "#key di kiri values di kanan\n",
    "# banyak berhubungan dengan tabel\n",
    "MLB_team = {\n",
    "    'Colorado' : 'Rockies',\n",
    "    'Boston' : 'Red Sox',\n",
    "    'Minnesota': 'Twins',\n",
    "    'Milwaukee': 'Brewers',\n",
    "    'Seattle' : 'Mariners'\n",
    "}\n",
    "\n",
    "print(MLB_team['Colorado'])"
   ]
  },
  {
   "cell_type": "code",
   "execution_count": 140,
   "id": "797d451e",
   "metadata": {},
   "outputs": [
    {
     "name": "stdout",
     "output_type": "stream",
     "text": [
      "Red Sox\n"
     ]
    }
   ],
   "source": [
    "print(MLB_team['Boston'])"
   ]
  },
  {
   "cell_type": "code",
   "execution_count": 141,
   "id": "1c20a2ac",
   "metadata": {},
   "outputs": [
    {
     "name": "stdout",
     "output_type": "stream",
     "text": [
      "{'Colorado': 'Rockies', 'Boston': 'Red Sox', 'Minnesota': 'Twins', 'Milwaukee': 'Brewers', 'Seattle': 'Mariners', 'Kansas City': 'Royals'}\n"
     ]
    }
   ],
   "source": [
    "#nambah key dan values\n",
    "MLB_team['Kansas City'] = 'Royals'\n",
    "print(MLB_team)"
   ]
  },
  {
   "cell_type": "code",
   "execution_count": 142,
   "id": "b7dd9a34",
   "metadata": {},
   "outputs": [
    {
     "name": "stdout",
     "output_type": "stream",
     "text": [
      "{'Colorado': 'Rockies', 'Boston': 'Red Sox', 'Minnesota': 'Twins', 'Milwaukee': 'Brewers', 'Seattle': 'Seahawks', 'Kansas City': 'Royals'}\n"
     ]
    }
   ],
   "source": [
    "# Update values\n",
    "MLB_team['Seattle'] = 'Seahawks'\n",
    "print(MLB_team)"
   ]
  },
  {
   "cell_type": "code",
   "execution_count": 143,
   "id": "9656959d",
   "metadata": {},
   "outputs": [
    {
     "name": "stdout",
     "output_type": "stream",
     "text": [
      "{'Boston': 'Red Sox', 'Minnesota': 'Twins', 'Milwaukee': 'Brewers', 'Seattle': 'Seahawks', 'Kansas City': 'Royals'}\n"
     ]
    }
   ],
   "source": [
    "# del command\n",
    "del MLB_team['Colorado']\n",
    "print(MLB_team)"
   ]
  },
  {
   "cell_type": "code",
   "execution_count": 144,
   "id": "5179a21e",
   "metadata": {},
   "outputs": [
    {
     "name": "stdout",
     "output_type": "stream",
     "text": [
      "<class 'dict'>\n"
     ]
    }
   ],
   "source": [
    "orang = {}\n",
    "print(type(orang))"
   ]
  },
  {
   "cell_type": "code",
   "execution_count": 149,
   "id": "4f7b720a",
   "metadata": {},
   "outputs": [
    {
     "name": "stdout",
     "output_type": "stream",
     "text": [
      "{'Nama': 'Tassyi', 'Jurusan': 'Informatika', 'Umur': 20, 'Teman': {'Raissa': 'Kedokteran', 'Izza': 'Matematika'}, 'Motor': ['Scoopy', 'Beat']}\n"
     ]
    }
   ],
   "source": [
    "orang['Nama'] = 'Tassyi'\n",
    "orang['Jurusan'] = 'Informatika'\n",
    "orang['Umur'] = 20\n",
    "orang['Teman'] = {'Raissa' : 'Kedokteran','Izza' : 'Matematika'}\n",
    "orang['Motor'] = ['Scoopy', 'Beat']\n",
    "\n",
    "print(orang)"
   ]
  },
  {
   "cell_type": "code",
   "execution_count": 150,
   "id": "e5927f4a",
   "metadata": {},
   "outputs": [
    {
     "name": "stdout",
     "output_type": "stream",
     "text": [
      "Kedokteran\n"
     ]
    }
   ],
   "source": [
    "print(orang['Teman']['Raissa'])"
   ]
  },
  {
   "cell_type": "markdown",
   "id": "6cabae31",
   "metadata": {},
   "source": [
    "## Line Continuation"
   ]
  },
  {
   "cell_type": "code",
   "execution_count": 151,
   "id": "146fa00a",
   "metadata": {},
   "outputs": [
    {
     "name": "stdout",
     "output_type": "stream",
     "text": [
      "True\n",
      "False\n",
      "True\n",
      "True\n",
      "False\n",
      "False\n"
     ]
    }
   ],
   "source": [
    "print(True and True)\n",
    "print(True and False)\n",
    "print(True or True)\n",
    "print(True or False)\n",
    "print(False and False)\n",
    "print(False and True)"
   ]
  },
  {
   "cell_type": "code",
   "execution_count": 153,
   "id": "c765df1e",
   "metadata": {},
   "outputs": [
    {
     "name": "stdout",
     "output_type": "stream",
     "text": [
      "True\n",
      "False\n",
      "False\n"
     ]
    }
   ],
   "source": [
    "umur1 = 42\n",
    "umur2 = 16\n",
    "umur3 = 71\n",
    "\n",
    "print(umur1>=18 and umur1<=65)\n",
    "print(umur2>=18 and umur2<=65)\n",
    "print(umur3>=18 and umur3<=65)"
   ]
  },
  {
   "cell_type": "markdown",
   "id": "ed7842f8",
   "metadata": {},
   "source": [
    "### How to check one of them is of working age"
   ]
  },
  {
   "cell_type": "code",
   "execution_count": 154,
   "id": "ec2c8fe6",
   "metadata": {},
   "outputs": [
    {
     "name": "stdout",
     "output_type": "stream",
     "text": [
      "True\n"
     ]
    }
   ],
   "source": [
    "print((umur1>=18 and umur1<=65) or (umur2>=18 and umur2<=65) or (umur3>=18 and umur3<=65))"
   ]
  },
  {
   "cell_type": "markdown",
   "id": "a0eb06e4",
   "metadata": {},
   "source": [
    "## Materi Tambahan"
   ]
  },
  {
   "cell_type": "code",
   "execution_count": 155,
   "id": "131e3912",
   "metadata": {},
   "outputs": [],
   "source": [
    "mobil = 'Toyota'\n",
    "kendaraan = mobil"
   ]
  },
  {
   "cell_type": "code",
   "execution_count": 159,
   "id": "a13abe76",
   "metadata": {},
   "outputs": [
    {
     "name": "stdout",
     "output_type": "stream",
     "text": [
      "Toyota kijang\n"
     ]
    }
   ],
   "source": [
    "mobil = 'Toyota'\n",
    "kendaraan = mobil\n",
    "\n",
    "kendaraan = kendaraan + ' kijang'\n",
    "print(kendaraan)"
   ]
  },
  {
   "cell_type": "code",
   "execution_count": 160,
   "id": "26c25fce",
   "metadata": {},
   "outputs": [
    {
     "name": "stdout",
     "output_type": "stream",
     "text": [
      "['Toyota', 'Kijang', 'Isuzu']\n"
     ]
    }
   ],
   "source": [
    "mobil = ['Toyota', 'Kijang']\n",
    "mobil.append('Isuzu')\n",
    "print(mobil)"
   ]
  },
  {
   "cell_type": "code",
   "execution_count": 161,
   "id": "03deb00a",
   "metadata": {},
   "outputs": [
    {
     "name": "stdout",
     "output_type": "stream",
     "text": [
      "['Pisang', 'Jeruk']\n"
     ]
    }
   ],
   "source": [
    "buah = ['Pisang', 'Jeruk', 'Apel']\n",
    "buah.pop()\n",
    "print(buah)"
   ]
  },
  {
   "cell_type": "code",
   "execution_count": 162,
   "id": "0d5889e9",
   "metadata": {},
   "outputs": [
    {
     "data": {
      "text/plain": [
       "'Jeruk'"
      ]
     },
     "execution_count": 162,
     "metadata": {},
     "output_type": "execute_result"
    }
   ],
   "source": [
    "buah = ['Pisang', 'Jeruk', 'Apel']\n",
    "buah.pop(1)"
   ]
  },
  {
   "cell_type": "code",
   "execution_count": 166,
   "id": "6f5c0b0d",
   "metadata": {},
   "outputs": [
    {
     "name": "stdout",
     "output_type": "stream",
     "text": [
      "['Toyota', 'Kijang', 'Isuzu']\n"
     ]
    }
   ],
   "source": [
    "kendaraan = mobil.copy()\n",
    "\n",
    "print(kendaraan)\n"
   ]
  },
  {
   "cell_type": "code",
   "execution_count": 168,
   "id": "57a25b1f",
   "metadata": {},
   "outputs": [
    {
     "name": "stdout",
     "output_type": "stream",
     "text": [
      "['Toyota', 'Kijang', 'Isuzu']\n",
      "['Toyota', 'Kijang', 'Isuzu', 'Innova', 'Innova']\n"
     ]
    }
   ],
   "source": [
    "kendaraan.append('Innova')\n",
    "print(mobil)\n",
    "print(kendaraan)"
   ]
  },
  {
   "cell_type": "code",
   "execution_count": 171,
   "id": "5c63b3c1",
   "metadata": {},
   "outputs": [],
   "source": [
    "# pop diinput index, remove diinput nama objectnya\n",
    "\n",
    "kendaraan.remove('Innova')"
   ]
  },
  {
   "cell_type": "code",
   "execution_count": 172,
   "id": "9ea638cd",
   "metadata": {},
   "outputs": [
    {
     "name": "stdout",
     "output_type": "stream",
     "text": [
      "['Toyota', 'Kijang', 'Isuzu']\n"
     ]
    }
   ],
   "source": [
    "print(kendaraan)"
   ]
  },
  {
   "cell_type": "code",
   "execution_count": null,
   "id": "4590793e",
   "metadata": {},
   "outputs": [],
   "source": []
  }
 ],
 "metadata": {
  "kernelspec": {
   "display_name": "Python 3 (ipykernel)",
   "language": "python",
   "name": "python3"
  },
  "language_info": {
   "codemirror_mode": {
    "name": "ipython",
    "version": 3
   },
   "file_extension": ".py",
   "mimetype": "text/x-python",
   "name": "python",
   "nbconvert_exporter": "python",
   "pygments_lexer": "ipython3",
   "version": "3.9.12"
  }
 },
 "nbformat": 4,
 "nbformat_minor": 5
}
