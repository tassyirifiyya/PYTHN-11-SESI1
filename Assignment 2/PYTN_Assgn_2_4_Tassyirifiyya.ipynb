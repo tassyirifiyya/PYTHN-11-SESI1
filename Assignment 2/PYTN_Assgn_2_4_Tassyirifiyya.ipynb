{
 "cells": [
  {
   "cell_type": "code",
   "execution_count": 1,
   "id": "3ebc4012",
   "metadata": {},
   "outputs": [],
   "source": [
    "#import library yang dibutuhkan\n",
    "import pandas as pd\n",
    "import numpy as np\n",
    "import scipy.stats\n",
    "import seaborn as sns\n",
    "import matplotlib.pyplot as plt\n",
    "%matplotlib inline\n",
    "import random\n",
    "import warnings\n",
    "import statsmodels.api as sm"
   ]
  },
  {
   "cell_type": "code",
   "execution_count": 2,
   "id": "cf401fde",
   "metadata": {},
   "outputs": [
    {
     "data": {
      "text/html": [
       "<div>\n",
       "<style scoped>\n",
       "    .dataframe tbody tr th:only-of-type {\n",
       "        vertical-align: middle;\n",
       "    }\n",
       "\n",
       "    .dataframe tbody tr th {\n",
       "        vertical-align: top;\n",
       "    }\n",
       "\n",
       "    .dataframe thead th {\n",
       "        text-align: right;\n",
       "    }\n",
       "</style>\n",
       "<table border=\"1\" class=\"dataframe\">\n",
       "  <thead>\n",
       "    <tr style=\"text-align: right;\">\n",
       "      <th></th>\n",
       "      <th>Unnamed: 0</th>\n",
       "      <th>BOROUGH</th>\n",
       "      <th>NEIGHBORHOOD</th>\n",
       "      <th>BUILDING CLASS CATEGORY</th>\n",
       "      <th>TAX CLASS AT PRESENT</th>\n",
       "      <th>BLOCK</th>\n",
       "      <th>LOT</th>\n",
       "      <th>EASE-MENT</th>\n",
       "      <th>BUILDING CLASS AT PRESENT</th>\n",
       "      <th>ADDRESS</th>\n",
       "      <th>APARTMENT NUMBER</th>\n",
       "      <th>ZIP CODE</th>\n",
       "      <th>RESIDENTIAL UNITS</th>\n",
       "      <th>COMMERCIAL UNITS</th>\n",
       "      <th>TOTAL UNITS</th>\n",
       "      <th>LAND SQUARE FEET</th>\n",
       "      <th>GROSS SQUARE FEET</th>\n",
       "      <th>YEAR BUILT</th>\n",
       "      <th>TAX CLASS AT TIME OF SALE</th>\n",
       "      <th>BUILDING CLASS AT TIME OF SALE</th>\n",
       "      <th>SALE PRICE</th>\n",
       "      <th>SALE DATE</th>\n",
       "    </tr>\n",
       "  </thead>\n",
       "  <tbody>\n",
       "    <tr>\n",
       "      <th>0</th>\n",
       "      <td>4</td>\n",
       "      <td>1</td>\n",
       "      <td>ALPHABET CITY</td>\n",
       "      <td>07 RENTALS - WALKUP APARTMENTS</td>\n",
       "      <td>2A</td>\n",
       "      <td>392</td>\n",
       "      <td>6</td>\n",
       "      <td></td>\n",
       "      <td>C2</td>\n",
       "      <td>153 AVENUE B</td>\n",
       "      <td></td>\n",
       "      <td>10009</td>\n",
       "      <td>5</td>\n",
       "      <td>0</td>\n",
       "      <td>5</td>\n",
       "      <td>1633</td>\n",
       "      <td>6440</td>\n",
       "      <td>1900</td>\n",
       "      <td>2</td>\n",
       "      <td>C2</td>\n",
       "      <td>6625000</td>\n",
       "      <td>2017-07-19 00:00:00</td>\n",
       "    </tr>\n",
       "    <tr>\n",
       "      <th>1</th>\n",
       "      <td>5</td>\n",
       "      <td>1</td>\n",
       "      <td>ALPHABET CITY</td>\n",
       "      <td>07 RENTALS - WALKUP APARTMENTS</td>\n",
       "      <td>2</td>\n",
       "      <td>399</td>\n",
       "      <td>26</td>\n",
       "      <td></td>\n",
       "      <td>C7</td>\n",
       "      <td>234 EAST 4TH   STREET</td>\n",
       "      <td></td>\n",
       "      <td>10009</td>\n",
       "      <td>28</td>\n",
       "      <td>3</td>\n",
       "      <td>31</td>\n",
       "      <td>4616</td>\n",
       "      <td>18690</td>\n",
       "      <td>1900</td>\n",
       "      <td>2</td>\n",
       "      <td>C7</td>\n",
       "      <td>-</td>\n",
       "      <td>2016-12-14 00:00:00</td>\n",
       "    </tr>\n",
       "    <tr>\n",
       "      <th>2</th>\n",
       "      <td>6</td>\n",
       "      <td>1</td>\n",
       "      <td>ALPHABET CITY</td>\n",
       "      <td>07 RENTALS - WALKUP APARTMENTS</td>\n",
       "      <td>2</td>\n",
       "      <td>399</td>\n",
       "      <td>39</td>\n",
       "      <td></td>\n",
       "      <td>C7</td>\n",
       "      <td>197 EAST 3RD   STREET</td>\n",
       "      <td></td>\n",
       "      <td>10009</td>\n",
       "      <td>16</td>\n",
       "      <td>1</td>\n",
       "      <td>17</td>\n",
       "      <td>2212</td>\n",
       "      <td>7803</td>\n",
       "      <td>1900</td>\n",
       "      <td>2</td>\n",
       "      <td>C7</td>\n",
       "      <td>-</td>\n",
       "      <td>2016-12-09 00:00:00</td>\n",
       "    </tr>\n",
       "    <tr>\n",
       "      <th>3</th>\n",
       "      <td>7</td>\n",
       "      <td>1</td>\n",
       "      <td>ALPHABET CITY</td>\n",
       "      <td>07 RENTALS - WALKUP APARTMENTS</td>\n",
       "      <td>2B</td>\n",
       "      <td>402</td>\n",
       "      <td>21</td>\n",
       "      <td></td>\n",
       "      <td>C4</td>\n",
       "      <td>154 EAST 7TH STREET</td>\n",
       "      <td></td>\n",
       "      <td>10009</td>\n",
       "      <td>10</td>\n",
       "      <td>0</td>\n",
       "      <td>10</td>\n",
       "      <td>2272</td>\n",
       "      <td>6794</td>\n",
       "      <td>1913</td>\n",
       "      <td>2</td>\n",
       "      <td>C4</td>\n",
       "      <td>3936272</td>\n",
       "      <td>2016-09-23 00:00:00</td>\n",
       "    </tr>\n",
       "    <tr>\n",
       "      <th>4</th>\n",
       "      <td>8</td>\n",
       "      <td>1</td>\n",
       "      <td>ALPHABET CITY</td>\n",
       "      <td>07 RENTALS - WALKUP APARTMENTS</td>\n",
       "      <td>2A</td>\n",
       "      <td>404</td>\n",
       "      <td>55</td>\n",
       "      <td></td>\n",
       "      <td>C2</td>\n",
       "      <td>301 EAST 10TH   STREET</td>\n",
       "      <td></td>\n",
       "      <td>10009</td>\n",
       "      <td>6</td>\n",
       "      <td>0</td>\n",
       "      <td>6</td>\n",
       "      <td>2369</td>\n",
       "      <td>4615</td>\n",
       "      <td>1900</td>\n",
       "      <td>2</td>\n",
       "      <td>C2</td>\n",
       "      <td>8000000</td>\n",
       "      <td>2016-11-17 00:00:00</td>\n",
       "    </tr>\n",
       "  </tbody>\n",
       "</table>\n",
       "</div>"
      ],
      "text/plain": [
       "   Unnamed: 0  BOROUGH   NEIGHBORHOOD  \\\n",
       "0           4        1  ALPHABET CITY   \n",
       "1           5        1  ALPHABET CITY   \n",
       "2           6        1  ALPHABET CITY   \n",
       "3           7        1  ALPHABET CITY   \n",
       "4           8        1  ALPHABET CITY   \n",
       "\n",
       "                       BUILDING CLASS CATEGORY TAX CLASS AT PRESENT  BLOCK  \\\n",
       "0  07 RENTALS - WALKUP APARTMENTS                                2A    392   \n",
       "1  07 RENTALS - WALKUP APARTMENTS                                 2    399   \n",
       "2  07 RENTALS - WALKUP APARTMENTS                                 2    399   \n",
       "3  07 RENTALS - WALKUP APARTMENTS                                2B    402   \n",
       "4  07 RENTALS - WALKUP APARTMENTS                                2A    404   \n",
       "\n",
       "   LOT EASE-MENT BUILDING CLASS AT PRESENT                 ADDRESS  \\\n",
       "0    6                                  C2            153 AVENUE B   \n",
       "1   26                                  C7   234 EAST 4TH   STREET   \n",
       "2   39                                  C7   197 EAST 3RD   STREET   \n",
       "3   21                                  C4     154 EAST 7TH STREET   \n",
       "4   55                                  C2  301 EAST 10TH   STREET   \n",
       "\n",
       "  APARTMENT NUMBER  ZIP CODE  RESIDENTIAL UNITS  COMMERCIAL UNITS  \\\n",
       "0                      10009                  5                 0   \n",
       "1                      10009                 28                 3   \n",
       "2                      10009                 16                 1   \n",
       "3                      10009                 10                 0   \n",
       "4                      10009                  6                 0   \n",
       "\n",
       "   TOTAL UNITS LAND SQUARE FEET GROSS SQUARE FEET  YEAR BUILT  \\\n",
       "0            5             1633              6440        1900   \n",
       "1           31             4616             18690        1900   \n",
       "2           17             2212              7803        1900   \n",
       "3           10             2272              6794        1913   \n",
       "4            6             2369              4615        1900   \n",
       "\n",
       "   TAX CLASS AT TIME OF SALE BUILDING CLASS AT TIME OF SALE SALE PRICE  \\\n",
       "0                          2                             C2    6625000   \n",
       "1                          2                             C7        -     \n",
       "2                          2                             C7        -     \n",
       "3                          2                             C4    3936272   \n",
       "4                          2                             C2    8000000   \n",
       "\n",
       "             SALE DATE  \n",
       "0  2017-07-19 00:00:00  \n",
       "1  2016-12-14 00:00:00  \n",
       "2  2016-12-09 00:00:00  \n",
       "3  2016-09-23 00:00:00  \n",
       "4  2016-11-17 00:00:00  "
      ]
     },
     "execution_count": 2,
     "metadata": {},
     "output_type": "execute_result"
    }
   ],
   "source": [
    "df = pd.read_csv('dataset/nyc-rolling-sales.csv')\n",
    "pd.set_option('display.max.columns',25)\n",
    "df.head()"
   ]
  },
  {
   "cell_type": "markdown",
   "id": "80631a9c",
   "metadata": {},
   "source": [
    "**Kolom pada dataset ini memiliki 22 Kolom diantaranya adalah:**\n",
    "1. Unnamed: 0   :yang dinilai tidak memiliki informasi dataset yang berguna\n",
    "2. BOROUGH      : Merupakan salah satu dari wilayah NYC yaitu Bronx, Brooklyn, Manhattan, Queens, dan Staten Island.\n",
    "3. NEIGHBORHOOD : Nama lingkungan tempat properti berada\n",
    "4. BUILDING CLASS CATEGORY : kategori bangunan seperti apartemen, gedung kantor, gedung industri, dll\n",
    "5. TAX CLASS AT PRESENT : Kelas pajak yang menunjukkan jenis pajak properti yang berlaku saat ini\n",
    "6. BLOCK : Nomor blok dari properti\n",
    "7. LOT   : Nomor Lot properti\n",
    "8. EASE-MENT : Informasi mengenai akses atau hak kepemilikan di atas properti\n",
    "9. BUILDING CLASS AT PRESENT : Kategori jenis bangunan saat ini\n",
    "10. ADDRESS: Alamat properti\n",
    "11. APARTMENT NUMBER: Nomor apartemen\n",
    "12. ZIP CODE : Kode pos dari properti\n",
    "13. RESIDENTIAL UNITS: Jumlah unit residensial dalam properti\n",
    "14. COMMERCIAL UNITS: Jumlah unit komersial dalam properti\n",
    "15. TOTAL UNITS: Jumlah total unit dalam properti\n",
    "16. LAND SQUARE FEET: Luas tanah dalam persegi\n",
    "17. GROSS SQUARE FEET: Luas total bangunan dalam persegi\n",
    "18. YEAR BUILT : Tahun pembangunan properti\n",
    "19. TAX CLASS AT TIME OF SALE: Kelas pajak menunjukkan jenis pajak properti pada saat penjualan\n",
    "20. BUILDING CLASS AT TIME OF SALE: Kelas bangunan menunjukkan jenis bangunan pada saat penjualan\n",
    "21. SALE PRICE: Harga jual properti\n",
    "22. SALE DATE: Tanggal penjualan properti\n",
    "23. RECORD TYPE: Jenis catatan yang dihasilkan oleh Departemen Perpajakan dan Pelayanan Keuangan (Department of Finance) untuk transaksi properti."
   ]
  },
  {
   "cell_type": "markdown",
   "id": "f7ebdb16",
   "metadata": {},
   "source": [
    "**Menghapus kolom yang kurang penting**"
   ]
  },
  {
   "cell_type": "code",
   "execution_count": 3,
   "id": "d2f88cd8",
   "metadata": {},
   "outputs": [],
   "source": [
    "df.drop('Unnamed: 0',axis=1,inplace=True)"
   ]
  },
  {
   "cell_type": "markdown",
   "id": "a22e98ec",
   "metadata": {},
   "source": [
    "Kolom Unnamed: 0 dihapus karena dinilai tidak memiliki makna apapun dalam dataset"
   ]
  },
  {
   "cell_type": "markdown",
   "id": "ee45322a",
   "metadata": {},
   "source": [
    "**Memberikan informasi dataset**"
   ]
  },
  {
   "cell_type": "code",
   "execution_count": 4,
   "id": "afe8fd8b",
   "metadata": {},
   "outputs": [
    {
     "name": "stdout",
     "output_type": "stream",
     "text": [
      "<class 'pandas.core.frame.DataFrame'>\n",
      "RangeIndex: 84548 entries, 0 to 84547\n",
      "Data columns (total 21 columns):\n",
      " #   Column                          Non-Null Count  Dtype \n",
      "---  ------                          --------------  ----- \n",
      " 0   BOROUGH                         84548 non-null  int64 \n",
      " 1   NEIGHBORHOOD                    84548 non-null  object\n",
      " 2   BUILDING CLASS CATEGORY         84548 non-null  object\n",
      " 3   TAX CLASS AT PRESENT            84548 non-null  object\n",
      " 4   BLOCK                           84548 non-null  int64 \n",
      " 5   LOT                             84548 non-null  int64 \n",
      " 6   EASE-MENT                       84548 non-null  object\n",
      " 7   BUILDING CLASS AT PRESENT       84548 non-null  object\n",
      " 8   ADDRESS                         84548 non-null  object\n",
      " 9   APARTMENT NUMBER                84548 non-null  object\n",
      " 10  ZIP CODE                        84548 non-null  int64 \n",
      " 11  RESIDENTIAL UNITS               84548 non-null  int64 \n",
      " 12  COMMERCIAL UNITS                84548 non-null  int64 \n",
      " 13  TOTAL UNITS                     84548 non-null  int64 \n",
      " 14  LAND SQUARE FEET                84548 non-null  object\n",
      " 15  GROSS SQUARE FEET               84548 non-null  object\n",
      " 16  YEAR BUILT                      84548 non-null  int64 \n",
      " 17  TAX CLASS AT TIME OF SALE       84548 non-null  int64 \n",
      " 18  BUILDING CLASS AT TIME OF SALE  84548 non-null  object\n",
      " 19  SALE PRICE                      84548 non-null  object\n",
      " 20  SALE DATE                       84548 non-null  object\n",
      "dtypes: int64(9), object(12)\n",
      "memory usage: 13.5+ MB\n"
     ]
    }
   ],
   "source": [
    "df.info()"
   ]
  },
  {
   "cell_type": "markdown",
   "id": "a8351869",
   "metadata": {},
   "source": [
    "**Melihat nilai null dalam dataset**"
   ]
  },
  {
   "cell_type": "code",
   "execution_count": 5,
   "id": "45f67585",
   "metadata": {},
   "outputs": [
    {
     "data": {
      "text/plain": [
       "BOROUGH                           0\n",
       "NEIGHBORHOOD                      0\n",
       "BUILDING CLASS CATEGORY           0\n",
       "TAX CLASS AT PRESENT              0\n",
       "BLOCK                             0\n",
       "LOT                               0\n",
       "EASE-MENT                         0\n",
       "BUILDING CLASS AT PRESENT         0\n",
       "ADDRESS                           0\n",
       "APARTMENT NUMBER                  0\n",
       "ZIP CODE                          0\n",
       "RESIDENTIAL UNITS                 0\n",
       "COMMERCIAL UNITS                  0\n",
       "TOTAL UNITS                       0\n",
       "LAND SQUARE FEET                  0\n",
       "GROSS SQUARE FEET                 0\n",
       "YEAR BUILT                        0\n",
       "TAX CLASS AT TIME OF SALE         0\n",
       "BUILDING CLASS AT TIME OF SALE    0\n",
       "SALE PRICE                        0\n",
       "SALE DATE                         0\n",
       "dtype: int64"
      ]
     },
     "execution_count": 5,
     "metadata": {},
     "output_type": "execute_result"
    }
   ],
   "source": [
    "df.isnull().sum()"
   ]
  },
  {
   "cell_type": "markdown",
   "id": "7927f83f",
   "metadata": {},
   "source": [
    "**Menampilkan 5 Data Teratas**"
   ]
  },
  {
   "cell_type": "code",
   "execution_count": 6,
   "id": "c64e160f",
   "metadata": {},
   "outputs": [
    {
     "data": {
      "text/html": [
       "<div>\n",
       "<style scoped>\n",
       "    .dataframe tbody tr th:only-of-type {\n",
       "        vertical-align: middle;\n",
       "    }\n",
       "\n",
       "    .dataframe tbody tr th {\n",
       "        vertical-align: top;\n",
       "    }\n",
       "\n",
       "    .dataframe thead th {\n",
       "        text-align: right;\n",
       "    }\n",
       "</style>\n",
       "<table border=\"1\" class=\"dataframe\">\n",
       "  <thead>\n",
       "    <tr style=\"text-align: right;\">\n",
       "      <th></th>\n",
       "      <th>BOROUGH</th>\n",
       "      <th>NEIGHBORHOOD</th>\n",
       "      <th>BUILDING CLASS CATEGORY</th>\n",
       "      <th>TAX CLASS AT PRESENT</th>\n",
       "      <th>BLOCK</th>\n",
       "      <th>LOT</th>\n",
       "      <th>EASE-MENT</th>\n",
       "      <th>BUILDING CLASS AT PRESENT</th>\n",
       "      <th>ADDRESS</th>\n",
       "      <th>APARTMENT NUMBER</th>\n",
       "      <th>ZIP CODE</th>\n",
       "      <th>RESIDENTIAL UNITS</th>\n",
       "      <th>COMMERCIAL UNITS</th>\n",
       "      <th>TOTAL UNITS</th>\n",
       "      <th>LAND SQUARE FEET</th>\n",
       "      <th>GROSS SQUARE FEET</th>\n",
       "      <th>YEAR BUILT</th>\n",
       "      <th>TAX CLASS AT TIME OF SALE</th>\n",
       "      <th>BUILDING CLASS AT TIME OF SALE</th>\n",
       "      <th>SALE PRICE</th>\n",
       "      <th>SALE DATE</th>\n",
       "    </tr>\n",
       "  </thead>\n",
       "  <tbody>\n",
       "    <tr>\n",
       "      <th>0</th>\n",
       "      <td>1</td>\n",
       "      <td>ALPHABET CITY</td>\n",
       "      <td>07 RENTALS - WALKUP APARTMENTS</td>\n",
       "      <td>2A</td>\n",
       "      <td>392</td>\n",
       "      <td>6</td>\n",
       "      <td></td>\n",
       "      <td>C2</td>\n",
       "      <td>153 AVENUE B</td>\n",
       "      <td></td>\n",
       "      <td>10009</td>\n",
       "      <td>5</td>\n",
       "      <td>0</td>\n",
       "      <td>5</td>\n",
       "      <td>1633</td>\n",
       "      <td>6440</td>\n",
       "      <td>1900</td>\n",
       "      <td>2</td>\n",
       "      <td>C2</td>\n",
       "      <td>6625000</td>\n",
       "      <td>2017-07-19 00:00:00</td>\n",
       "    </tr>\n",
       "    <tr>\n",
       "      <th>1</th>\n",
       "      <td>1</td>\n",
       "      <td>ALPHABET CITY</td>\n",
       "      <td>07 RENTALS - WALKUP APARTMENTS</td>\n",
       "      <td>2</td>\n",
       "      <td>399</td>\n",
       "      <td>26</td>\n",
       "      <td></td>\n",
       "      <td>C7</td>\n",
       "      <td>234 EAST 4TH   STREET</td>\n",
       "      <td></td>\n",
       "      <td>10009</td>\n",
       "      <td>28</td>\n",
       "      <td>3</td>\n",
       "      <td>31</td>\n",
       "      <td>4616</td>\n",
       "      <td>18690</td>\n",
       "      <td>1900</td>\n",
       "      <td>2</td>\n",
       "      <td>C7</td>\n",
       "      <td>-</td>\n",
       "      <td>2016-12-14 00:00:00</td>\n",
       "    </tr>\n",
       "    <tr>\n",
       "      <th>2</th>\n",
       "      <td>1</td>\n",
       "      <td>ALPHABET CITY</td>\n",
       "      <td>07 RENTALS - WALKUP APARTMENTS</td>\n",
       "      <td>2</td>\n",
       "      <td>399</td>\n",
       "      <td>39</td>\n",
       "      <td></td>\n",
       "      <td>C7</td>\n",
       "      <td>197 EAST 3RD   STREET</td>\n",
       "      <td></td>\n",
       "      <td>10009</td>\n",
       "      <td>16</td>\n",
       "      <td>1</td>\n",
       "      <td>17</td>\n",
       "      <td>2212</td>\n",
       "      <td>7803</td>\n",
       "      <td>1900</td>\n",
       "      <td>2</td>\n",
       "      <td>C7</td>\n",
       "      <td>-</td>\n",
       "      <td>2016-12-09 00:00:00</td>\n",
       "    </tr>\n",
       "    <tr>\n",
       "      <th>3</th>\n",
       "      <td>1</td>\n",
       "      <td>ALPHABET CITY</td>\n",
       "      <td>07 RENTALS - WALKUP APARTMENTS</td>\n",
       "      <td>2B</td>\n",
       "      <td>402</td>\n",
       "      <td>21</td>\n",
       "      <td></td>\n",
       "      <td>C4</td>\n",
       "      <td>154 EAST 7TH STREET</td>\n",
       "      <td></td>\n",
       "      <td>10009</td>\n",
       "      <td>10</td>\n",
       "      <td>0</td>\n",
       "      <td>10</td>\n",
       "      <td>2272</td>\n",
       "      <td>6794</td>\n",
       "      <td>1913</td>\n",
       "      <td>2</td>\n",
       "      <td>C4</td>\n",
       "      <td>3936272</td>\n",
       "      <td>2016-09-23 00:00:00</td>\n",
       "    </tr>\n",
       "    <tr>\n",
       "      <th>4</th>\n",
       "      <td>1</td>\n",
       "      <td>ALPHABET CITY</td>\n",
       "      <td>07 RENTALS - WALKUP APARTMENTS</td>\n",
       "      <td>2A</td>\n",
       "      <td>404</td>\n",
       "      <td>55</td>\n",
       "      <td></td>\n",
       "      <td>C2</td>\n",
       "      <td>301 EAST 10TH   STREET</td>\n",
       "      <td></td>\n",
       "      <td>10009</td>\n",
       "      <td>6</td>\n",
       "      <td>0</td>\n",
       "      <td>6</td>\n",
       "      <td>2369</td>\n",
       "      <td>4615</td>\n",
       "      <td>1900</td>\n",
       "      <td>2</td>\n",
       "      <td>C2</td>\n",
       "      <td>8000000</td>\n",
       "      <td>2016-11-17 00:00:00</td>\n",
       "    </tr>\n",
       "  </tbody>\n",
       "</table>\n",
       "</div>"
      ],
      "text/plain": [
       "   BOROUGH   NEIGHBORHOOD                      BUILDING CLASS CATEGORY  \\\n",
       "0        1  ALPHABET CITY  07 RENTALS - WALKUP APARTMENTS                \n",
       "1        1  ALPHABET CITY  07 RENTALS - WALKUP APARTMENTS                \n",
       "2        1  ALPHABET CITY  07 RENTALS - WALKUP APARTMENTS                \n",
       "3        1  ALPHABET CITY  07 RENTALS - WALKUP APARTMENTS                \n",
       "4        1  ALPHABET CITY  07 RENTALS - WALKUP APARTMENTS                \n",
       "\n",
       "  TAX CLASS AT PRESENT  BLOCK  LOT EASE-MENT BUILDING CLASS AT PRESENT  \\\n",
       "0                   2A    392    6                                  C2   \n",
       "1                    2    399   26                                  C7   \n",
       "2                    2    399   39                                  C7   \n",
       "3                   2B    402   21                                  C4   \n",
       "4                   2A    404   55                                  C2   \n",
       "\n",
       "                  ADDRESS APARTMENT NUMBER  ZIP CODE  RESIDENTIAL UNITS  \\\n",
       "0            153 AVENUE B                      10009                  5   \n",
       "1   234 EAST 4TH   STREET                      10009                 28   \n",
       "2   197 EAST 3RD   STREET                      10009                 16   \n",
       "3     154 EAST 7TH STREET                      10009                 10   \n",
       "4  301 EAST 10TH   STREET                      10009                  6   \n",
       "\n",
       "   COMMERCIAL UNITS  TOTAL UNITS LAND SQUARE FEET GROSS SQUARE FEET  \\\n",
       "0                 0            5             1633              6440   \n",
       "1                 3           31             4616             18690   \n",
       "2                 1           17             2212              7803   \n",
       "3                 0           10             2272              6794   \n",
       "4                 0            6             2369              4615   \n",
       "\n",
       "   YEAR BUILT  TAX CLASS AT TIME OF SALE BUILDING CLASS AT TIME OF SALE  \\\n",
       "0        1900                          2                             C2   \n",
       "1        1900                          2                             C7   \n",
       "2        1900                          2                             C7   \n",
       "3        1913                          2                             C4   \n",
       "4        1900                          2                             C2   \n",
       "\n",
       "  SALE PRICE            SALE DATE  \n",
       "0    6625000  2017-07-19 00:00:00  \n",
       "1        -    2016-12-14 00:00:00  \n",
       "2        -    2016-12-09 00:00:00  \n",
       "3    3936272  2016-09-23 00:00:00  \n",
       "4    8000000  2016-11-17 00:00:00  "
      ]
     },
     "execution_count": 6,
     "metadata": {},
     "output_type": "execute_result"
    }
   ],
   "source": [
    "df.head()"
   ]
  },
  {
   "cell_type": "markdown",
   "id": "2313e2cc",
   "metadata": {},
   "source": [
    "**Menampilkan 5 Data Terbawah**"
   ]
  },
  {
   "cell_type": "code",
   "execution_count": 7,
   "id": "4bc75b55",
   "metadata": {},
   "outputs": [
    {
     "data": {
      "text/html": [
       "<div>\n",
       "<style scoped>\n",
       "    .dataframe tbody tr th:only-of-type {\n",
       "        vertical-align: middle;\n",
       "    }\n",
       "\n",
       "    .dataframe tbody tr th {\n",
       "        vertical-align: top;\n",
       "    }\n",
       "\n",
       "    .dataframe thead th {\n",
       "        text-align: right;\n",
       "    }\n",
       "</style>\n",
       "<table border=\"1\" class=\"dataframe\">\n",
       "  <thead>\n",
       "    <tr style=\"text-align: right;\">\n",
       "      <th></th>\n",
       "      <th>BOROUGH</th>\n",
       "      <th>NEIGHBORHOOD</th>\n",
       "      <th>BUILDING CLASS CATEGORY</th>\n",
       "      <th>TAX CLASS AT PRESENT</th>\n",
       "      <th>BLOCK</th>\n",
       "      <th>LOT</th>\n",
       "      <th>EASE-MENT</th>\n",
       "      <th>BUILDING CLASS AT PRESENT</th>\n",
       "      <th>ADDRESS</th>\n",
       "      <th>APARTMENT NUMBER</th>\n",
       "      <th>ZIP CODE</th>\n",
       "      <th>RESIDENTIAL UNITS</th>\n",
       "      <th>COMMERCIAL UNITS</th>\n",
       "      <th>TOTAL UNITS</th>\n",
       "      <th>LAND SQUARE FEET</th>\n",
       "      <th>GROSS SQUARE FEET</th>\n",
       "      <th>YEAR BUILT</th>\n",
       "      <th>TAX CLASS AT TIME OF SALE</th>\n",
       "      <th>BUILDING CLASS AT TIME OF SALE</th>\n",
       "      <th>SALE PRICE</th>\n",
       "      <th>SALE DATE</th>\n",
       "    </tr>\n",
       "  </thead>\n",
       "  <tbody>\n",
       "    <tr>\n",
       "      <th>84543</th>\n",
       "      <td>5</td>\n",
       "      <td>WOODROW</td>\n",
       "      <td>02 TWO FAMILY DWELLINGS</td>\n",
       "      <td>1</td>\n",
       "      <td>7349</td>\n",
       "      <td>34</td>\n",
       "      <td></td>\n",
       "      <td>B9</td>\n",
       "      <td>37 QUAIL LANE</td>\n",
       "      <td></td>\n",
       "      <td>10309</td>\n",
       "      <td>2</td>\n",
       "      <td>0</td>\n",
       "      <td>2</td>\n",
       "      <td>2400</td>\n",
       "      <td>2575</td>\n",
       "      <td>1998</td>\n",
       "      <td>1</td>\n",
       "      <td>B9</td>\n",
       "      <td>450000</td>\n",
       "      <td>2016-11-28 00:00:00</td>\n",
       "    </tr>\n",
       "    <tr>\n",
       "      <th>84544</th>\n",
       "      <td>5</td>\n",
       "      <td>WOODROW</td>\n",
       "      <td>02 TWO FAMILY DWELLINGS</td>\n",
       "      <td>1</td>\n",
       "      <td>7349</td>\n",
       "      <td>78</td>\n",
       "      <td></td>\n",
       "      <td>B9</td>\n",
       "      <td>32 PHEASANT LANE</td>\n",
       "      <td></td>\n",
       "      <td>10309</td>\n",
       "      <td>2</td>\n",
       "      <td>0</td>\n",
       "      <td>2</td>\n",
       "      <td>2498</td>\n",
       "      <td>2377</td>\n",
       "      <td>1998</td>\n",
       "      <td>1</td>\n",
       "      <td>B9</td>\n",
       "      <td>550000</td>\n",
       "      <td>2017-04-21 00:00:00</td>\n",
       "    </tr>\n",
       "    <tr>\n",
       "      <th>84545</th>\n",
       "      <td>5</td>\n",
       "      <td>WOODROW</td>\n",
       "      <td>02 TWO FAMILY DWELLINGS</td>\n",
       "      <td>1</td>\n",
       "      <td>7351</td>\n",
       "      <td>60</td>\n",
       "      <td></td>\n",
       "      <td>B2</td>\n",
       "      <td>49 PITNEY AVENUE</td>\n",
       "      <td></td>\n",
       "      <td>10309</td>\n",
       "      <td>2</td>\n",
       "      <td>0</td>\n",
       "      <td>2</td>\n",
       "      <td>4000</td>\n",
       "      <td>1496</td>\n",
       "      <td>1925</td>\n",
       "      <td>1</td>\n",
       "      <td>B2</td>\n",
       "      <td>460000</td>\n",
       "      <td>2017-07-05 00:00:00</td>\n",
       "    </tr>\n",
       "    <tr>\n",
       "      <th>84546</th>\n",
       "      <td>5</td>\n",
       "      <td>WOODROW</td>\n",
       "      <td>22 STORE BUILDINGS</td>\n",
       "      <td>4</td>\n",
       "      <td>7100</td>\n",
       "      <td>28</td>\n",
       "      <td></td>\n",
       "      <td>K6</td>\n",
       "      <td>2730 ARTHUR KILL ROAD</td>\n",
       "      <td></td>\n",
       "      <td>10309</td>\n",
       "      <td>0</td>\n",
       "      <td>7</td>\n",
       "      <td>7</td>\n",
       "      <td>208033</td>\n",
       "      <td>64117</td>\n",
       "      <td>2001</td>\n",
       "      <td>4</td>\n",
       "      <td>K6</td>\n",
       "      <td>11693337</td>\n",
       "      <td>2016-12-21 00:00:00</td>\n",
       "    </tr>\n",
       "    <tr>\n",
       "      <th>84547</th>\n",
       "      <td>5</td>\n",
       "      <td>WOODROW</td>\n",
       "      <td>35 INDOOR PUBLIC AND CULTURAL FACILITIES</td>\n",
       "      <td>4</td>\n",
       "      <td>7105</td>\n",
       "      <td>679</td>\n",
       "      <td></td>\n",
       "      <td>P9</td>\n",
       "      <td>155 CLAY PIT ROAD</td>\n",
       "      <td></td>\n",
       "      <td>10309</td>\n",
       "      <td>0</td>\n",
       "      <td>1</td>\n",
       "      <td>1</td>\n",
       "      <td>10796</td>\n",
       "      <td>2400</td>\n",
       "      <td>2006</td>\n",
       "      <td>4</td>\n",
       "      <td>P9</td>\n",
       "      <td>69300</td>\n",
       "      <td>2016-10-27 00:00:00</td>\n",
       "    </tr>\n",
       "  </tbody>\n",
       "</table>\n",
       "</div>"
      ],
      "text/plain": [
       "       BOROUGH NEIGHBORHOOD                      BUILDING CLASS CATEGORY  \\\n",
       "84543        5      WOODROW  02 TWO FAMILY DWELLINGS                       \n",
       "84544        5      WOODROW  02 TWO FAMILY DWELLINGS                       \n",
       "84545        5      WOODROW  02 TWO FAMILY DWELLINGS                       \n",
       "84546        5      WOODROW  22 STORE BUILDINGS                            \n",
       "84547        5      WOODROW  35 INDOOR PUBLIC AND CULTURAL FACILITIES      \n",
       "\n",
       "      TAX CLASS AT PRESENT  BLOCK  LOT EASE-MENT BUILDING CLASS AT PRESENT  \\\n",
       "84543                    1   7349   34                                  B9   \n",
       "84544                    1   7349   78                                  B9   \n",
       "84545                    1   7351   60                                  B2   \n",
       "84546                    4   7100   28                                  K6   \n",
       "84547                    4   7105  679                                  P9   \n",
       "\n",
       "                     ADDRESS APARTMENT NUMBER  ZIP CODE  RESIDENTIAL UNITS  \\\n",
       "84543          37 QUAIL LANE                      10309                  2   \n",
       "84544       32 PHEASANT LANE                      10309                  2   \n",
       "84545       49 PITNEY AVENUE                      10309                  2   \n",
       "84546  2730 ARTHUR KILL ROAD                      10309                  0   \n",
       "84547      155 CLAY PIT ROAD                      10309                  0   \n",
       "\n",
       "       COMMERCIAL UNITS  TOTAL UNITS LAND SQUARE FEET GROSS SQUARE FEET  \\\n",
       "84543                 0            2             2400              2575   \n",
       "84544                 0            2             2498              2377   \n",
       "84545                 0            2             4000              1496   \n",
       "84546                 7            7           208033             64117   \n",
       "84547                 1            1            10796              2400   \n",
       "\n",
       "       YEAR BUILT  TAX CLASS AT TIME OF SALE BUILDING CLASS AT TIME OF SALE  \\\n",
       "84543        1998                          1                             B9   \n",
       "84544        1998                          1                             B9   \n",
       "84545        1925                          1                             B2   \n",
       "84546        2001                          4                             K6   \n",
       "84547        2006                          4                             P9   \n",
       "\n",
       "      SALE PRICE            SALE DATE  \n",
       "84543     450000  2016-11-28 00:00:00  \n",
       "84544     550000  2017-04-21 00:00:00  \n",
       "84545     460000  2017-07-05 00:00:00  \n",
       "84546   11693337  2016-12-21 00:00:00  \n",
       "84547      69300  2016-10-27 00:00:00  "
      ]
     },
     "execution_count": 7,
     "metadata": {},
     "output_type": "execute_result"
    }
   ],
   "source": [
    "df.tail()"
   ]
  },
  {
   "cell_type": "markdown",
   "id": "163bfa41",
   "metadata": {},
   "source": [
    "**Melihat dimensi data**"
   ]
  },
  {
   "cell_type": "code",
   "execution_count": 8,
   "id": "a34f8347",
   "metadata": {},
   "outputs": [
    {
     "data": {
      "text/plain": [
       "(84548, 21)"
      ]
     },
     "execution_count": 8,
     "metadata": {},
     "output_type": "execute_result"
    }
   ],
   "source": [
    "df.shape"
   ]
  },
  {
   "cell_type": "markdown",
   "id": "4fd627ac",
   "metadata": {},
   "source": [
    "data memiliki 84.548 baris dan 21 kolom "
   ]
  },
  {
   "cell_type": "code",
   "execution_count": 9,
   "id": "53e1f26b",
   "metadata": {},
   "outputs": [],
   "source": [
    "df_new = df[['BOROUGH', 'TOTAL UNITS', 'YEAR BUILT',\n",
    "               'TAX CLASS AT TIME OF SALE', 'SALE PRICE']]"
   ]
  },
  {
   "cell_type": "code",
   "execution_count": 10,
   "id": "51abbc11",
   "metadata": {},
   "outputs": [
    {
     "data": {
      "text/html": [
       "<div>\n",
       "<style scoped>\n",
       "    .dataframe tbody tr th:only-of-type {\n",
       "        vertical-align: middle;\n",
       "    }\n",
       "\n",
       "    .dataframe tbody tr th {\n",
       "        vertical-align: top;\n",
       "    }\n",
       "\n",
       "    .dataframe thead th {\n",
       "        text-align: right;\n",
       "    }\n",
       "</style>\n",
       "<table border=\"1\" class=\"dataframe\">\n",
       "  <thead>\n",
       "    <tr style=\"text-align: right;\">\n",
       "      <th></th>\n",
       "      <th>BOROUGH</th>\n",
       "      <th>TOTAL UNITS</th>\n",
       "      <th>YEAR BUILT</th>\n",
       "      <th>TAX CLASS AT TIME OF SALE</th>\n",
       "      <th>SALE PRICE</th>\n",
       "    </tr>\n",
       "  </thead>\n",
       "  <tbody>\n",
       "    <tr>\n",
       "      <th>0</th>\n",
       "      <td>1</td>\n",
       "      <td>5</td>\n",
       "      <td>1900</td>\n",
       "      <td>2</td>\n",
       "      <td>6625000</td>\n",
       "    </tr>\n",
       "    <tr>\n",
       "      <th>1</th>\n",
       "      <td>1</td>\n",
       "      <td>31</td>\n",
       "      <td>1900</td>\n",
       "      <td>2</td>\n",
       "      <td>-</td>\n",
       "    </tr>\n",
       "    <tr>\n",
       "      <th>2</th>\n",
       "      <td>1</td>\n",
       "      <td>17</td>\n",
       "      <td>1900</td>\n",
       "      <td>2</td>\n",
       "      <td>-</td>\n",
       "    </tr>\n",
       "    <tr>\n",
       "      <th>3</th>\n",
       "      <td>1</td>\n",
       "      <td>10</td>\n",
       "      <td>1913</td>\n",
       "      <td>2</td>\n",
       "      <td>3936272</td>\n",
       "    </tr>\n",
       "    <tr>\n",
       "      <th>4</th>\n",
       "      <td>1</td>\n",
       "      <td>6</td>\n",
       "      <td>1900</td>\n",
       "      <td>2</td>\n",
       "      <td>8000000</td>\n",
       "    </tr>\n",
       "  </tbody>\n",
       "</table>\n",
       "</div>"
      ],
      "text/plain": [
       "   BOROUGH  TOTAL UNITS  YEAR BUILT  TAX CLASS AT TIME OF SALE SALE PRICE\n",
       "0        1            5        1900                          2    6625000\n",
       "1        1           31        1900                          2        -  \n",
       "2        1           17        1900                          2        -  \n",
       "3        1           10        1913                          2    3936272\n",
       "4        1            6        1900                          2    8000000"
      ]
     },
     "execution_count": 10,
     "metadata": {},
     "output_type": "execute_result"
    }
   ],
   "source": [
    "df_new.head()"
   ]
  },
  {
   "cell_type": "markdown",
   "id": "9c38b0c4",
   "metadata": {},
   "source": [
    "variabel baru dibuat untuk menyimpan kolom yang dianggap memiliki data numerik saja.\n",
    "\n",
    "pd.set_option() digunakan untuk menampilkan maximal kolom agar dapat dilihat dengan mudah"
   ]
  },
  {
   "cell_type": "markdown",
   "id": "53c88c1d",
   "metadata": {},
   "source": [
    "**Mengecek nilai error**"
   ]
  },
  {
   "cell_type": "code",
   "execution_count": 11,
   "id": "7df6f8b4",
   "metadata": {},
   "outputs": [
    {
     "data": {
      "text/html": [
       "<div>\n",
       "<style scoped>\n",
       "    .dataframe tbody tr th:only-of-type {\n",
       "        vertical-align: middle;\n",
       "    }\n",
       "\n",
       "    .dataframe tbody tr th {\n",
       "        vertical-align: top;\n",
       "    }\n",
       "\n",
       "    .dataframe thead th {\n",
       "        text-align: right;\n",
       "    }\n",
       "</style>\n",
       "<table border=\"1\" class=\"dataframe\">\n",
       "  <thead>\n",
       "    <tr style=\"text-align: right;\">\n",
       "      <th></th>\n",
       "      <th>BOROUGH</th>\n",
       "      <th>TOTAL UNITS</th>\n",
       "      <th>YEAR BUILT</th>\n",
       "      <th>TAX CLASS AT TIME OF SALE</th>\n",
       "      <th>SALE PRICE</th>\n",
       "    </tr>\n",
       "  </thead>\n",
       "  <tbody>\n",
       "    <tr>\n",
       "      <th>0</th>\n",
       "      <td>1</td>\n",
       "      <td>5</td>\n",
       "      <td>1900</td>\n",
       "      <td>2</td>\n",
       "      <td>6625000</td>\n",
       "    </tr>\n",
       "    <tr>\n",
       "      <th>1</th>\n",
       "      <td>1</td>\n",
       "      <td>31</td>\n",
       "      <td>1900</td>\n",
       "      <td>2</td>\n",
       "      <td>-</td>\n",
       "    </tr>\n",
       "    <tr>\n",
       "      <th>2</th>\n",
       "      <td>1</td>\n",
       "      <td>17</td>\n",
       "      <td>1900</td>\n",
       "      <td>2</td>\n",
       "      <td>-</td>\n",
       "    </tr>\n",
       "    <tr>\n",
       "      <th>3</th>\n",
       "      <td>1</td>\n",
       "      <td>10</td>\n",
       "      <td>1913</td>\n",
       "      <td>2</td>\n",
       "      <td>3936272</td>\n",
       "    </tr>\n",
       "    <tr>\n",
       "      <th>4</th>\n",
       "      <td>1</td>\n",
       "      <td>6</td>\n",
       "      <td>1900</td>\n",
       "      <td>2</td>\n",
       "      <td>8000000</td>\n",
       "    </tr>\n",
       "  </tbody>\n",
       "</table>\n",
       "</div>"
      ],
      "text/plain": [
       "   BOROUGH  TOTAL UNITS  YEAR BUILT  TAX CLASS AT TIME OF SALE SALE PRICE\n",
       "0        1            5        1900                          2    6625000\n",
       "1        1           31        1900                          2        -  \n",
       "2        1           17        1900                          2        -  \n",
       "3        1           10        1913                          2    3936272\n",
       "4        1            6        1900                          2    8000000"
      ]
     },
     "execution_count": 11,
     "metadata": {},
     "output_type": "execute_result"
    }
   ],
   "source": [
    "cnt=0\n",
    "for row in df_new['BOROUGH']:\n",
    "    try:\n",
    "        float(row)\n",
    "    except ValueError:\n",
    "        df_new.loc[cnt, 'BOROUGH']=np.nan\n",
    "    cnt+=1\n",
    "\n",
    "df_new.head()"
   ]
  },
  {
   "cell_type": "markdown",
   "id": "cd48da04",
   "metadata": {},
   "source": [
    "mengecek nilai error pada kolom BOROUGH menggunakan try and except sehingga digantikan dengan nilai NaN atau Null pada baris tersebut"
   ]
  },
  {
   "cell_type": "code",
   "execution_count": 12,
   "id": "bbdd2c7c",
   "metadata": {},
   "outputs": [
    {
     "data": {
      "text/html": [
       "<div>\n",
       "<style scoped>\n",
       "    .dataframe tbody tr th:only-of-type {\n",
       "        vertical-align: middle;\n",
       "    }\n",
       "\n",
       "    .dataframe tbody tr th {\n",
       "        vertical-align: top;\n",
       "    }\n",
       "\n",
       "    .dataframe thead th {\n",
       "        text-align: right;\n",
       "    }\n",
       "</style>\n",
       "<table border=\"1\" class=\"dataframe\">\n",
       "  <thead>\n",
       "    <tr style=\"text-align: right;\">\n",
       "      <th></th>\n",
       "      <th>BOROUGH</th>\n",
       "      <th>TOTAL UNITS</th>\n",
       "      <th>YEAR BUILT</th>\n",
       "      <th>TAX CLASS AT TIME OF SALE</th>\n",
       "      <th>SALE PRICE</th>\n",
       "    </tr>\n",
       "  </thead>\n",
       "  <tbody>\n",
       "    <tr>\n",
       "      <th>0</th>\n",
       "      <td>1</td>\n",
       "      <td>5</td>\n",
       "      <td>1900</td>\n",
       "      <td>2</td>\n",
       "      <td>6625000</td>\n",
       "    </tr>\n",
       "    <tr>\n",
       "      <th>1</th>\n",
       "      <td>1</td>\n",
       "      <td>31</td>\n",
       "      <td>1900</td>\n",
       "      <td>2</td>\n",
       "      <td>-</td>\n",
       "    </tr>\n",
       "    <tr>\n",
       "      <th>2</th>\n",
       "      <td>1</td>\n",
       "      <td>17</td>\n",
       "      <td>1900</td>\n",
       "      <td>2</td>\n",
       "      <td>-</td>\n",
       "    </tr>\n",
       "    <tr>\n",
       "      <th>3</th>\n",
       "      <td>1</td>\n",
       "      <td>10</td>\n",
       "      <td>1913</td>\n",
       "      <td>2</td>\n",
       "      <td>3936272</td>\n",
       "    </tr>\n",
       "    <tr>\n",
       "      <th>4</th>\n",
       "      <td>1</td>\n",
       "      <td>6</td>\n",
       "      <td>1900</td>\n",
       "      <td>2</td>\n",
       "      <td>8000000</td>\n",
       "    </tr>\n",
       "  </tbody>\n",
       "</table>\n",
       "</div>"
      ],
      "text/plain": [
       "   BOROUGH  TOTAL UNITS  YEAR BUILT  TAX CLASS AT TIME OF SALE SALE PRICE\n",
       "0        1            5        1900                          2    6625000\n",
       "1        1           31        1900                          2        -  \n",
       "2        1           17        1900                          2        -  \n",
       "3        1           10        1913                          2    3936272\n",
       "4        1            6        1900                          2    8000000"
      ]
     },
     "execution_count": 12,
     "metadata": {},
     "output_type": "execute_result"
    }
   ],
   "source": [
    "cnt=0\n",
    "for row in df_new['TOTAL UNITS']:\n",
    "    try:\n",
    "        float(row)\n",
    "    except ValueError:\n",
    "        df_new.loc[cnt, 'TOTAL UNITS']=np.nan\n",
    "    cnt+=1\n",
    "\n",
    "df_new.head()"
   ]
  },
  {
   "cell_type": "markdown",
   "id": "a5969529",
   "metadata": {},
   "source": [
    "mengecek nilai error pada kolom TOTAL UNITS menggunakan try and except sehingga digantikan dengan nilai NaN atau Null pada baris tersebut"
   ]
  },
  {
   "cell_type": "code",
   "execution_count": 13,
   "id": "39ebabe4",
   "metadata": {},
   "outputs": [
    {
     "data": {
      "text/html": [
       "<div>\n",
       "<style scoped>\n",
       "    .dataframe tbody tr th:only-of-type {\n",
       "        vertical-align: middle;\n",
       "    }\n",
       "\n",
       "    .dataframe tbody tr th {\n",
       "        vertical-align: top;\n",
       "    }\n",
       "\n",
       "    .dataframe thead th {\n",
       "        text-align: right;\n",
       "    }\n",
       "</style>\n",
       "<table border=\"1\" class=\"dataframe\">\n",
       "  <thead>\n",
       "    <tr style=\"text-align: right;\">\n",
       "      <th></th>\n",
       "      <th>BOROUGH</th>\n",
       "      <th>TOTAL UNITS</th>\n",
       "      <th>YEAR BUILT</th>\n",
       "      <th>TAX CLASS AT TIME OF SALE</th>\n",
       "      <th>SALE PRICE</th>\n",
       "    </tr>\n",
       "  </thead>\n",
       "  <tbody>\n",
       "    <tr>\n",
       "      <th>0</th>\n",
       "      <td>1</td>\n",
       "      <td>5</td>\n",
       "      <td>1900</td>\n",
       "      <td>2</td>\n",
       "      <td>6625000</td>\n",
       "    </tr>\n",
       "    <tr>\n",
       "      <th>1</th>\n",
       "      <td>1</td>\n",
       "      <td>31</td>\n",
       "      <td>1900</td>\n",
       "      <td>2</td>\n",
       "      <td>-</td>\n",
       "    </tr>\n",
       "    <tr>\n",
       "      <th>2</th>\n",
       "      <td>1</td>\n",
       "      <td>17</td>\n",
       "      <td>1900</td>\n",
       "      <td>2</td>\n",
       "      <td>-</td>\n",
       "    </tr>\n",
       "    <tr>\n",
       "      <th>3</th>\n",
       "      <td>1</td>\n",
       "      <td>10</td>\n",
       "      <td>1913</td>\n",
       "      <td>2</td>\n",
       "      <td>3936272</td>\n",
       "    </tr>\n",
       "    <tr>\n",
       "      <th>4</th>\n",
       "      <td>1</td>\n",
       "      <td>6</td>\n",
       "      <td>1900</td>\n",
       "      <td>2</td>\n",
       "      <td>8000000</td>\n",
       "    </tr>\n",
       "  </tbody>\n",
       "</table>\n",
       "</div>"
      ],
      "text/plain": [
       "   BOROUGH  TOTAL UNITS  YEAR BUILT  TAX CLASS AT TIME OF SALE SALE PRICE\n",
       "0        1            5        1900                          2    6625000\n",
       "1        1           31        1900                          2        -  \n",
       "2        1           17        1900                          2        -  \n",
       "3        1           10        1913                          2    3936272\n",
       "4        1            6        1900                          2    8000000"
      ]
     },
     "execution_count": 13,
     "metadata": {},
     "output_type": "execute_result"
    }
   ],
   "source": [
    "cnt=0\n",
    "for row in df_new['YEAR BUILT']:\n",
    "    try:\n",
    "        float(row)\n",
    "    except ValueError:\n",
    "        df_new.loc[cnt, 'YEAR BUILT']=np.nan\n",
    "    cnt+=1\n",
    "\n",
    "df_new.head()"
   ]
  },
  {
   "cell_type": "markdown",
   "id": "5dc3aba4",
   "metadata": {},
   "source": [
    "mengecek nilai error pada kolom YEAR BUILT menggunakan try and except sehingga digantikan dengan nilai NaN atau Null pada baris tersebut"
   ]
  },
  {
   "cell_type": "code",
   "execution_count": 14,
   "id": "7a8b264f",
   "metadata": {},
   "outputs": [
    {
     "data": {
      "text/html": [
       "<div>\n",
       "<style scoped>\n",
       "    .dataframe tbody tr th:only-of-type {\n",
       "        vertical-align: middle;\n",
       "    }\n",
       "\n",
       "    .dataframe tbody tr th {\n",
       "        vertical-align: top;\n",
       "    }\n",
       "\n",
       "    .dataframe thead th {\n",
       "        text-align: right;\n",
       "    }\n",
       "</style>\n",
       "<table border=\"1\" class=\"dataframe\">\n",
       "  <thead>\n",
       "    <tr style=\"text-align: right;\">\n",
       "      <th></th>\n",
       "      <th>BOROUGH</th>\n",
       "      <th>TOTAL UNITS</th>\n",
       "      <th>YEAR BUILT</th>\n",
       "      <th>TAX CLASS AT TIME OF SALE</th>\n",
       "      <th>SALE PRICE</th>\n",
       "    </tr>\n",
       "  </thead>\n",
       "  <tbody>\n",
       "    <tr>\n",
       "      <th>0</th>\n",
       "      <td>1</td>\n",
       "      <td>5</td>\n",
       "      <td>1900</td>\n",
       "      <td>2</td>\n",
       "      <td>6625000</td>\n",
       "    </tr>\n",
       "    <tr>\n",
       "      <th>1</th>\n",
       "      <td>1</td>\n",
       "      <td>31</td>\n",
       "      <td>1900</td>\n",
       "      <td>2</td>\n",
       "      <td>-</td>\n",
       "    </tr>\n",
       "    <tr>\n",
       "      <th>2</th>\n",
       "      <td>1</td>\n",
       "      <td>17</td>\n",
       "      <td>1900</td>\n",
       "      <td>2</td>\n",
       "      <td>-</td>\n",
       "    </tr>\n",
       "    <tr>\n",
       "      <th>3</th>\n",
       "      <td>1</td>\n",
       "      <td>10</td>\n",
       "      <td>1913</td>\n",
       "      <td>2</td>\n",
       "      <td>3936272</td>\n",
       "    </tr>\n",
       "    <tr>\n",
       "      <th>4</th>\n",
       "      <td>1</td>\n",
       "      <td>6</td>\n",
       "      <td>1900</td>\n",
       "      <td>2</td>\n",
       "      <td>8000000</td>\n",
       "    </tr>\n",
       "  </tbody>\n",
       "</table>\n",
       "</div>"
      ],
      "text/plain": [
       "   BOROUGH  TOTAL UNITS  YEAR BUILT  TAX CLASS AT TIME OF SALE SALE PRICE\n",
       "0        1            5        1900                          2    6625000\n",
       "1        1           31        1900                          2        -  \n",
       "2        1           17        1900                          2        -  \n",
       "3        1           10        1913                          2    3936272\n",
       "4        1            6        1900                          2    8000000"
      ]
     },
     "execution_count": 14,
     "metadata": {},
     "output_type": "execute_result"
    }
   ],
   "source": [
    "cnt=0\n",
    "for row in df_new['TAX CLASS AT TIME OF SALE']:\n",
    "    try:\n",
    "        float(row)\n",
    "    except ValueError:\n",
    "        df_new.loc[cnt, 'TAX CLASS AT TIME OF SALE']=np.nan\n",
    "    cnt+=1\n",
    "\n",
    "df_new.head()"
   ]
  },
  {
   "cell_type": "markdown",
   "id": "efa0fbe3",
   "metadata": {},
   "source": [
    "mengecek nilai error pada kolom TAX CLASS AT TIME OF SALE menggunakan try and except sehingga digantikan dengan nilai NaN atau Null pada baris tersebut"
   ]
  },
  {
   "cell_type": "code",
   "execution_count": 15,
   "id": "1f8c29fa",
   "metadata": {},
   "outputs": [
    {
     "data": {
      "text/html": [
       "<div>\n",
       "<style scoped>\n",
       "    .dataframe tbody tr th:only-of-type {\n",
       "        vertical-align: middle;\n",
       "    }\n",
       "\n",
       "    .dataframe tbody tr th {\n",
       "        vertical-align: top;\n",
       "    }\n",
       "\n",
       "    .dataframe thead th {\n",
       "        text-align: right;\n",
       "    }\n",
       "</style>\n",
       "<table border=\"1\" class=\"dataframe\">\n",
       "  <thead>\n",
       "    <tr style=\"text-align: right;\">\n",
       "      <th></th>\n",
       "      <th>BOROUGH</th>\n",
       "      <th>TOTAL UNITS</th>\n",
       "      <th>YEAR BUILT</th>\n",
       "      <th>TAX CLASS AT TIME OF SALE</th>\n",
       "      <th>SALE PRICE</th>\n",
       "    </tr>\n",
       "  </thead>\n",
       "  <tbody>\n",
       "    <tr>\n",
       "      <th>0</th>\n",
       "      <td>1</td>\n",
       "      <td>5</td>\n",
       "      <td>1900</td>\n",
       "      <td>2</td>\n",
       "      <td>6625000</td>\n",
       "    </tr>\n",
       "    <tr>\n",
       "      <th>1</th>\n",
       "      <td>1</td>\n",
       "      <td>31</td>\n",
       "      <td>1900</td>\n",
       "      <td>2</td>\n",
       "      <td>NaN</td>\n",
       "    </tr>\n",
       "    <tr>\n",
       "      <th>2</th>\n",
       "      <td>1</td>\n",
       "      <td>17</td>\n",
       "      <td>1900</td>\n",
       "      <td>2</td>\n",
       "      <td>NaN</td>\n",
       "    </tr>\n",
       "    <tr>\n",
       "      <th>3</th>\n",
       "      <td>1</td>\n",
       "      <td>10</td>\n",
       "      <td>1913</td>\n",
       "      <td>2</td>\n",
       "      <td>3936272</td>\n",
       "    </tr>\n",
       "    <tr>\n",
       "      <th>4</th>\n",
       "      <td>1</td>\n",
       "      <td>6</td>\n",
       "      <td>1900</td>\n",
       "      <td>2</td>\n",
       "      <td>8000000</td>\n",
       "    </tr>\n",
       "  </tbody>\n",
       "</table>\n",
       "</div>"
      ],
      "text/plain": [
       "   BOROUGH  TOTAL UNITS  YEAR BUILT  TAX CLASS AT TIME OF SALE SALE PRICE\n",
       "0        1            5        1900                          2    6625000\n",
       "1        1           31        1900                          2        NaN\n",
       "2        1           17        1900                          2        NaN\n",
       "3        1           10        1913                          2    3936272\n",
       "4        1            6        1900                          2    8000000"
      ]
     },
     "execution_count": 15,
     "metadata": {},
     "output_type": "execute_result"
    }
   ],
   "source": [
    "cnt=0\n",
    "for row in df_new['SALE PRICE']:\n",
    "    try:\n",
    "        float(row)\n",
    "    except ValueError:\n",
    "        df_new.loc[cnt, 'SALE PRICE']=np.nan\n",
    "    cnt+=1\n",
    "\n",
    "df_new.head()"
   ]
  },
  {
   "cell_type": "markdown",
   "id": "e78a303f",
   "metadata": {},
   "source": [
    "mengecek nilai error pada kolom SALE PRICE menggunakan try and except sehingga digantikan dengan nilai NaN atau Null pada baris tersebut"
   ]
  },
  {
   "cell_type": "code",
   "execution_count": 16,
   "id": "a7ca7993",
   "metadata": {},
   "outputs": [
    {
     "data": {
      "text/plain": [
       "BOROUGH                          0\n",
       "TOTAL UNITS                      0\n",
       "YEAR BUILT                       0\n",
       "TAX CLASS AT TIME OF SALE        0\n",
       "SALE PRICE                   14561\n",
       "dtype: int64"
      ]
     },
     "execution_count": 16,
     "metadata": {},
     "output_type": "execute_result"
    }
   ],
   "source": [
    "df_new.isnull().sum()"
   ]
  },
  {
   "cell_type": "markdown",
   "id": "141b6ebc",
   "metadata": {},
   "source": [
    "Setelah dilakukan pengecekan menggunakan try and except, dicek nilai null kembali menggunakan isnull() sehingga diketahui nilai null yang baru sejumlah 14.561 data\n",
    "\n",
    "kolom 84.548\n",
    "\n",
    "nilai null 14561\n",
    "\n",
    "keputusan yang dibuat adalah mencoba menghapus nilai null dengan fungsi dropna()"
   ]
  },
  {
   "cell_type": "code",
   "execution_count": 17,
   "id": "2b38f7f4",
   "metadata": {},
   "outputs": [
    {
     "name": "stdout",
     "output_type": "stream",
     "text": [
      "<class 'pandas.core.frame.DataFrame'>\n",
      "RangeIndex: 84548 entries, 0 to 84547\n",
      "Data columns (total 5 columns):\n",
      " #   Column                     Non-Null Count  Dtype \n",
      "---  ------                     --------------  ----- \n",
      " 0   BOROUGH                    84548 non-null  int64 \n",
      " 1   TOTAL UNITS                84548 non-null  int64 \n",
      " 2   YEAR BUILT                 84548 non-null  int64 \n",
      " 3   TAX CLASS AT TIME OF SALE  84548 non-null  int64 \n",
      " 4   SALE PRICE                 69987 non-null  object\n",
      "dtypes: int64(4), object(1)\n",
      "memory usage: 3.2+ MB\n"
     ]
    }
   ],
   "source": [
    "df_new.info()"
   ]
  },
  {
   "cell_type": "code",
   "execution_count": 18,
   "id": "18567d7f",
   "metadata": {},
   "outputs": [
    {
     "name": "stderr",
     "output_type": "stream",
     "text": [
      "C:\\Users\\USER DK\\AppData\\Local\\Temp\\ipykernel_9252\\10632992.py:1: SettingWithCopyWarning: \n",
      "A value is trying to be set on a copy of a slice from a DataFrame\n",
      "\n",
      "See the caveats in the documentation: https://pandas.pydata.org/pandas-docs/stable/user_guide/indexing.html#returning-a-view-versus-a-copy\n",
      "  df_new.dropna(axis=0,inplace=True)\n"
     ]
    }
   ],
   "source": [
    "df_new.dropna(axis=0,inplace=True)"
   ]
  },
  {
   "cell_type": "markdown",
   "id": "9613c656",
   "metadata": {},
   "source": [
    "menghapus kolom yang mengandung nilai null sebanyak 14.561 data"
   ]
  },
  {
   "cell_type": "code",
   "execution_count": 19,
   "id": "357e5718",
   "metadata": {},
   "outputs": [
    {
     "data": {
      "text/html": [
       "<div>\n",
       "<style scoped>\n",
       "    .dataframe tbody tr th:only-of-type {\n",
       "        vertical-align: middle;\n",
       "    }\n",
       "\n",
       "    .dataframe tbody tr th {\n",
       "        vertical-align: top;\n",
       "    }\n",
       "\n",
       "    .dataframe thead th {\n",
       "        text-align: right;\n",
       "    }\n",
       "</style>\n",
       "<table border=\"1\" class=\"dataframe\">\n",
       "  <thead>\n",
       "    <tr style=\"text-align: right;\">\n",
       "      <th></th>\n",
       "      <th>BOROUGH</th>\n",
       "      <th>TOTAL UNITS</th>\n",
       "      <th>YEAR BUILT</th>\n",
       "      <th>TAX CLASS AT TIME OF SALE</th>\n",
       "      <th>SALE PRICE</th>\n",
       "    </tr>\n",
       "  </thead>\n",
       "  <tbody>\n",
       "    <tr>\n",
       "      <th>0</th>\n",
       "      <td>1</td>\n",
       "      <td>5</td>\n",
       "      <td>1900</td>\n",
       "      <td>2</td>\n",
       "      <td>6625000</td>\n",
       "    </tr>\n",
       "    <tr>\n",
       "      <th>3</th>\n",
       "      <td>1</td>\n",
       "      <td>10</td>\n",
       "      <td>1913</td>\n",
       "      <td>2</td>\n",
       "      <td>3936272</td>\n",
       "    </tr>\n",
       "    <tr>\n",
       "      <th>4</th>\n",
       "      <td>1</td>\n",
       "      <td>6</td>\n",
       "      <td>1900</td>\n",
       "      <td>2</td>\n",
       "      <td>8000000</td>\n",
       "    </tr>\n",
       "    <tr>\n",
       "      <th>6</th>\n",
       "      <td>1</td>\n",
       "      <td>8</td>\n",
       "      <td>1920</td>\n",
       "      <td>2</td>\n",
       "      <td>3192840</td>\n",
       "    </tr>\n",
       "    <tr>\n",
       "      <th>9</th>\n",
       "      <td>1</td>\n",
       "      <td>24</td>\n",
       "      <td>1920</td>\n",
       "      <td>2</td>\n",
       "      <td>16232000</td>\n",
       "    </tr>\n",
       "  </tbody>\n",
       "</table>\n",
       "</div>"
      ],
      "text/plain": [
       "   BOROUGH  TOTAL UNITS  YEAR BUILT  TAX CLASS AT TIME OF SALE SALE PRICE\n",
       "0        1            5        1900                          2    6625000\n",
       "3        1           10        1913                          2    3936272\n",
       "4        1            6        1900                          2    8000000\n",
       "6        1            8        1920                          2    3192840\n",
       "9        1           24        1920                          2   16232000"
      ]
     },
     "execution_count": 19,
     "metadata": {},
     "output_type": "execute_result"
    }
   ],
   "source": [
    "df_new.head()"
   ]
  },
  {
   "cell_type": "markdown",
   "id": "8c12325b",
   "metadata": {},
   "source": [
    "## Measure of Central Tendency: Mean"
   ]
  },
  {
   "cell_type": "code",
   "execution_count": 20,
   "id": "05cefcb0",
   "metadata": {},
   "outputs": [
    {
     "name": "stderr",
     "output_type": "stream",
     "text": [
      "C:\\Users\\USER DK\\AppData\\Local\\Temp\\ipykernel_9252\\1206816870.py:2: DeprecationWarning: scipy.mean is deprecated and will be removed in SciPy 2.0.0, use numpy.mean instead\n",
      "  scipy.mean(df_new['TOTAL UNITS'])\n"
     ]
    },
    {
     "data": {
      "text/plain": [
       "2.092202837669853"
      ]
     },
     "execution_count": 20,
     "metadata": {},
     "output_type": "execute_result"
    }
   ],
   "source": [
    "# np.mean(df_nyc['YEAR BUILT'])\n",
    "scipy.mean(df_new['TOTAL UNITS'])"
   ]
  },
  {
   "cell_type": "code",
   "execution_count": 21,
   "id": "517eecb9",
   "metadata": {},
   "outputs": [
    {
     "data": {
      "text/plain": [
       "2.092202837669853"
      ]
     },
     "execution_count": 21,
     "metadata": {},
     "output_type": "execute_result"
    }
   ],
   "source": [
    "np.mean(df_new['TOTAL UNITS'])"
   ]
  },
  {
   "cell_type": "markdown",
   "id": "3581914a",
   "metadata": {},
   "source": [
    "menggunakan library scipy dan numpy untuk melihat mean dari Total Units hasilnya sama. Jika dibulatkan maka rata-rata total units dari dataset ini adalah 2 unit"
   ]
  },
  {
   "cell_type": "code",
   "execution_count": 22,
   "id": "989d124e",
   "metadata": {},
   "outputs": [
    {
     "data": {
      "text/plain": [
       "1799.34823610099"
      ]
     },
     "execution_count": 22,
     "metadata": {},
     "output_type": "execute_result"
    }
   ],
   "source": [
    "np.mean(df_new['YEAR BUILT'])"
   ]
  },
  {
   "cell_type": "markdown",
   "id": "bb48ba6c",
   "metadata": {},
   "source": [
    "menggunakan numpy diketahui bahwa rata rata penjualan properti berada pada tahun pembuatan 1799"
   ]
  },
  {
   "cell_type": "markdown",
   "id": "8193588f",
   "metadata": {},
   "source": [
    "## Measure of Central Tendency: Median"
   ]
  },
  {
   "cell_type": "code",
   "execution_count": 23,
   "id": "c25d8d19",
   "metadata": {},
   "outputs": [
    {
     "data": {
      "text/plain": [
       "1.0"
      ]
     },
     "execution_count": 23,
     "metadata": {},
     "output_type": "execute_result"
    }
   ],
   "source": [
    "np.median(df_new['TOTAL UNITS'])"
   ]
  },
  {
   "cell_type": "markdown",
   "id": "f01e9891",
   "metadata": {},
   "source": [
    "menggunakan numpy diketahui bahwa median atau nilai tengah dari total units properti yang dibangun adalah 1 unit"
   ]
  },
  {
   "cell_type": "code",
   "execution_count": 24,
   "id": "3c51824b",
   "metadata": {},
   "outputs": [
    {
     "data": {
      "text/plain": [
       "1937.0"
      ]
     },
     "execution_count": 24,
     "metadata": {},
     "output_type": "execute_result"
    }
   ],
   "source": [
    "np.median(df_new['YEAR BUILT'])"
   ]
  },
  {
   "cell_type": "markdown",
   "id": "edc7bf86",
   "metadata": {},
   "source": [
    "menggunakan numpy diketahui bahwa median atau nilai tengah dari year built atau tahun pembuatan properti yang dibangun adalah tahun 1937"
   ]
  },
  {
   "cell_type": "markdown",
   "id": "2f23216f",
   "metadata": {},
   "source": [
    "## Measure of Central Tendency: Modus / Mode"
   ]
  },
  {
   "cell_type": "code",
   "execution_count": 25,
   "id": "bde5d652",
   "metadata": {},
   "outputs": [
    {
     "data": {
      "text/plain": [
       "ModeResult(mode=array([0], dtype=int64), count=array([5391]))"
      ]
     },
     "execution_count": 25,
     "metadata": {},
     "output_type": "execute_result"
    }
   ],
   "source": [
    "scipy.stats.mode(df_new['YEAR BUILT'])"
   ]
  },
  {
   "cell_type": "code",
   "execution_count": 26,
   "id": "0af7549b",
   "metadata": {},
   "outputs": [
    {
     "data": {
      "text/plain": [
       "BOROUGH                           1\n",
       "TOTAL UNITS                       0\n",
       "YEAR BUILT                     1955\n",
       "TAX CLASS AT TIME OF SALE         2\n",
       "SALE PRICE                   775000\n",
       "Name: 6888, dtype: object"
      ]
     },
     "execution_count": 26,
     "metadata": {},
     "output_type": "execute_result"
    }
   ],
   "source": [
    "df_new.iloc[5391]"
   ]
  },
  {
   "cell_type": "markdown",
   "id": "64c0b22b",
   "metadata": {},
   "source": [
    "dapat diketahui menggunakan library scipy untuk mencari modus data bahwa modus dataset ini berada pada array 5391. Jika dilakukan pencarian menggunakan fungsi iloc maka dapat diketahui bahwa modus (data yang paling banyak muncul) dari kolom YEAR BUILT adalah tahun 1955 dengan borough 1 atau manhattan"
   ]
  },
  {
   "cell_type": "markdown",
   "id": "17533261",
   "metadata": {},
   "source": [
    "## Measure of Spread : Range"
   ]
  },
  {
   "cell_type": "code",
   "execution_count": 27,
   "id": "959b564d",
   "metadata": {},
   "outputs": [
    {
     "data": {
      "text/plain": [
       "array([1900, 1913, 1900, ..., 1925, 2001, 2006], dtype=int64)"
      ]
     },
     "execution_count": 27,
     "metadata": {},
     "output_type": "execute_result"
    }
   ],
   "source": [
    "df_year = df_new['YEAR BUILT'].to_numpy()\n",
    "df_year"
   ]
  },
  {
   "cell_type": "markdown",
   "id": "be7a88cf",
   "metadata": {},
   "source": [
    "dibuat variabel baru untuk menyimpan nilai df['YEAR BUILT'] yang diubah menjadi array untuk dilakukan perhitungan range()"
   ]
  },
  {
   "cell_type": "code",
   "execution_count": 28,
   "id": "b34fd694",
   "metadata": {},
   "outputs": [
    {
     "data": {
      "text/plain": [
       "2017"
      ]
     },
     "execution_count": 28,
     "metadata": {},
     "output_type": "execute_result"
    }
   ],
   "source": [
    "np.ptp(df_year)"
   ]
  },
  {
   "cell_type": "markdown",
   "id": "c4f03f6f",
   "metadata": {},
   "source": [
    "np.ptp mengembalikan rentang nilai sepanjang sumbu, atau sama saja dengan peak to peak yang berarti pengurangan nilai ujung terbesar dengan nilai ujung terkecil"
   ]
  },
  {
   "cell_type": "code",
   "execution_count": 29,
   "id": "6616465f",
   "metadata": {},
   "outputs": [
    {
     "data": {
      "text/plain": [
       "2017"
      ]
     },
     "execution_count": 29,
     "metadata": {},
     "output_type": "execute_result"
    }
   ],
   "source": [
    "np.amax(df_year) - np.amin(df_year) "
   ]
  },
  {
   "cell_type": "markdown",
   "id": "8edd65c6",
   "metadata": {},
   "source": [
    "hasil dari amax-amin sama dengan hasil np.ptp yaitu 2017"
   ]
  },
  {
   "cell_type": "code",
   "execution_count": 30,
   "id": "3c8fa86b",
   "metadata": {},
   "outputs": [
    {
     "data": {
      "text/plain": [
       "2017"
      ]
     },
     "execution_count": 30,
     "metadata": {},
     "output_type": "execute_result"
    }
   ],
   "source": [
    "np.amax(df_year)"
   ]
  },
  {
   "cell_type": "markdown",
   "id": "d142533e",
   "metadata": {},
   "source": [
    "jika melakukan amax maka akan diketahui nilai maksimum pada df_year adalah 2017"
   ]
  },
  {
   "cell_type": "code",
   "execution_count": 31,
   "id": "8db3fcf3",
   "metadata": {},
   "outputs": [
    {
     "data": {
      "text/plain": [
       "0"
      ]
     },
     "execution_count": 31,
     "metadata": {},
     "output_type": "execute_result"
    }
   ],
   "source": [
    "np.amin(df_year)"
   ]
  },
  {
   "cell_type": "markdown",
   "id": "f3158077",
   "metadata": {},
   "source": [
    "jika melakukan amin maka akan diketahui nilai maksimum pada df_year adalah 0"
   ]
  },
  {
   "cell_type": "markdown",
   "id": "ab35a225",
   "metadata": {},
   "source": [
    "## Measure of Spread : Variance"
   ]
  },
  {
   "cell_type": "code",
   "execution_count": 32,
   "id": "ace8bb5e",
   "metadata": {
    "scrolled": true
   },
   "outputs": [
    {
     "data": {
      "text/plain": [
       "0         5.0\n",
       "3        10.0\n",
       "4         6.0\n",
       "6         8.0\n",
       "9        24.0\n",
       "         ... \n",
       "84543     2.0\n",
       "84544     2.0\n",
       "84545     2.0\n",
       "84546     7.0\n",
       "84547     1.0\n",
       "Name: TOTAL UNITS, Length: 69987, dtype: float64"
      ]
     },
     "execution_count": 32,
     "metadata": {},
     "output_type": "execute_result"
    }
   ],
   "source": [
    "df_total = df_new['TOTAL UNITS'].astype(float)\n",
    "df_total"
   ]
  },
  {
   "cell_type": "markdown",
   "id": "cf99da58",
   "metadata": {},
   "source": [
    "dibuat variabel baru untuk menyimpan kolom TOTAL UNITS dan diubah menjadi float"
   ]
  },
  {
   "cell_type": "code",
   "execution_count": 33,
   "id": "6821fdf4",
   "metadata": {},
   "outputs": [
    {
     "data": {
      "text/plain": [
       "298.463635800087"
      ]
     },
     "execution_count": 33,
     "metadata": {},
     "output_type": "execute_result"
    }
   ],
   "source": [
    "np_var = np.var(df_total, ddof=1)\n",
    "np_var"
   ]
  },
  {
   "cell_type": "markdown",
   "id": "750083fd",
   "metadata": {},
   "source": [
    "varians digunakan untuk melihat ukuran seberap jauh suatu data tersebar di sekitar rata-rata. Semakin besar nilai varians maka semakin jauh data yang kita gunakan tersebar dari nilai rata-ratanya.\n",
    "\n",
    "diketahui bahwa varians dengan parameter data yang digunakan dan ddof=1 memberikan estimator yang tidak bias dari varian populasi tak terbatas adalah 298,463"
   ]
  },
  {
   "cell_type": "markdown",
   "id": "1a04b675",
   "metadata": {},
   "source": [
    "## Measure of Spread : Standard Deviation"
   ]
  },
  {
   "cell_type": "code",
   "execution_count": 34,
   "id": "bfc447a0",
   "metadata": {},
   "outputs": [
    {
     "data": {
      "text/plain": [
       "17.276100132845"
      ]
     },
     "execution_count": 34,
     "metadata": {},
     "output_type": "execute_result"
    }
   ],
   "source": [
    "df_total.std()"
   ]
  },
  {
   "cell_type": "code",
   "execution_count": 35,
   "id": "28a0af54",
   "metadata": {},
   "outputs": [
    {
     "data": {
      "text/plain": [
       "17.276100132845"
      ]
     },
     "execution_count": 35,
     "metadata": {},
     "output_type": "execute_result"
    }
   ],
   "source": [
    "stdev = np.std(df_total, ddof=1)\n",
    "stdev"
   ]
  },
  {
   "cell_type": "markdown",
   "id": "f02043d7",
   "metadata": {},
   "source": [
    "dapat menulis fungsi std() maupun np,std() untuk melihat nilai standar deviasi. Hasil yang didapatkan sama saja."
   ]
  },
  {
   "cell_type": "code",
   "execution_count": 36,
   "id": "ce111d36",
   "metadata": {},
   "outputs": [
    {
     "data": {
      "text/plain": [
       "17.276100132845"
      ]
     },
     "execution_count": 36,
     "metadata": {},
     "output_type": "execute_result"
    }
   ],
   "source": [
    "stdev = np_var**(1/2)\n",
    "stdev"
   ]
  },
  {
   "cell_type": "markdown",
   "id": "55df809e",
   "metadata": {},
   "source": [
    "Dapat juga mengambil nilai varians yang telah disimpan dalam 1 variabel dan mengalikannya dengan 1/2. Hasil yang didapatkan juga sama saja dengan yang di atas yaitu 17.276100132845.\n",
    "\n",
    "Standar deviasi merupakan akar dari varians"
   ]
  },
  {
   "cell_type": "markdown",
   "id": "243d18e6",
   "metadata": {},
   "source": [
    "## Probability Distribution"
   ]
  },
  {
   "cell_type": "code",
   "execution_count": 37,
   "id": "4c6f3796",
   "metadata": {},
   "outputs": [
    {
     "name": "stderr",
     "output_type": "stream",
     "text": [
      "D:\\anaconda3\\lib\\site-packages\\seaborn\\distributions.py:2619: FutureWarning: `distplot` is a deprecated function and will be removed in a future version. Please adapt your code to use either `displot` (a figure-level function with similar flexibility) or `histplot` (an axes-level function for histograms).\n",
      "  warnings.warn(msg, FutureWarning)\n"
     ]
    },
    {
     "data": {
      "image/png": "[encoded data removed]",
      "text/plain": [
       "<Figure size 432x288 with 1 Axes>"
      ]
     },
     "metadata": {
      "needs_background": "light"
     },
     "output_type": "display_data"
    }
   ],
   "source": [
    "sns.distplot(df_total)\n",
    "plt.xlabel('TOTAL UNITS OF PROPERTY')\n",
    "plt.ylabel('Frequency')\n",
    "plt.show()"
   ]
  },
  {
   "cell_type": "markdown",
   "id": "c19f8d1d",
   "metadata": {},
   "source": [
    "fungsi distplot pada library seaborn berguna untuk menggambarkan plot variasi dalam distribusi kepadatan data yang digambarkan dengan histogram dan kombinasi garis dengannya\n",
    "\n",
    "label x yang digunakan adalah total units dan y merupakan frequency kemunculan data\n",
    "\n",
    "distribusi probabilitas dari data ini condong ke kiri sehingga menghasilkan histogram yang tidak simetris"
   ]
  },
  {
   "cell_type": "markdown",
   "id": "d23b7795",
   "metadata": {},
   "source": [
    "## CONFIDENCE INTERVALS"
   ]
  },
  {
   "cell_type": "code",
   "execution_count": 38,
   "id": "7fd8ab58",
   "metadata": {},
   "outputs": [
    {
     "data": {
      "text/html": [
       "<div>\n",
       "<style scoped>\n",
       "    .dataframe tbody tr th:only-of-type {\n",
       "        vertical-align: middle;\n",
       "    }\n",
       "\n",
       "    .dataframe tbody tr th {\n",
       "        vertical-align: top;\n",
       "    }\n",
       "\n",
       "    .dataframe thead th {\n",
       "        text-align: right;\n",
       "    }\n",
       "</style>\n",
       "<table border=\"1\" class=\"dataframe\">\n",
       "  <thead>\n",
       "    <tr style=\"text-align: right;\">\n",
       "      <th></th>\n",
       "      <th></th>\n",
       "      <th>YEAR BUILT</th>\n",
       "    </tr>\n",
       "    <tr>\n",
       "      <th>TAX CLASS AT TIME OF SALE</th>\n",
       "      <th>YEAR BUILT</th>\n",
       "      <th></th>\n",
       "    </tr>\n",
       "  </thead>\n",
       "  <tbody>\n",
       "    <tr>\n",
       "      <th rowspan=\"5\" valign=\"top\">1</th>\n",
       "      <th>0</th>\n",
       "      <td>1142</td>\n",
       "    </tr>\n",
       "    <tr>\n",
       "      <th>1800</th>\n",
       "      <td>7</td>\n",
       "    </tr>\n",
       "    <tr>\n",
       "      <th>1829</th>\n",
       "      <td>1</td>\n",
       "    </tr>\n",
       "    <tr>\n",
       "      <th>1835</th>\n",
       "      <td>2</td>\n",
       "    </tr>\n",
       "    <tr>\n",
       "      <th>1844</th>\n",
       "      <td>1</td>\n",
       "    </tr>\n",
       "    <tr>\n",
       "      <th>...</th>\n",
       "      <th>...</th>\n",
       "      <td>...</td>\n",
       "    </tr>\n",
       "    <tr>\n",
       "      <th rowspan=\"5\" valign=\"top\">4</th>\n",
       "      <th>2013</th>\n",
       "      <td>46</td>\n",
       "    </tr>\n",
       "    <tr>\n",
       "      <th>2014</th>\n",
       "      <td>128</td>\n",
       "    </tr>\n",
       "    <tr>\n",
       "      <th>2015</th>\n",
       "      <td>78</td>\n",
       "    </tr>\n",
       "    <tr>\n",
       "      <th>2016</th>\n",
       "      <td>67</td>\n",
       "    </tr>\n",
       "    <tr>\n",
       "      <th>2017</th>\n",
       "      <td>2</td>\n",
       "    </tr>\n",
       "  </tbody>\n",
       "</table>\n",
       "<p>405 rows × 1 columns</p>\n",
       "</div>"
      ],
      "text/plain": [
       "                                      YEAR BUILT\n",
       "TAX CLASS AT TIME OF SALE YEAR BUILT            \n",
       "1                         0                 1142\n",
       "                          1800                 7\n",
       "                          1829                 1\n",
       "                          1835                 2\n",
       "                          1844                 1\n",
       "...                                          ...\n",
       "4                         2013                46\n",
       "                          2014               128\n",
       "                          2015                78\n",
       "                          2016                67\n",
       "                          2017                 2\n",
       "\n",
       "[405 rows x 1 columns]"
      ]
     },
     "execution_count": 38,
     "metadata": {},
     "output_type": "execute_result"
    }
   ],
   "source": [
    "df_new.groupby(['TAX CLASS AT TIME OF SALE', 'YEAR BUILT'])[['YEAR BUILT']].count()"
   ]
  },
  {
   "cell_type": "markdown",
   "id": "52477550",
   "metadata": {},
   "source": [
    "dilakukan pengelompokan penghitungan kolom tax class at time of sale dan tahun pembuatan properti berdasarkan tahun"
   ]
  },
  {
   "cell_type": "code",
   "execution_count": 39,
   "id": "e7bfbc7c",
   "metadata": {},
   "outputs": [
    {
     "data": {
      "text/plain": [
       "1    41533\n",
       "2    36726\n",
       "4     6285\n",
       "3        4\n",
       "Name: TAX CLASS AT TIME OF SALE, dtype: int64"
      ]
     },
     "execution_count": 39,
     "metadata": {},
     "output_type": "execute_result"
    }
   ],
   "source": [
    "df['TAX CLASS AT TIME OF SALE'].value_counts()"
   ]
  },
  {
   "cell_type": "markdown",
   "id": "8253c6d3",
   "metadata": {},
   "source": [
    "melihat value data yang berada pada kolom tersebut. Sehingga, diketahui bahwa terdapat kategori value yang menggambarkan masing-masing data\n",
    "\n",
    "+ tax 1 berguna untuk 1 unit properti\n",
    "+ tax 2 berguna untuk 2,3,4 lebih properti\n",
    "+ tax 3 untuk bisnis atau perusahaan\n",
    "+ tax 4 untuk properti unik seperti gereja dan rumah sakit"
   ]
  },
  {
   "cell_type": "code",
   "execution_count": 40,
   "id": "15fa133f",
   "metadata": {},
   "outputs": [
    {
     "data": {
      "text/plain": [
       "321"
      ]
     },
     "execution_count": 40,
     "metadata": {},
     "output_type": "execute_result"
    }
   ],
   "source": [
    "n = 46 + 128 + 78 + 67 + 2\n",
    "n"
   ]
  },
  {
   "cell_type": "markdown",
   "id": "6e3e4594",
   "metadata": {},
   "source": [
    "diambil data value counts dari tahun 2013-2017 yang menghasilkan n = 321"
   ]
  },
  {
   "cell_type": "code",
   "execution_count": 41,
   "id": "99f22612",
   "metadata": {},
   "outputs": [
    {
     "data": {
      "text/plain": [
       "0.14330218068535824"
      ]
     },
     "execution_count": 41,
     "metadata": {},
     "output_type": "execute_result"
    }
   ],
   "source": [
    "pro_fm = 46/n\n",
    "pro_fm"
   ]
  },
  {
   "cell_type": "code",
   "execution_count": 42,
   "id": "e4476de1",
   "metadata": {},
   "outputs": [
    {
     "name": "stdout",
     "output_type": "stream",
     "text": [
      "321 0.14330218068535824\n"
     ]
    }
   ],
   "source": [
    "print(n, pro_fm)"
   ]
  },
  {
   "cell_type": "code",
   "execution_count": 43,
   "id": "9d34c611",
   "metadata": {},
   "outputs": [
    {
     "data": {
      "text/plain": [
       "0.0195563460787212"
      ]
     },
     "execution_count": 43,
     "metadata": {},
     "output_type": "execute_result"
    }
   ],
   "source": [
    "stderror_fm = (pro_fm*(1-pro_fm)/n)**(1/2)\n",
    "stderror_fm"
   ]
  },
  {
   "cell_type": "markdown",
   "id": "c9d448e9",
   "metadata": {},
   "source": [
    "untuk mencari stderror dari data dengan melakukan perhitungan rumus seperti di atas sehingga menghasilkan std error 0.0195"
   ]
  },
  {
   "cell_type": "code",
   "execution_count": 44,
   "id": "74a1b870",
   "metadata": {},
   "outputs": [
    {
     "name": "stdout",
     "output_type": "stream",
     "text": [
      "lower:  0.10497174237106469\n",
      "upper:  0.1816326189996518\n"
     ]
    }
   ],
   "source": [
    "z_score = 1.96\n",
    "low_ci_fm = pro_fm - (z_score*stderror_fm)\n",
    "up_ci_fm = pro_fm + (z_score*stderror_fm)\n",
    "print('lower: ',low_ci_fm)\n",
    "print('upper: ',up_ci_fm)"
   ]
  },
  {
   "cell_type": "markdown",
   "id": "86bf7c21",
   "metadata": {},
   "source": [
    "kemudian ditentukan z score dan mencari nilai lower dari data dan nilai upper dari data"
   ]
  },
  {
   "cell_type": "code",
   "execution_count": 45,
   "id": "38e08eed",
   "metadata": {},
   "outputs": [
    {
     "name": "stdout",
     "output_type": "stream",
     "text": [
      "Margin Error:  0.03833043831429355\n"
     ]
    }
   ],
   "source": [
    "print('Margin Error: ', (z_score * stderror_fm))"
   ]
  },
  {
   "cell_type": "markdown",
   "id": "1c819207",
   "metadata": {},
   "source": [
    "Margin of error mengidentifikasi seberapa akurat sampel dari populasi tertentu.  Margin error yang didapatkan dari data ini adalah 0,03833"
   ]
  },
  {
   "cell_type": "markdown",
   "id": "1bae2895",
   "metadata": {},
   "source": [
    "## HYPOTHESIS TESTING"
   ]
  },
  {
   "cell_type": "code",
   "execution_count": 46,
   "id": "83af5dab",
   "metadata": {},
   "outputs": [
    {
     "data": {
      "text/html": [
       "<div>\n",
       "<style scoped>\n",
       "    .dataframe tbody tr th:only-of-type {\n",
       "        vertical-align: middle;\n",
       "    }\n",
       "\n",
       "    .dataframe tbody tr th {\n",
       "        vertical-align: top;\n",
       "    }\n",
       "\n",
       "    .dataframe thead th {\n",
       "        text-align: right;\n",
       "    }\n",
       "</style>\n",
       "<table border=\"1\" class=\"dataframe\">\n",
       "  <thead>\n",
       "    <tr style=\"text-align: right;\">\n",
       "      <th></th>\n",
       "      <th>BOROUGH</th>\n",
       "      <th>NEIGHBORHOOD</th>\n",
       "      <th>BUILDING CLASS CATEGORY</th>\n",
       "      <th>TAX CLASS AT PRESENT</th>\n",
       "      <th>BLOCK</th>\n",
       "      <th>LOT</th>\n",
       "      <th>EASE-MENT</th>\n",
       "      <th>BUILDING CLASS AT PRESENT</th>\n",
       "      <th>ADDRESS</th>\n",
       "      <th>APARTMENT NUMBER</th>\n",
       "      <th>ZIP CODE</th>\n",
       "      <th>RESIDENTIAL UNITS</th>\n",
       "      <th>COMMERCIAL UNITS</th>\n",
       "      <th>TOTAL UNITS</th>\n",
       "      <th>LAND SQUARE FEET</th>\n",
       "      <th>GROSS SQUARE FEET</th>\n",
       "      <th>YEAR BUILT</th>\n",
       "      <th>TAX CLASS AT TIME OF SALE</th>\n",
       "      <th>BUILDING CLASS AT TIME OF SALE</th>\n",
       "      <th>SALE PRICE</th>\n",
       "      <th>SALE DATE</th>\n",
       "    </tr>\n",
       "  </thead>\n",
       "  <tbody>\n",
       "    <tr>\n",
       "      <th>0</th>\n",
       "      <td>1</td>\n",
       "      <td>ALPHABET CITY</td>\n",
       "      <td>07 RENTALS - WALKUP APARTMENTS</td>\n",
       "      <td>2A</td>\n",
       "      <td>392</td>\n",
       "      <td>6</td>\n",
       "      <td></td>\n",
       "      <td>C2</td>\n",
       "      <td>153 AVENUE B</td>\n",
       "      <td></td>\n",
       "      <td>10009</td>\n",
       "      <td>5</td>\n",
       "      <td>0</td>\n",
       "      <td>5</td>\n",
       "      <td>1633</td>\n",
       "      <td>6440</td>\n",
       "      <td>1900</td>\n",
       "      <td>2</td>\n",
       "      <td>C2</td>\n",
       "      <td>6625000</td>\n",
       "      <td>2017-07-19 00:00:00</td>\n",
       "    </tr>\n",
       "    <tr>\n",
       "      <th>1</th>\n",
       "      <td>1</td>\n",
       "      <td>ALPHABET CITY</td>\n",
       "      <td>07 RENTALS - WALKUP APARTMENTS</td>\n",
       "      <td>2</td>\n",
       "      <td>399</td>\n",
       "      <td>26</td>\n",
       "      <td></td>\n",
       "      <td>C7</td>\n",
       "      <td>234 EAST 4TH   STREET</td>\n",
       "      <td></td>\n",
       "      <td>10009</td>\n",
       "      <td>28</td>\n",
       "      <td>3</td>\n",
       "      <td>31</td>\n",
       "      <td>4616</td>\n",
       "      <td>18690</td>\n",
       "      <td>1900</td>\n",
       "      <td>2</td>\n",
       "      <td>C7</td>\n",
       "      <td>-</td>\n",
       "      <td>2016-12-14 00:00:00</td>\n",
       "    </tr>\n",
       "    <tr>\n",
       "      <th>2</th>\n",
       "      <td>1</td>\n",
       "      <td>ALPHABET CITY</td>\n",
       "      <td>07 RENTALS - WALKUP APARTMENTS</td>\n",
       "      <td>2</td>\n",
       "      <td>399</td>\n",
       "      <td>39</td>\n",
       "      <td></td>\n",
       "      <td>C7</td>\n",
       "      <td>197 EAST 3RD   STREET</td>\n",
       "      <td></td>\n",
       "      <td>10009</td>\n",
       "      <td>16</td>\n",
       "      <td>1</td>\n",
       "      <td>17</td>\n",
       "      <td>2212</td>\n",
       "      <td>7803</td>\n",
       "      <td>1900</td>\n",
       "      <td>2</td>\n",
       "      <td>C7</td>\n",
       "      <td>-</td>\n",
       "      <td>2016-12-09 00:00:00</td>\n",
       "    </tr>\n",
       "    <tr>\n",
       "      <th>3</th>\n",
       "      <td>1</td>\n",
       "      <td>ALPHABET CITY</td>\n",
       "      <td>07 RENTALS - WALKUP APARTMENTS</td>\n",
       "      <td>2B</td>\n",
       "      <td>402</td>\n",
       "      <td>21</td>\n",
       "      <td></td>\n",
       "      <td>C4</td>\n",
       "      <td>154 EAST 7TH STREET</td>\n",
       "      <td></td>\n",
       "      <td>10009</td>\n",
       "      <td>10</td>\n",
       "      <td>0</td>\n",
       "      <td>10</td>\n",
       "      <td>2272</td>\n",
       "      <td>6794</td>\n",
       "      <td>1913</td>\n",
       "      <td>2</td>\n",
       "      <td>C4</td>\n",
       "      <td>3936272</td>\n",
       "      <td>2016-09-23 00:00:00</td>\n",
       "    </tr>\n",
       "    <tr>\n",
       "      <th>4</th>\n",
       "      <td>1</td>\n",
       "      <td>ALPHABET CITY</td>\n",
       "      <td>07 RENTALS - WALKUP APARTMENTS</td>\n",
       "      <td>2A</td>\n",
       "      <td>404</td>\n",
       "      <td>55</td>\n",
       "      <td></td>\n",
       "      <td>C2</td>\n",
       "      <td>301 EAST 10TH   STREET</td>\n",
       "      <td></td>\n",
       "      <td>10009</td>\n",
       "      <td>6</td>\n",
       "      <td>0</td>\n",
       "      <td>6</td>\n",
       "      <td>2369</td>\n",
       "      <td>4615</td>\n",
       "      <td>1900</td>\n",
       "      <td>2</td>\n",
       "      <td>C2</td>\n",
       "      <td>8000000</td>\n",
       "      <td>2016-11-17 00:00:00</td>\n",
       "    </tr>\n",
       "  </tbody>\n",
       "</table>\n",
       "</div>"
      ],
      "text/plain": [
       "   BOROUGH   NEIGHBORHOOD                      BUILDING CLASS CATEGORY  \\\n",
       "0        1  ALPHABET CITY  07 RENTALS - WALKUP APARTMENTS                \n",
       "1        1  ALPHABET CITY  07 RENTALS - WALKUP APARTMENTS                \n",
       "2        1  ALPHABET CITY  07 RENTALS - WALKUP APARTMENTS                \n",
       "3        1  ALPHABET CITY  07 RENTALS - WALKUP APARTMENTS                \n",
       "4        1  ALPHABET CITY  07 RENTALS - WALKUP APARTMENTS                \n",
       "\n",
       "  TAX CLASS AT PRESENT  BLOCK  LOT EASE-MENT BUILDING CLASS AT PRESENT  \\\n",
       "0                   2A    392    6                                  C2   \n",
       "1                    2    399   26                                  C7   \n",
       "2                    2    399   39                                  C7   \n",
       "3                   2B    402   21                                  C4   \n",
       "4                   2A    404   55                                  C2   \n",
       "\n",
       "                  ADDRESS APARTMENT NUMBER  ZIP CODE  RESIDENTIAL UNITS  \\\n",
       "0            153 AVENUE B                      10009                  5   \n",
       "1   234 EAST 4TH   STREET                      10009                 28   \n",
       "2   197 EAST 3RD   STREET                      10009                 16   \n",
       "3     154 EAST 7TH STREET                      10009                 10   \n",
       "4  301 EAST 10TH   STREET                      10009                  6   \n",
       "\n",
       "   COMMERCIAL UNITS  TOTAL UNITS LAND SQUARE FEET GROSS SQUARE FEET  \\\n",
       "0                 0            5             1633              6440   \n",
       "1                 3           31             4616             18690   \n",
       "2                 1           17             2212              7803   \n",
       "3                 0           10             2272              6794   \n",
       "4                 0            6             2369              4615   \n",
       "\n",
       "   YEAR BUILT  TAX CLASS AT TIME OF SALE BUILDING CLASS AT TIME OF SALE  \\\n",
       "0        1900                          2                             C2   \n",
       "1        1900                          2                             C7   \n",
       "2        1900                          2                             C7   \n",
       "3        1913                          2                             C4   \n",
       "4        1900                          2                             C2   \n",
       "\n",
       "  SALE PRICE            SALE DATE  \n",
       "0    6625000  2017-07-19 00:00:00  \n",
       "1        -    2016-12-14 00:00:00  \n",
       "2        -    2016-12-09 00:00:00  \n",
       "3    3936272  2016-09-23 00:00:00  \n",
       "4    8000000  2016-11-17 00:00:00  "
      ]
     },
     "execution_count": 46,
     "metadata": {},
     "output_type": "execute_result"
    }
   ],
   "source": [
    "pd.set_option('display.max.columns',25)\n",
    "df.head()"
   ]
  },
  {
   "cell_type": "markdown",
   "id": "c74103ac",
   "metadata": {},
   "source": [
    "menampilkan kembali data df dan melakukan set tampilan kolom"
   ]
  },
  {
   "cell_type": "markdown",
   "id": "25184cec",
   "metadata": {},
   "source": [
    "**Hipotesis**\n",
    "\n",
    "Uji apakah rata-rata total unit properti di Manhattan lebih rendah daripada rata-rata total unit properti di Queens\n",
    "+ H0 : rrata-rata total unit properti di Manhattan lebih rendah daripada rata-rata total unit properti di Queens\n",
    "\n",
    "+ H1 : rata-rata total unit properti di Manhattan tidak lebih rendah (lebih tinggi ) daripada rata-rata total unit properti di Queens\n",
    "\n",
    "atau\n",
    "\n",
    "+ H0 : manhattan < queens\n",
    "+ H1 : manhattan > queens"
   ]
  },
  {
   "cell_type": "code",
   "execution_count": 47,
   "id": "1f4c66e5",
   "metadata": {},
   "outputs": [],
   "source": [
    "manhattan = df[df.BOROUGH==1]\n",
    "queens = df[df.BOROUGH==4]"
   ]
  },
  {
   "cell_type": "markdown",
   "id": "e123d612",
   "metadata": {},
   "source": [
    "membuat variabel manhattan yang diambil dari dataframe kolom BOROUGH yang diwakili dengan angka 1 dan membuat variabel baru wilayah queens yang diambil dari dataframe kolom BOROUGH yang diwakili dengan angka 4."
   ]
  },
  {
   "cell_type": "code",
   "execution_count": 48,
   "id": "c835ca27",
   "metadata": {},
   "outputs": [
    {
     "name": "stdout",
     "output_type": "stream",
     "text": [
      "18306 2.6496230744018354 23.30787338255291\n"
     ]
    }
   ],
   "source": [
    "n_manhat = len(manhattan)\n",
    "mean_manhat = manhattan['TOTAL UNITS'].mean()\n",
    "std_manhat = manhattan['TOTAL UNITS'].std()\n",
    "print(n_manhat,mean_manhat,std_manhat)"
   ]
  },
  {
   "cell_type": "markdown",
   "id": "a3916937",
   "metadata": {},
   "source": [
    "dihitung banyaknya data yang bersangkutan dengan manhattan menggunakn fungsi len(). selanjutnya dicari mean dan standar deviasi dari data yang menyangkut manhattan berdasarkan TOTAL UNITS properti"
   ]
  },
  {
   "cell_type": "code",
   "execution_count": 49,
   "id": "64a17d78",
   "metadata": {},
   "outputs": [
    {
     "name": "stdout",
     "output_type": "stream",
     "text": [
      "26736 1.9389961101137043 23.290275582287226\n"
     ]
    }
   ],
   "source": [
    "n_queens = len(queens)\n",
    "mean_queens = queens['TOTAL UNITS'].mean()\n",
    "std_queens = queens['TOTAL UNITS'].std()\n",
    "print(n_queens,mean_queens,std_queens)"
   ]
  },
  {
   "cell_type": "markdown",
   "id": "9a434404",
   "metadata": {},
   "source": [
    "dihitung banyaknya data yang bersangkutan dengan queens menggunakn fungsi len(). selanjutnya dicari mean dan standar deviasi dari data yang menyangkut queens berdasarkan TOTAL UNITS properti"
   ]
  },
  {
   "cell_type": "code",
   "execution_count": 50,
   "id": "0c6671d9",
   "metadata": {},
   "outputs": [],
   "source": [
    "#confidence level 95%\n",
    "alpha=0.05"
   ]
  },
  {
   "cell_type": "markdown",
   "id": "bd55b154",
   "metadata": {},
   "source": [
    "menetapkan alpha 0.05 atau standar kepercayaan dari data adalah 95%"
   ]
  },
  {
   "cell_type": "code",
   "execution_count": 51,
   "id": "2e27c9b2",
   "metadata": {},
   "outputs": [
    {
     "data": {
      "text/plain": [
       "(3.1795802715348573, 0.0007374425666509496)"
      ]
     },
     "execution_count": 51,
     "metadata": {},
     "output_type": "execute_result"
    }
   ],
   "source": [
    "total_hypo_borough = sm.stats.ztest(manhattan['TOTAL UNITS'].astype('float64').dropna(),queens['TOTAL UNITS'].astype('float64').dropna(),alternative='larger')\n",
    "total_hypo_borough"
   ]
  },
  {
   "cell_type": "markdown",
   "id": "22d82bdd",
   "metadata": {},
   "source": [
    "untuk melihat hipotesanya, dilakukan perhitungan dengan fungsi ztest dari library stats dan dihapuskan nilai null dari kolom dengan menghitung total units dari manhattan dan queens"
   ]
  },
  {
   "cell_type": "code",
   "execution_count": 52,
   "id": "6e4814a1",
   "metadata": {},
   "outputs": [
    {
     "name": "stdout",
     "output_type": "stream",
     "text": [
      "Reject Null Hypotesis (h0) Accept H1\n"
     ]
    }
   ],
   "source": [
    "if total_hypo_borough[1]>alpha:\n",
    "    print('Accept Null Hypotesis (h0) Reject H1')\n",
    "else:\n",
    "    print('Reject Null Hypotesis (h0) Accept H1')"
   ]
  },
  {
   "cell_type": "markdown",
   "id": "c47c0f84",
   "metadata": {},
   "source": [
    "kemudian, total_hypo yang dicari tadi dilihat apakah lebih dari alpha atau tidak, jika lebih maka akan menerima H0.\n",
    "\n",
    "Namun, hasil yang didapattkan adalah menolak H0 yang berarti total units manhattan lebih tinggi/besar dibandingkan queens"
   ]
  }
 ],
 "metadata": {
  "kernelspec": {
   "display_name": "Python 3 (ipykernel)",
   "language": "python",
   "name": "python3"
  },
  "language_info": {
   "codemirror_mode": {
    "name": "ipython",
    "version": 3
   },
   "file_extension": ".py",
   "mimetype": "text/x-python",
   "name": "python",
   "nbconvert_exporter": "python",
   "pygments_lexer": "ipython3",
   "version": "3.9.12"
  }
 },
 "nbformat": 4,
 "nbformat_minor": 5
}
