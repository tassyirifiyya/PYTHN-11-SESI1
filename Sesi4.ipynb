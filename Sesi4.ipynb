{
 "cells": [
  {
   "cell_type": "code",
   "execution_count": 17,
   "id": "c1c5589b",
   "metadata": {},
   "outputs": [
    {
     "name": "stdout",
     "output_type": "stream",
     "text": [
      " Masukan Angka 1 = 10\n",
      "Masukan Operator angkanya +\n",
      "Masukan  Angka 2 = 10\n",
      "20\n",
      "None\n"
     ]
    }
   ],
   "source": [
    "def tambah (a,b):\n",
    "    print(a+b) \n",
    "\n",
    "def kurang(a,b):\n",
    "    print(a-b)\n",
    "\n",
    "def kali (a,b):\n",
    "    print(a*b)\n",
    "\n",
    "def bagi (a,b):\n",
    "    print(a//b)\n",
    "\n",
    "def pangkat (a,b):\n",
    "    print(a**b)\n",
    "\n",
    "try:\n",
    "    a = int(input(\" Masukan Angka 1 = \"))\n",
    "    c = input(\"Masukan Operator angkanya \")\n",
    "    b = int(input(\"Masukan  Angka 2 = \"))\n",
    "\n",
    "    if c == \"+\":\n",
    "        print(tambah(a,b))\n",
    "    elif c ==\"-\":\n",
    "        kurang(a,b)\n",
    "        print(kurang(a,b))\n",
    "    elif c ==\"x\":\n",
    "        print(kali(a,b))\n",
    "    elif c ==\":\":\n",
    "        print(bagi(a,b))\n",
    "    else:\n",
    "        print(\"Operator tidak ditemukan\")\n",
    "\n",
    "except ValueError:\n",
    "    print(\"Tipe data salah\")\n"
   ]
  },
  {
   "cell_type": "code",
   "execution_count": 18,
   "id": "905353ae",
   "metadata": {},
   "outputs": [],
   "source": [
    "import numpy as np"
   ]
  },
  {
   "cell_type": "code",
   "execution_count": 19,
   "id": "fac97dd4",
   "metadata": {},
   "outputs": [],
   "source": [
    "c = np.array([1,2,3])"
   ]
  },
  {
   "cell_type": "code",
   "execution_count": 20,
   "id": "8124a0ab",
   "metadata": {
    "scrolled": true
   },
   "outputs": [
    {
     "data": {
      "text/plain": [
       "array([1, 2, 3])"
      ]
     },
     "execution_count": 20,
     "metadata": {},
     "output_type": "execute_result"
    }
   ],
   "source": [
    "c"
   ]
  },
  {
   "cell_type": "markdown",
   "id": "28dc0187",
   "metadata": {},
   "source": [
    "## One Dimensional Array"
   ]
  },
  {
   "cell_type": "markdown",
   "id": "0ed0f175",
   "metadata": {},
   "source": [
    "### Indexing dan Slicing"
   ]
  },
  {
   "cell_type": "code",
   "execution_count": 21,
   "id": "e5decc67",
   "metadata": {},
   "outputs": [
    {
     "data": {
      "text/plain": [
       "1"
      ]
     },
     "execution_count": 21,
     "metadata": {},
     "output_type": "execute_result"
    }
   ],
   "source": [
    "c[0]"
   ]
  },
  {
   "cell_type": "code",
   "execution_count": 32,
   "id": "bb7781de",
   "metadata": {},
   "outputs": [],
   "source": [
    "array_1 = [1,2,3,4,5,6,7,8]"
   ]
  },
  {
   "cell_type": "code",
   "execution_count": 33,
   "id": "95b1265f",
   "metadata": {},
   "outputs": [
    {
     "data": {
      "text/plain": [
       "[4, 5, 6, 7, 8]"
      ]
     },
     "execution_count": 33,
     "metadata": {},
     "output_type": "execute_result"
    }
   ],
   "source": [
    "array_1[3:]"
   ]
  },
  {
   "cell_type": "code",
   "execution_count": 44,
   "id": "434a3afe",
   "metadata": {},
   "outputs": [
    {
     "ename": "TypeError",
     "evalue": "'tuple' object is not callable",
     "output_type": "error",
     "traceback": [
      "\u001b[1;31m---------------------------------------------------------------------------\u001b[0m",
      "\u001b[1;31mTypeError\u001b[0m                                 Traceback (most recent call last)",
      "Input \u001b[1;32mIn [44]\u001b[0m, in \u001b[0;36m<cell line: 2>\u001b[1;34m()\u001b[0m\n\u001b[0;32m      1\u001b[0m c \u001b[38;5;241m=\u001b[39m np\u001b[38;5;241m.\u001b[39marray(array_1)\n\u001b[1;32m----> 2\u001b[0m \u001b[43mc\u001b[49m\u001b[38;5;241;43m.\u001b[39;49m\u001b[43mshape\u001b[49m\u001b[43m(\u001b[49m\u001b[43m)\u001b[49m\n",
      "\u001b[1;31mTypeError\u001b[0m: 'tuple' object is not callable"
     ]
    }
   ],
   "source": [
    "c = np.array(array_1)\n",
    "c.shape()"
   ]
  },
  {
   "cell_type": "markdown",
   "id": "bb1e8033",
   "metadata": {},
   "source": [
    "## Two Dimensional Array, Consist of list of list"
   ]
  },
  {
   "cell_type": "code",
   "execution_count": 24,
   "id": "0957f008",
   "metadata": {},
   "outputs": [],
   "source": [
    "list_of_list = [[1,2,3],[4,5,6],[7,8,9]]"
   ]
  },
  {
   "cell_type": "code",
   "execution_count": 25,
   "id": "1a7b95fe",
   "metadata": {},
   "outputs": [
    {
     "data": {
      "text/plain": [
       "[1, 2, 3]"
      ]
     },
     "execution_count": 25,
     "metadata": {},
     "output_type": "execute_result"
    }
   ],
   "source": [
    "list_of_list[0]"
   ]
  },
  {
   "cell_type": "code",
   "execution_count": 27,
   "id": "6ad672f1",
   "metadata": {},
   "outputs": [
    {
     "data": {
      "text/plain": [
       "array([[1, 2, 3],\n",
       "       [4, 5, 6],\n",
       "       [7, 8, 9]])"
      ]
     },
     "execution_count": 27,
     "metadata": {},
     "output_type": "execute_result"
    }
   ],
   "source": [
    "np.array(list_of_list)"
   ]
  },
  {
   "cell_type": "code",
   "execution_count": 36,
   "id": "912a849c",
   "metadata": {},
   "outputs": [
    {
     "name": "stdout",
     "output_type": "stream",
     "text": [
      "(3, 3)\n"
     ]
    }
   ],
   "source": [
    "array_2 = np.array(list_of_list)\n",
    "array_2\n",
    "print(array_2.shape)"
   ]
  },
  {
   "cell_type": "code",
   "execution_count": 37,
   "id": "9e968f8d",
   "metadata": {
    "scrolled": true
   },
   "outputs": [
    {
     "name": "stdout",
     "output_type": "stream",
     "text": [
      "(3, 2)\n"
     ]
    },
    {
     "data": {
      "text/plain": [
       "array([[1, 2],\n",
       "       [3, 4],\n",
       "       [5, 6]])"
      ]
     },
     "execution_count": 37,
     "metadata": {},
     "output_type": "execute_result"
    }
   ],
   "source": [
    "list_of_list = [[1,2],[3,4],[5,6]]\n",
    "array_3 = np.array(list_of_list)\n",
    "print(array_3.shape)\n",
    "array_3"
   ]
  },
  {
   "cell_type": "code",
   "execution_count": 40,
   "id": "e2d8931b",
   "metadata": {},
   "outputs": [
    {
     "data": {
      "text/plain": [
       "array([0., 0., 0., 0., 0., 0., 0., 0.])"
      ]
     },
     "execution_count": 40,
     "metadata": {},
     "output_type": "execute_result"
    }
   ],
   "source": [
    "#np.zeros\n",
    "np.zeros(8)"
   ]
  },
  {
   "cell_type": "code",
   "execution_count": 42,
   "id": "9c3a71e5",
   "metadata": {},
   "outputs": [
    {
     "name": "stdout",
     "output_type": "stream",
     "text": [
      "[0. 0. 0. 0. 0. 0. 0. 0.]\n",
      "[[0. 0.]\n",
      " [0. 0.]\n",
      " [0. 0.]]\n"
     ]
    }
   ],
   "source": [
    "print(np.zeros(8))\n",
    "print(np.zeros([3,2])) #3 baris 2 kolom"
   ]
  },
  {
   "cell_type": "code",
   "execution_count": 46,
   "id": "4dfd24b3",
   "metadata": {},
   "outputs": [
    {
     "name": "stdout",
     "output_type": "stream",
     "text": [
      "[1. 1. 1. 1.]\n",
      "[[1. 1.]\n",
      " [1. 1.]\n",
      " [1. 1.]\n",
      " [1. 1.]]\n"
     ]
    }
   ],
   "source": [
    "#np.ones\n",
    "print(np.ones(4))\n",
    "print(np.ones([4,2]))"
   ]
  },
  {
   "cell_type": "code",
   "execution_count": 49,
   "id": "08198a68",
   "metadata": {},
   "outputs": [
    {
     "data": {
      "text/plain": [
       "array([[0., 0.],\n",
       "       [0., 0.],\n",
       "       [0., 0.]])"
      ]
     },
     "execution_count": 49,
     "metadata": {},
     "output_type": "execute_result"
    }
   ],
   "source": [
    "#np.empty ##generate random values\n",
    "np.empty(5)\n",
    "np.empty((3,2))"
   ]
  },
  {
   "cell_type": "code",
   "execution_count": 55,
   "id": "5399a382",
   "metadata": {},
   "outputs": [
    {
     "name": "stdout",
     "output_type": "stream",
     "text": [
      "[1 2 3 4 5 6 7 8 9]\n"
     ]
    }
   ],
   "source": [
    "#np.arange\n",
    "# untuk array tapi gabisa buat lebih dari 1 dimensi\n",
    "np.arange(10)\n",
    "print(np.arange(1,10,1))"
   ]
  },
  {
   "cell_type": "code",
   "execution_count": 56,
   "id": "5804fbc9",
   "metadata": {},
   "outputs": [
    {
     "data": {
      "text/plain": [
       "array([ 0,  4,  8, 12, 16, 20, 24, 28])"
      ]
     },
     "execution_count": 56,
     "metadata": {},
     "output_type": "execute_result"
    }
   ],
   "source": [
    "np.arange(0,30,4)"
   ]
  },
  {
   "cell_type": "code",
   "execution_count": 60,
   "id": "97b38774",
   "metadata": {},
   "outputs": [
    {
     "name": "stdout",
     "output_type": "stream",
     "text": [
      "[ 1  2  3  4  5  6  7  8  9  0 70 10 11]\n",
      "[ 1  2  4  5  6  7  8  9  0 70]\n",
      "[1 2 3 4 5 6 7 8]\n"
     ]
    }
   ],
   "source": [
    "x = np.array([1,2,3,4,5,6,7,8,9,0,70])\n",
    "\n",
    "#append\n",
    "print(np.append(x,[10,11]))\n",
    "\n",
    "#delete\n",
    "print(np.delete(x,2))\n",
    "\n",
    "#sort\n",
    "print(np.sort(c))"
   ]
  },
  {
   "cell_type": "code",
   "execution_count": 64,
   "id": "aa751d68",
   "metadata": {},
   "outputs": [
    {
     "name": "stdout",
     "output_type": "stream",
     "text": [
      "1\n",
      "8\n"
     ]
    }
   ],
   "source": [
    "#ndim\n",
    "print(c.ndim)\n",
    "print(c.size)"
   ]
  },
  {
   "cell_type": "code",
   "execution_count": 69,
   "id": "399e9d5b",
   "metadata": {},
   "outputs": [
    {
     "name": "stdout",
     "output_type": "stream",
     "text": [
      "2\n",
      "4\n"
     ]
    }
   ],
   "source": [
    "d = np.zeros([2,2])\n",
    "\n",
    "print(d.ndim)\n",
    "\n",
    "#size\n",
    "print(d.size)"
   ]
  },
  {
   "cell_type": "code",
   "execution_count": 70,
   "id": "5820ad22",
   "metadata": {},
   "outputs": [
    {
     "name": "stdout",
     "output_type": "stream",
     "text": [
      "[[ 1  2  3  4]\n",
      " [ 5  6  7  8]\n",
      " [ 9 10 11 12]]\n"
     ]
    }
   ],
   "source": [
    "x = np.array([1,2,3,4,5,6,7,8,9,10,11,12])\n",
    "#reshape\n",
    "print(x.reshape(3,4))"
   ]
  },
  {
   "cell_type": "code",
   "execution_count": 81,
   "id": "6cea29b7",
   "metadata": {},
   "outputs": [
    {
     "name": "stdout",
     "output_type": "stream",
     "text": [
      "10\n",
      "[[1 2 3]\n",
      " [4 5 6]\n",
      " [7 8 9]]\n"
     ]
    }
   ],
   "source": [
    "y = np.array([1,2,3,4,5,6,7,8,9,10])\n",
    "\n",
    "print(y.size)\n",
    "#reshape\n",
    "print(y[:-1].reshape(3,3))"
   ]
  },
  {
   "cell_type": "code",
   "execution_count": 78,
   "id": "7c78eea6",
   "metadata": {},
   "outputs": [
    {
     "data": {
      "text/plain": [
       "array([[1, 2, 3, 4]])"
      ]
     },
     "execution_count": 78,
     "metadata": {},
     "output_type": "execute_result"
    }
   ],
   "source": [
    "array_3 = np.array([[1,2,3,4]])\n",
    "array_3.shape\n",
    "array_3"
   ]
  },
  {
   "cell_type": "code",
   "execution_count": 80,
   "id": "5ad10f6a",
   "metadata": {},
   "outputs": [
    {
     "data": {
      "text/plain": [
       "(1, 3)"
      ]
     },
     "execution_count": 80,
     "metadata": {},
     "output_type": "execute_result"
    }
   ],
   "source": [
    "#np.newaxis\n",
    "array_4 = np.array([4,5,6])\n",
    "array_4[np.newaxis,:]\n",
    "array_4[np.newaxis].shape"
   ]
  },
  {
   "cell_type": "code",
   "execution_count": 83,
   "id": "195c5ad3",
   "metadata": {},
   "outputs": [
    {
     "name": "stdout",
     "output_type": "stream",
     "text": [
      "(2, 4)\n"
     ]
    }
   ],
   "source": [
    "array_5 = np.array([[1,2,3,4]])\n",
    "array_6 = np.array([[5,6,7,8]])\n",
    "\n",
    "#menumpuk array yang udah dibuat jadi array baru\n",
    "np.vstack([array_5,array_6])\n",
    "print(np.vstack([array_5,array_6]).shape)"
   ]
  },
  {
   "cell_type": "markdown",
   "id": "d5e122f2",
   "metadata": {},
   "source": [
    "### habis break"
   ]
  },
  {
   "cell_type": "code",
   "execution_count": 85,
   "id": "e8a466bd",
   "metadata": {},
   "outputs": [
    {
     "name": "stdout",
     "output_type": "stream",
     "text": [
      "[[3]\n",
      " [4]\n",
      " [5]\n",
      " [6]\n",
      " [7]\n",
      " [8]\n",
      " [9]]\n",
      "(7, 1)\n",
      "[[3 4 5 6 7 8 9]]\n",
      "(1, 7)\n"
     ]
    }
   ],
   "source": [
    "#np.expand_dims\n",
    "array_7 = np.array([3,4,5,6,7,8,9])\n",
    "array_8 = np.expand_dims(array_7,axis=1)\n",
    "array_9 = np.expand_dims(array_7,axis=0)\n",
    "print(array_8)\n",
    "print(array_8.shape)\n",
    "print(array_9)\n",
    "print(array_9.shape)"
   ]
  },
  {
   "cell_type": "code",
   "execution_count": 86,
   "id": "7d456d2f",
   "metadata": {},
   "outputs": [
    {
     "name": "stdout",
     "output_type": "stream",
     "text": [
      "[6 7 8 9]\n",
      "[8]\n",
      "[3 4]\n"
     ]
    }
   ],
   "source": [
    "array_7 = np.array([3,4,5,6,7,8,9])\n",
    "print(array_7[array_7>5])\n",
    "print(array_7[array_7==8])\n",
    "print(array_7[array_7<=4])"
   ]
  },
  {
   "cell_type": "code",
   "execution_count": 87,
   "id": "31f34b9a",
   "metadata": {},
   "outputs": [
    {
     "name": "stdout",
     "output_type": "stream",
     "text": [
      "[ 7  8  9 10]\n"
     ]
    }
   ],
   "source": [
    "array_11 =np.array([[3,5,7],[8,9,10],[-1,-2,-3]])\n",
    "array_11.shape\n",
    "print(array_11[array_11>5])"
   ]
  },
  {
   "cell_type": "markdown",
   "id": "4cbaadcb",
   "metadata": {},
   "source": [
    "## KUIS :("
   ]
  },
  {
   "cell_type": "code",
   "execution_count": 3,
   "id": "7f85b6d3",
   "metadata": {
    "scrolled": true
   },
   "outputs": [
    {
     "name": "stdout",
     "output_type": "stream",
     "text": [
      "How Tall?11\n",
      "***********\n",
      "**********\n",
      "*********\n",
      "********\n",
      "*******\n",
      "******\n",
      "*****\n",
      "****\n",
      "***\n",
      "**\n",
      "*\n",
      "*\n",
      "**\n",
      "***\n",
      "****\n",
      "*****\n",
      "******\n",
      "*******\n",
      "********\n",
      "*********\n",
      "**********\n",
      "***********\n"
     ]
    }
   ],
   "source": [
    "jam_pasir = int(input(\"How Tall?\"))\n",
    "\n",
    "x = 1\n",
    "y = jam_pasir\n",
    "\n",
    "while x <= jam_pasir:\n",
    "    print((x*'')+y*'*')\n",
    "    y = y-1\n",
    "    x = x+1\n",
    "\n",
    "x = 1\n",
    "y = jam_pasir\n",
    "\n",
    "while x <= jam_pasir:\n",
    "    print((y*'')+x*'*')\n",
    "    y = y-1\n",
    "    x = x+1"
   ]
  },
  {
   "cell_type": "code",
   "execution_count": 4,
   "id": "e2d75cbd",
   "metadata": {},
   "outputs": [
    {
     "name": "stdout",
     "output_type": "stream",
     "text": [
      "How Tall?11\n",
      " ***********\n",
      "  *********\n",
      "   *******\n",
      "    *****\n",
      "     ***\n",
      "      *\n",
      "       \n",
      "        \n",
      "         \n",
      "          \n",
      "           \n",
      "           *\n",
      "          ***\n",
      "         *****\n",
      "        *******\n",
      "       *********\n",
      "      ***********\n"
     ]
    }
   ],
   "source": [
    "# dijadiin tugas\n",
    "jam_pasir = int(input(\"How Tall?\"))\n",
    "\n",
    "x = 1\n",
    "y = jam_pasir\n",
    "\n",
    "while x <= jam_pasir:\n",
    "    print((x*' ')+y*'*')\n",
    "    y = y-2\n",
    "    x = x+1\n",
    "\n",
    "x = 1\n",
    "y = jam_pasir\n",
    "\n",
    "while x <= jam_pasir:\n",
    "    print((y*' ')+x*'*')\n",
    "    y = y-1\n",
    "    x = x+2"
   ]
  },
  {
   "cell_type": "code",
   "execution_count": null,
   "id": "45ef71ca",
   "metadata": {},
   "outputs": [],
   "source": [
    "#stack\n",
    "array_14 = np.array([])"
   ]
  },
  {
   "cell_type": "code",
   "execution_count": 112,
   "id": "9febe515",
   "metadata": {},
   "outputs": [
    {
     "name": "stdout",
     "output_type": "stream",
     "text": [
      "[[1 2 3 4 5 6]\n",
      " [4 5 6 7 5 6]]\n",
      "Horizontal Split\n",
      "[array([[1, 2, 3],\n",
      "       [4, 5, 6]]), array([[4, 5, 6],\n",
      "       [7, 5, 6]])]\n",
      "Vertical Split\n",
      "[array([[1, 2, 3, 4, 5, 6]]), array([[4, 5, 6, 7, 5, 6]])]\n"
     ]
    }
   ],
   "source": [
    "#vsplit\n",
    "array_19 = np.array([[1,2,3,4,5,6],[4,5,6,7,5,6]])\n",
    "print(array_19)\n",
    "print('Horizontal Split')\n",
    "print(np.hsplit(array_19,2))\n",
    "print('Vertical Split')\n",
    "print(np.vsplit(array_19,2))\n"
   ]
  },
  {
   "cell_type": "markdown",
   "id": "4f3a4133",
   "metadata": {},
   "source": [
    "## Operasi Aritmetik Antar 2 Array"
   ]
  },
  {
   "cell_type": "code",
   "execution_count": 113,
   "id": "ef1a7d8d",
   "metadata": {},
   "outputs": [
    {
     "name": "stdout",
     "output_type": "stream",
     "text": [
      "[4 6 8]\n"
     ]
    }
   ],
   "source": [
    "array_a = np.array([1,2,3])\n",
    "array_b = np.array([3,4,5])\n",
    "print(array_a + array_b)"
   ]
  },
  {
   "cell_type": "code",
   "execution_count": 115,
   "id": "0d29dc4d",
   "metadata": {},
   "outputs": [
    {
     "name": "stdout",
     "output_type": "stream",
     "text": [
      "[[-5 -5 -5]\n",
      " [-5 -5 -5]]\n"
     ]
    }
   ],
   "source": [
    "array_c = np.array([[1,2,3],[4,5,6]])\n",
    "array_d = np.array([[6,7,8],[9,10,11]])\n",
    "print(array_c-array_d)"
   ]
  },
  {
   "cell_type": "code",
   "execution_count": 117,
   "id": "c281eef7",
   "metadata": {},
   "outputs": [
    {
     "name": "stdout",
     "output_type": "stream",
     "text": [
      "6\n",
      "21\n",
      "[5 7 9]\n",
      "[ 6 15]\n"
     ]
    }
   ],
   "source": [
    "array_a = np.array([1,2,3])\n",
    "array_b = np.array([3,4,5])\n",
    "array_c = np.array([[1,2,3],[4,5,6]])\n",
    "array_d = np.array([[6,7,8],[9,10,11]])\n",
    "print(array_a.sum())\n",
    "print(array_c.sum())\n",
    "print(array_c.sum(axis=0)) #axis 0 kebawah(baris)\n",
    "print(array_c.sum(axis=1))"
   ]
  },
  {
   "cell_type": "code",
   "execution_count": 120,
   "id": "f65c5ece",
   "metadata": {},
   "outputs": [
    {
     "name": "stdout",
     "output_type": "stream",
     "text": [
      "3\n",
      "6\n",
      "[5 5 6]\n",
      "[4 2 3]\n"
     ]
    }
   ],
   "source": [
    "array_a = np.array([1,2,3])\n",
    "array_b = np.array([3,4,5])\n",
    "array_c = np.array([[5,2,3],[4,5,6]])\n",
    "print(array_a.max())\n",
    "print(array_c.max())\n",
    "print(array_c.max(axis=0))\n",
    "print(array_c.min(axis=0))"
   ]
  },
  {
   "cell_type": "markdown",
   "id": "86ce8b6d",
   "metadata": {},
   "source": [
    "## Transposing"
   ]
  },
  {
   "cell_type": "code",
   "execution_count": 121,
   "id": "578e6838",
   "metadata": {},
   "outputs": [
    {
     "name": "stdout",
     "output_type": "stream",
     "text": [
      "[[1 2 3]\n",
      " [4 5 6]]\n",
      "(2, 3)\n"
     ]
    }
   ],
   "source": [
    "array_c = np.array([[1,2,3],[4,5,6]])\n",
    "print(array_c)\n",
    "print(array_c.shape)"
   ]
  },
  {
   "cell_type": "code",
   "execution_count": 122,
   "id": "451beec6",
   "metadata": {},
   "outputs": [
    {
     "name": "stdout",
     "output_type": "stream",
     "text": [
      "[[1 4]\n",
      " [2 5]\n",
      " [3 6]]\n"
     ]
    }
   ],
   "source": [
    "print(array_c.T)"
   ]
  },
  {
   "cell_type": "code",
   "execution_count": 125,
   "id": "68f89dbb",
   "metadata": {},
   "outputs": [
    {
     "name": "stdout",
     "output_type": "stream",
     "text": [
      "[[ 1  4  7]\n",
      " [ 2  5  8]\n",
      " [ 3  6  9]\n",
      " [ 4  7 10]\n",
      " [ 5  8 11]]\n",
      "(5, 3)\n"
     ]
    }
   ],
   "source": [
    "array_d = np.array([[1,2,3,4,5],[4,5,6,7,8],[7,8,9,10,11]])\n",
    "print(array_d.T)\n",
    "print(array_d.T.shape)\n"
   ]
  },
  {
   "cell_type": "code",
   "execution_count": 126,
   "id": "38f9b41d",
   "metadata": {},
   "outputs": [
    {
     "data": {
      "text/plain": [
       "array([[96.22748996, 20.71881464],\n",
       "       [48.41770865, 72.10209434],\n",
       "       [ 9.13599975, 86.66841501]])"
      ]
     },
     "execution_count": 126,
     "metadata": {},
     "output_type": "execute_result"
    }
   ],
   "source": [
    "np.random.random([3,2])*100"
   ]
  },
  {
   "cell_type": "code",
   "execution_count": 127,
   "id": "bd3a68dd",
   "metadata": {},
   "outputs": [
    {
     "name": "stdout",
     "output_type": "stream",
     "text": [
      "[[ 2.24193663 35.10783628]\n",
      " [17.85262708 93.44281806]\n",
      " [ 6.13752466  1.37052913]]\n",
      "[ 2.24193663 35.10783628 17.85262708 93.44281806  6.13752466  1.37052913]\n"
     ]
    }
   ],
   "source": [
    "array_random = np.random.random([3,2])*100\n",
    "print(array_random)\n",
    "print(array_random.flatten())"
   ]
  },
  {
   "cell_type": "markdown",
   "id": "113c25ea",
   "metadata": {},
   "source": [
    "## Math Formulas Numpy"
   ]
  },
  {
   "cell_type": "code",
   "execution_count": 128,
   "id": "6afd9a80",
   "metadata": {},
   "outputs": [
    {
     "name": "stdout",
     "output_type": "stream",
     "text": [
      "[[96.77928691 74.81443427]\n",
      " [86.96271079 74.98009363]\n",
      " [44.54861388 64.79412056]]\n"
     ]
    },
    {
     "data": {
      "text/plain": [
       "442.87926004663973"
      ]
     },
     "execution_count": 128,
     "metadata": {},
     "output_type": "execute_result"
    }
   ],
   "source": [
    "array_random = np.random.random([3,2])*100\n",
    "print(array_random)\n",
    "np.sum(array_random)"
   ]
  },
  {
   "cell_type": "code",
   "execution_count": 129,
   "id": "98a75058",
   "metadata": {},
   "outputs": [
    {
     "data": {
      "text/plain": [
       "81"
      ]
     },
     "execution_count": 129,
     "metadata": {},
     "output_type": "execute_result"
    }
   ],
   "source": [
    "np.square(9)"
   ]
  },
  {
   "cell_type": "code",
   "execution_count": 130,
   "id": "fac3316a",
   "metadata": {},
   "outputs": [
    {
     "data": {
      "text/plain": [
       "3.0"
      ]
     },
     "execution_count": 130,
     "metadata": {},
     "output_type": "execute_result"
    }
   ],
   "source": [
    "np.sqrt(9)"
   ]
  },
  {
   "cell_type": "code",
   "execution_count": 132,
   "id": "a775ef26",
   "metadata": {},
   "outputs": [
    {
     "name": "stdout",
     "output_type": "stream",
     "text": [
      "13.815510557964274\n"
     ]
    }
   ],
   "source": [
    "x = np.log(1000000)\n",
    "print(x)"
   ]
  },
  {
   "cell_type": "code",
   "execution_count": 133,
   "id": "cb07a8b8",
   "metadata": {},
   "outputs": [
    {
     "data": {
      "text/plain": [
       "999999.9999999995"
      ]
     },
     "execution_count": 133,
     "metadata": {},
     "output_type": "execute_result"
    }
   ],
   "source": [
    "np.exp(x)"
   ]
  },
  {
   "cell_type": "markdown",
   "id": "0c199056",
   "metadata": {},
   "source": [
    "HMMM KUIS"
   ]
  },
  {
   "cell_type": "code",
   "execution_count": 149,
   "id": "ac27cfd0",
   "metadata": {},
   "outputs": [
    {
     "name": "stdout",
     "output_type": "stream",
     "text": [
      "Please, Enter the Lowest Range Value:10\n",
      "Please, Enter the upper Range Value:30\n",
      "Prime number in the range are  10 up to 30 :\n",
      "11\n",
      "13\n",
      "17\n",
      "19\n",
      "23\n",
      "29\n"
     ]
    }
   ],
   "source": [
    "lowest = int(input(\"Please, Enter the Lowest Range Value:\"))\n",
    "upper = int(input(\"Please, Enter the upper Range Value:\"))\n",
    "print(\"Prime number in the range are \",lowest,\"up to\",upper,\":\")\n",
    "for num in range(lowest,upper + 1):\n",
    "     if num > 1:\n",
    "        for i in range(2, num):\n",
    "            if (num % i) == 0:\n",
    "                break\n",
    "        else:\n",
    "            print(num)"
   ]
  },
  {
   "cell_type": "markdown",
   "id": "787768e8",
   "metadata": {},
   "source": [
    "## Tugas 2 Kelompok 1"
   ]
  },
  {
   "cell_type": "code",
   "execution_count": 1,
   "id": "d6df9573",
   "metadata": {},
   "outputs": [
    {
     "name": "stdout",
     "output_type": "stream",
     "text": [
      "how tall ? 11\n",
      "***********\n",
      " *********\n",
      "  *******\n",
      "   *****\n",
      "    ***\n",
      "     *\n",
      "    ***\n",
      "   *****\n",
      "  *******\n",
      " *********\n",
      "***********\n"
     ]
    }
   ],
   "source": [
    "inputTinggiSegitiga = int(input('how tall ? '))\n",
    "t = 0\n",
    "\n",
    "if inputTinggiSegitiga%2==0:\n",
    "    t=inputTinggiSegitiga-1\n",
    "else:\n",
    "    t=inputTinggiSegitiga\n",
    "\n",
    "for i in range(0,t):\n",
    "    if (t-2*i)>0:\n",
    "        print(' '*i+'*'*(t-2*i))\n",
    "    else:\n",
    "        k=t-i-1\n",
    "        print(' '*k+'*'*(t-2*k))"
   ]
  },
  {
   "cell_type": "code",
   "execution_count": null,
   "id": "16fafa07",
   "metadata": {},
   "outputs": [],
   "source": []
  }
 ],
 "metadata": {
  "kernelspec": {
   "display_name": "Python 3 (ipykernel)",
   "language": "python",
   "name": "python3"
  },
  "language_info": {
   "codemirror_mode": {
    "name": "ipython",
    "version": 3
   },
   "file_extension": ".py",
   "mimetype": "text/x-python",
   "name": "python",
   "nbconvert_exporter": "python",
   "pygments_lexer": "ipython3",
   "version": "3.9.12"
  }
 },
 "nbformat": 4,
 "nbformat_minor": 5
}
