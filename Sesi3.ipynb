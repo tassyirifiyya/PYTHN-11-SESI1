{
 "cells": [
  {
   "cell_type": "markdown",
   "id": "2cd023ee",
   "metadata": {},
   "source": [
    "## Function, Module, Package"
   ]
  },
  {
   "cell_type": "code",
   "execution_count": 1,
   "id": "2fcdd183",
   "metadata": {},
   "outputs": [
    {
     "data": {
      "text/plain": [
       "3"
      ]
     },
     "execution_count": 1,
     "metadata": {},
     "output_type": "execute_result"
    }
   ],
   "source": [
    "1 * 3"
   ]
  },
  {
   "cell_type": "code",
   "execution_count": 3,
   "id": "5be4e381",
   "metadata": {},
   "outputs": [
    {
     "name": "stdout",
     "output_type": "stream",
     "text": [
      "6\n"
     ]
    }
   ],
   "source": [
    "def kali(a):\n",
    "    return a*3\n",
    "print(kali(2))"
   ]
  },
  {
   "cell_type": "code",
   "execution_count": 6,
   "id": "1233a668",
   "metadata": {},
   "outputs": [
    {
     "name": "stdout",
     "output_type": "stream",
     "text": [
      "3\n"
     ]
    }
   ],
   "source": [
    "def kali(a):\n",
    "    print(a*3)\n",
    "x = kali(1)"
   ]
  },
  {
   "cell_type": "code",
   "execution_count": 5,
   "id": "55551801",
   "metadata": {},
   "outputs": [
    {
     "name": "stdout",
     "output_type": "stream",
     "text": [
      "15\n"
     ]
    }
   ],
   "source": [
    "kali(5)"
   ]
  },
  {
   "cell_type": "code",
   "execution_count": 7,
   "id": "d75b048b",
   "metadata": {},
   "outputs": [
    {
     "name": "stdout",
     "output_type": "stream",
     "text": [
      "28\n"
     ]
    }
   ],
   "source": [
    "def kali(a,b):\n",
    "    return a*b\n",
    "print(kali(7,4))"
   ]
  },
  {
   "cell_type": "code",
   "execution_count": 8,
   "id": "c2ab26a7",
   "metadata": {},
   "outputs": [],
   "source": [
    "x = kali(2,3)\n",
    "y = kali(4,6)\n",
    "z = kali(x,y)"
   ]
  },
  {
   "cell_type": "code",
   "execution_count": 9,
   "id": "bb408f72",
   "metadata": {},
   "outputs": [
    {
     "name": "stdout",
     "output_type": "stream",
     "text": [
      "144\n"
     ]
    }
   ],
   "source": [
    "print(z)"
   ]
  },
  {
   "cell_type": "code",
   "execution_count": 11,
   "id": "6ba6bd29",
   "metadata": {},
   "outputs": [],
   "source": [
    "def str_joiner(a,b):\n",
    "    return a + b"
   ]
  },
  {
   "cell_type": "code",
   "execution_count": 12,
   "id": "2d7161f6",
   "metadata": {},
   "outputs": [
    {
     "data": {
      "text/plain": [
       "'akukeren'"
      ]
     },
     "execution_count": 12,
     "metadata": {},
     "output_type": "execute_result"
    }
   ],
   "source": [
    "str_joiner('aku','keren')"
   ]
  },
  {
   "cell_type": "code",
   "execution_count": null,
   "id": "03ed96cb",
   "metadata": {},
   "outputs": [],
   "source": [
    "def str_join(a,b):\n",
    "    a = a.upper()\n",
    "    b = b.upper\n",
    "    return a + b"
   ]
  },
  {
   "cell_type": "code",
   "execution_count": 7,
   "id": "d908db99",
   "metadata": {},
   "outputs": [],
   "source": [
    "def str_join(a,b,c):\n",
    "    a = a.lower() \n",
    "    b = b.lower()\n",
    "    c = c.lower()\n",
    "    \n",
    "    x = a+' '+b+' '+c+' '\n",
    "    print(x[::-1])"
   ]
  },
  {
   "cell_type": "code",
   "execution_count": 8,
   "id": "841eed7a",
   "metadata": {},
   "outputs": [
    {
     "name": "stdout",
     "output_type": "stream",
     "text": [
      " nakam uam ayas\n"
     ]
    }
   ],
   "source": [
    "str_join('Saya','Mau','Makan')"
   ]
  },
  {
   "cell_type": "code",
   "execution_count": 9,
   "id": "57f921fe",
   "metadata": {},
   "outputs": [
    {
     "data": {
      "text/plain": [
       "' etegeb nerek wwa'"
      ]
     },
     "execution_count": 9,
     "metadata": {},
     "output_type": "execute_result"
    }
   ],
   "source": [
    "def str_join(a,b,c):\n",
    "    a = a.lower() \n",
    "    b = b.lower()\n",
    "    c = c.lower()\n",
    "    return (a+' '+b+' '+c+' ')[::-1]\n",
    "str_join('Aww','Keren','Begete')"
   ]
  },
  {
   "cell_type": "markdown",
   "id": "7362cfa6",
   "metadata": {},
   "source": [
    "* variabel global\n",
    "* variabel lokal"
   ]
  },
  {
   "cell_type": "code",
   "execution_count": 10,
   "id": "f2acaf9e",
   "metadata": {},
   "outputs": [
    {
     "name": "stdout",
     "output_type": "stream",
     "text": [
      "20\n",
      "9\n"
     ]
    }
   ],
   "source": [
    "total = 20 #Variabel Global\n",
    "\n",
    "def function_a(a,b):\n",
    "    total = a+b #variabel lokal\n",
    "    return total\n",
    "\n",
    "print(total)\n",
    "print(function_a(7,2))"
   ]
  },
  {
   "cell_type": "code",
   "execution_count": 11,
   "id": "0de7f9b5",
   "metadata": {},
   "outputs": [
    {
     "name": "stdout",
     "output_type": "stream",
     "text": [
      "Tes\n"
     ]
    },
    {
     "ename": "NameError",
     "evalue": "name 'tes' is not defined",
     "output_type": "error",
     "traceback": [
      "\u001b[1;31m---------------------------------------------------------------------------\u001b[0m",
      "\u001b[1;31mNameError\u001b[0m                                 Traceback (most recent call last)",
      "Input \u001b[1;32mIn [11]\u001b[0m, in \u001b[0;36m<cell line: 6>\u001b[1;34m()\u001b[0m\n\u001b[0;32m      3\u001b[0m     \u001b[38;5;28mprint\u001b[39m(tes)\n\u001b[0;32m      5\u001b[0m function_b()\n\u001b[1;32m----> 6\u001b[0m \u001b[38;5;28mprint\u001b[39m(\u001b[43mtes\u001b[49m)\n",
      "\u001b[1;31mNameError\u001b[0m: name 'tes' is not defined"
     ]
    }
   ],
   "source": [
    "def function_b():\n",
    "    tes = 'Tes'\n",
    "    print(tes)\n",
    "    \n",
    "function_b()\n",
    "print(tes)"
   ]
  },
  {
   "cell_type": "code",
   "execution_count": 35,
   "id": "4b613ecb",
   "metadata": {},
   "outputs": [
    {
     "ename": "SyntaxError",
     "evalue": "invalid syntax (4069487608.py, line 10)",
     "output_type": "error",
     "traceback": [
      "\u001b[1;36m  Input \u001b[1;32mIn [35]\u001b[1;36m\u001b[0m\n\u001b[1;33m    print list_genap.append(x) +=1\u001b[0m\n\u001b[1;37m          ^\u001b[0m\n\u001b[1;31mSyntaxError\u001b[0m\u001b[1;31m:\u001b[0m invalid syntax\n"
     ]
    }
   ],
   "source": [
    "mylist =[31,42,73,54,65,56,77,98,99,4,10,59,30]\n",
    "list_ganjil= []\n",
    "list_genap= []\n",
    "sumGanjil = 0\n",
    "sumGenap = 0\n",
    "\n",
    "def function_c(x):\n",
    "    for i in x:\n",
    "        if mylist % 2 == 0:\n",
    "            print list_genap.append(x) +=1\n",
    "            print sumGanjil +=1\n",
    "        else:\n",
    "            print list_ganjil.append(x) +=1\n",
    "            print sumGenap +=1\n",
    "\n",
    "print('A =' + str(list_genap.append(x))"
   ]
  },
  {
   "cell_type": "code",
   "execution_count": 45,
   "id": "9be5faa0",
   "metadata": {},
   "outputs": [
    {
     "ename": "UnboundLocalError",
     "evalue": "local variable 'nG' referenced before assignment",
     "output_type": "error",
     "traceback": [
      "\u001b[1;31m---------------------------------------------------------------------------\u001b[0m",
      "\u001b[1;31mUnboundLocalError\u001b[0m                         Traceback (most recent call last)",
      "Input \u001b[1;32mIn [45]\u001b[0m, in \u001b[0;36m<cell line: 21>\u001b[1;34m()\u001b[0m\n\u001b[0;32m     18\u001b[0m     \u001b[38;5;28mprint\u001b[39m(sumGanjil)\n\u001b[0;32m     19\u001b[0m     \u001b[38;5;28mprint\u001b[39m(sumGenap)\n\u001b[1;32m---> 21\u001b[0m \u001b[43mlist_summary\u001b[49m\u001b[43m(\u001b[49m\u001b[43mmylist\u001b[49m\u001b[43m)\u001b[49m\n",
      "Input \u001b[1;32mIn [45]\u001b[0m, in \u001b[0;36mlist_summary\u001b[1;34m(list)\u001b[0m\n\u001b[0;32m     12\u001b[0m         sumGanjil \u001b[38;5;241m+\u001b[39m\u001b[38;5;241m=\u001b[39m i\n\u001b[0;32m     13\u001b[0m     \u001b[38;5;28;01melse\u001b[39;00m:          \u001b[38;5;66;03m#filter angka genap\u001b[39;00m\n\u001b[1;32m---> 14\u001b[0m         nG \u001b[38;5;241m+\u001b[39m\u001b[38;5;241m=\u001b[39m \u001b[38;5;241m1\u001b[39m\n\u001b[0;32m     15\u001b[0m         sumGanjil \u001b[38;5;241m+\u001b[39m\u001b[38;5;241m=\u001b[39m i\n\u001b[0;32m     16\u001b[0m \u001b[38;5;28mprint\u001b[39m(nGanjil)\n",
      "\u001b[1;31mUnboundLocalError\u001b[0m: local variable 'nG' referenced before assignment"
     ]
    }
   ],
   "source": [
    "mylist =[31,42,73,54,65,56,77,98,99,4,10,59,30]\n",
    "\n",
    "def list_summary(list):\n",
    "    nGenap = 0 #placeholder n angka genap\n",
    "    nGanjil = 0\n",
    "    sumGenap = 0\n",
    "    sumGanjil = 0\n",
    "    \n",
    "    for i in list:\n",
    "        if i % 2 != 0: #filter angka ganjil\n",
    "            nGanjil += 1\n",
    "            sumGanjil += i\n",
    "        else:          #filter angka genap\n",
    "            nG += 1\n",
    "            sumGanjil += i\n",
    "    print(nGanjil)\n",
    "    print(nGenap)\n",
    "    print(sumGanjil)\n",
    "    print(sumGenap)\n",
    "\n",
    "list_summary(mylist)"
   ]
  },
  {
   "cell_type": "code",
   "execution_count": 42,
   "id": "2ecc1bd2",
   "metadata": {},
   "outputs": [
    {
     "name": "stdout",
     "output_type": "stream",
     "text": [
      "Name:  Tassyi\n",
      "Age :  20\n"
     ]
    }
   ],
   "source": [
    "#Default Argument\n",
    "def printinfo(name,age=26):\n",
    "    print('Name: ',name)\n",
    "    print('Age : ',age)\n",
    "\n",
    "printinfo('Tassyi',20)"
   ]
  },
  {
   "cell_type": "code",
   "execution_count": 43,
   "id": "55d47acf",
   "metadata": {
    "scrolled": true
   },
   "outputs": [
    {
     "name": "stdout",
     "output_type": "stream",
     "text": [
      "Name:  40\n",
      "Age :  Brodie\n"
     ]
    }
   ],
   "source": [
    "printinfo(40,'Brodie') #sebaiknya sesuai parameter"
   ]
  },
  {
   "cell_type": "code",
   "execution_count": 46,
   "id": "5376fd90",
   "metadata": {},
   "outputs": [
    {
     "ename": "TypeError",
     "evalue": "printinfo() takes from 1 to 2 positional arguments but 3 were given",
     "output_type": "error",
     "traceback": [
      "\u001b[1;31m---------------------------------------------------------------------------\u001b[0m",
      "\u001b[1;31mTypeError\u001b[0m                                 Traceback (most recent call last)",
      "Input \u001b[1;32mIn [46]\u001b[0m, in \u001b[0;36m<cell line: 1>\u001b[1;34m()\u001b[0m\n\u001b[1;32m----> 1\u001b[0m \u001b[43mprintinfo\u001b[49m\u001b[43m(\u001b[49m\u001b[38;5;124;43m'\u001b[39;49m\u001b[38;5;124;43mAli\u001b[39;49m\u001b[38;5;124;43m'\u001b[39;49m\u001b[43m,\u001b[49m\u001b[38;5;241;43m13\u001b[39;49m\u001b[43m,\u001b[49m\u001b[38;5;241;43m14\u001b[39;49m\u001b[43m)\u001b[49m\n",
      "\u001b[1;31mTypeError\u001b[0m: printinfo() takes from 1 to 2 positional arguments but 3 were given"
     ]
    }
   ],
   "source": [
    "printinfo('Ali',13,14) #not match with parameter"
   ]
  },
  {
   "cell_type": "code",
   "execution_count": 50,
   "id": "162ef7ad",
   "metadata": {},
   "outputs": [],
   "source": [
    "#variabel length arguments\n",
    "def printinfo(x, *vartuple):\n",
    "    print('Output is :')\n",
    "    print(x)\n",
    "    for i in vartuple:\n",
    "        print(i)"
   ]
  },
  {
   "cell_type": "code",
   "execution_count": 51,
   "id": "4a7e47c9",
   "metadata": {},
   "outputs": [
    {
     "name": "stdout",
     "output_type": "stream",
     "text": [
      "Output is :\n",
      "8\n",
      "9\n",
      "20\n",
      "30\n",
      "Nama\n"
     ]
    }
   ],
   "source": [
    "printinfo(8,9,20,30,'Nama')"
   ]
  },
  {
   "cell_type": "markdown",
   "id": "7f065075",
   "metadata": {},
   "source": [
    "## Lambda"
   ]
  },
  {
   "cell_type": "code",
   "execution_count": 54,
   "id": "be299b5f",
   "metadata": {},
   "outputs": [
    {
     "name": "stdout",
     "output_type": "stream",
     "text": [
      "6\n"
     ]
    }
   ],
   "source": [
    "def sum(x,y):\n",
    "    return x + y\n",
    "print(sum(1,5))"
   ]
  },
  {
   "cell_type": "code",
   "execution_count": 55,
   "id": "d5ee0c18",
   "metadata": {},
   "outputs": [
    {
     "name": "stdout",
     "output_type": "stream",
     "text": [
      "15\n"
     ]
    }
   ],
   "source": [
    "perkalian = lambda x,y:x*y\n",
    "print(perkalian(3,5))"
   ]
  },
  {
   "cell_type": "markdown",
   "id": "2bc88b8e",
   "metadata": {},
   "source": [
    "## Modules"
   ]
  },
  {
   "cell_type": "code",
   "execution_count": 56,
   "id": "d2ce7ad2",
   "metadata": {},
   "outputs": [],
   "source": [
    "import numpy as np"
   ]
  },
  {
   "cell_type": "code",
   "execution_count": 59,
   "id": "c761caa7",
   "metadata": {},
   "outputs": [
    {
     "data": {
      "text/plain": [
       "3.0"
      ]
     },
     "execution_count": 59,
     "metadata": {},
     "output_type": "execute_result"
    }
   ],
   "source": [
    "np.sqrt(9)"
   ]
  },
  {
   "cell_type": "code",
   "execution_count": 60,
   "id": "6b6f4589",
   "metadata": {},
   "outputs": [
    {
     "data": {
      "text/plain": [
       "['In',\n",
       " 'Out',\n",
       " '_',\n",
       " '_58',\n",
       " '_59',\n",
       " '_9',\n",
       " '__',\n",
       " '___',\n",
       " '__builtin__',\n",
       " '__builtins__',\n",
       " '__doc__',\n",
       " '__loader__',\n",
       " '__name__',\n",
       " '__package__',\n",
       " '__spec__',\n",
       " '_dh',\n",
       " '_i',\n",
       " '_i1',\n",
       " '_i10',\n",
       " '_i11',\n",
       " '_i12',\n",
       " '_i14',\n",
       " '_i15',\n",
       " '_i16',\n",
       " '_i17',\n",
       " '_i18',\n",
       " '_i19',\n",
       " '_i2',\n",
       " '_i20',\n",
       " '_i21',\n",
       " '_i22',\n",
       " '_i24',\n",
       " '_i26',\n",
       " '_i28',\n",
       " '_i3',\n",
       " '_i30',\n",
       " '_i32',\n",
       " '_i33',\n",
       " '_i34',\n",
       " '_i35',\n",
       " '_i36',\n",
       " '_i38',\n",
       " '_i39',\n",
       " '_i4',\n",
       " '_i40',\n",
       " '_i41',\n",
       " '_i42',\n",
       " '_i43',\n",
       " '_i44',\n",
       " '_i45',\n",
       " '_i46',\n",
       " '_i47',\n",
       " '_i48',\n",
       " '_i49',\n",
       " '_i5',\n",
       " '_i50',\n",
       " '_i51',\n",
       " '_i52',\n",
       " '_i53',\n",
       " '_i54',\n",
       " '_i55',\n",
       " '_i56',\n",
       " '_i57',\n",
       " '_i58',\n",
       " '_i59',\n",
       " '_i6',\n",
       " '_i60',\n",
       " '_i7',\n",
       " '_i8',\n",
       " '_i9',\n",
       " '_ih',\n",
       " '_ii',\n",
       " '_iii',\n",
       " '_oh',\n",
       " 'exit',\n",
       " 'function_a',\n",
       " 'function_b',\n",
       " 'fungsi',\n",
       " 'get_ipython',\n",
       " 'list',\n",
       " 'list_summary',\n",
       " 'mylist',\n",
       " 'np',\n",
       " 'perkalian',\n",
       " 'printinfo',\n",
       " 'quit',\n",
       " 'str_join',\n",
       " 'sum',\n",
       " 'total']"
      ]
     },
     "execution_count": 60,
     "metadata": {},
     "output_type": "execute_result"
    }
   ],
   "source": [
    "dir()"
   ]
  },
  {
   "cell_type": "code",
   "execution_count": 5,
   "id": "10c278bb",
   "metadata": {},
   "outputs": [],
   "source": [
    "import mod #memanggil mod dari folder yg sama dengan file Sesi3"
   ]
  },
  {
   "cell_type": "code",
   "execution_count": 6,
   "id": "3823fc78",
   "metadata": {
    "scrolled": true
   },
   "outputs": [
    {
     "data": {
      "text/plain": [
       "['C:\\\\Users\\\\USER DK\\\\Documents\\\\Hacktiv8',\n",
       " 'D:\\\\anaconda3\\\\python39.zip',\n",
       " 'D:\\\\anaconda3\\\\DLLs',\n",
       " 'D:\\\\anaconda3\\\\lib',\n",
       " 'D:\\\\anaconda3',\n",
       " '',\n",
       " 'C:\\\\Users\\\\USER DK\\\\AppData\\\\Roaming\\\\Python\\\\Python39\\\\site-packages',\n",
       " 'D:\\\\anaconda3\\\\lib\\\\site-packages',\n",
       " 'D:\\\\anaconda3\\\\lib\\\\site-packages\\\\win32',\n",
       " 'D:\\\\anaconda3\\\\lib\\\\site-packages\\\\win32\\\\lib',\n",
       " 'D:\\\\anaconda3\\\\lib\\\\site-packages\\\\Pythonwin']"
      ]
     },
     "execution_count": 6,
     "metadata": {},
     "output_type": "execute_result"
    }
   ],
   "source": [
    "import sys\n",
    "sys.path"
   ]
  },
  {
   "cell_type": "code",
   "execution_count": 7,
   "id": "46ed324c",
   "metadata": {},
   "outputs": [],
   "source": [
    "sys.path.append('D:/library')"
   ]
  },
  {
   "cell_type": "code",
   "execution_count": 8,
   "id": "a2dfe792",
   "metadata": {},
   "outputs": [
    {
     "data": {
      "text/plain": [
       "['C:\\\\Users\\\\USER DK\\\\Documents\\\\Hacktiv8',\n",
       " 'D:\\\\anaconda3\\\\python39.zip',\n",
       " 'D:\\\\anaconda3\\\\DLLs',\n",
       " 'D:\\\\anaconda3\\\\lib',\n",
       " 'D:\\\\anaconda3',\n",
       " '',\n",
       " 'C:\\\\Users\\\\USER DK\\\\AppData\\\\Roaming\\\\Python\\\\Python39\\\\site-packages',\n",
       " 'D:\\\\anaconda3\\\\lib\\\\site-packages',\n",
       " 'D:\\\\anaconda3\\\\lib\\\\site-packages\\\\win32',\n",
       " 'D:\\\\anaconda3\\\\lib\\\\site-packages\\\\win32\\\\lib',\n",
       " 'D:\\\\anaconda3\\\\lib\\\\site-packages\\\\Pythonwin',\n",
       " 'D:/library']"
      ]
     },
     "execution_count": 8,
     "metadata": {},
     "output_type": "execute_result"
    }
   ],
   "source": [
    "sys.path"
   ]
  },
  {
   "cell_type": "code",
   "execution_count": 9,
   "id": "77f2d6dd",
   "metadata": {},
   "outputs": [
    {
     "data": {
      "text/plain": [
       "'C:\\\\Users\\\\USER DK\\\\Documents\\\\Hacktiv8\\\\mod.py'"
      ]
     },
     "execution_count": 9,
     "metadata": {},
     "output_type": "execute_result"
    }
   ],
   "source": [
    "mod.__file__"
   ]
  },
  {
   "cell_type": "code",
   "execution_count": 10,
   "id": "c3cce665",
   "metadata": {},
   "outputs": [],
   "source": [
    "import mod_library #memanggil file mod dari folder library"
   ]
  },
  {
   "cell_type": "code",
   "execution_count": 11,
   "id": "b763dc2e",
   "metadata": {},
   "outputs": [
    {
     "data": {
      "text/plain": [
       "[100, 200, 300]"
      ]
     },
     "execution_count": 11,
     "metadata": {},
     "output_type": "execute_result"
    }
   ],
   "source": [
    "mod.a"
   ]
  },
  {
   "cell_type": "code",
   "execution_count": 12,
   "id": "17c47cbe",
   "metadata": {},
   "outputs": [
    {
     "name": "stdout",
     "output_type": "stream",
     "text": [
      "arg = Hello World\n"
     ]
    }
   ],
   "source": [
    "mod.foo('Hello World')"
   ]
  },
  {
   "cell_type": "code",
   "execution_count": 13,
   "id": "841125a2",
   "metadata": {},
   "outputs": [
    {
     "name": "stdout",
     "output_type": "stream",
     "text": [
      "<mod.Foo object at 0x0000024DF113E8B0>\n"
     ]
    }
   ],
   "source": [
    "x = mod.Foo()\n",
    "print(x)"
   ]
  },
  {
   "cell_type": "code",
   "execution_count": 14,
   "id": "90a954f6",
   "metadata": {},
   "outputs": [
    {
     "name": "stdout",
     "output_type": "stream",
     "text": [
      "arg = Welcome\n"
     ]
    }
   ],
   "source": [
    "from mod import s, foo\n",
    "foo('Welcome')"
   ]
  },
  {
   "cell_type": "code",
   "execution_count": 15,
   "id": "2058ca79",
   "metadata": {},
   "outputs": [
    {
     "data": {
      "text/plain": [
       "'Hacktiv8-PTP python For Data Science'"
      ]
     },
     "execution_count": 15,
     "metadata": {},
     "output_type": "execute_result"
    }
   ],
   "source": [
    "from mod import s as variabel_a\n",
    "variabel_a"
   ]
  },
  {
   "cell_type": "code",
   "execution_count": 16,
   "id": "1c671393",
   "metadata": {},
   "outputs": [
    {
     "name": "stdout",
     "output_type": "stream",
     "text": [
      "arg = Hello World\n",
      "<function foo at 0x0000024DEFE4BA60>\n"
     ]
    }
   ],
   "source": [
    "def bar():\n",
    "    from mod_library import foo\n",
    "    foo('Hello World')\n",
    "    print(foo)\n",
    "bar()"
   ]
  },
  {
   "cell_type": "markdown",
   "id": "83e19554",
   "metadata": {},
   "source": [
    "## Try and Except\n",
    "\n",
    "try:\n",
    "[Code Block]\n",
    "\n",
    "except:\n",
    "[Error Operation]"
   ]
  },
  {
   "cell_type": "code",
   "execution_count": 88,
   "id": "1e1e0b39",
   "metadata": {},
   "outputs": [
    {
     "name": "stdout",
     "output_type": "stream",
     "text": [
      "Object Not Found in Module\n"
     ]
    }
   ],
   "source": [
    "try:\n",
    "    from mod import haha\n",
    "except:\n",
    "    print('Object Not Found in Module')"
   ]
  },
  {
   "cell_type": "markdown",
   "id": "d881e4b9",
   "metadata": {},
   "source": [
    "## AS (Alias)"
   ]
  },
  {
   "cell_type": "code",
   "execution_count": 1,
   "id": "3363f30f",
   "metadata": {},
   "outputs": [],
   "source": [
    "import numpy as np"
   ]
  },
  {
   "cell_type": "code",
   "execution_count": 2,
   "id": "a658b3a2",
   "metadata": {},
   "outputs": [
    {
     "data": {
      "text/plain": [
       "3.0"
      ]
     },
     "execution_count": 2,
     "metadata": {},
     "output_type": "execute_result"
    }
   ],
   "source": [
    "np.sqrt(9)"
   ]
  },
  {
   "cell_type": "markdown",
   "id": "7dbc7045",
   "metadata": {},
   "source": [
    "## Package\n",
    "Kumpulan module\n"
   ]
  },
  {
   "cell_type": "code",
   "execution_count": 4,
   "id": "1c17ddfb",
   "metadata": {},
   "outputs": [],
   "source": [
    "import pkg.mod, pkg.fact"
   ]
  },
  {
   "cell_type": "code",
   "execution_count": 5,
   "id": "731adcba",
   "metadata": {},
   "outputs": [
    {
     "name": "stdout",
     "output_type": "stream",
     "text": [
      "arg = Saya\n"
     ]
    }
   ],
   "source": [
    "pkg.mod.foo('Saya')"
   ]
  },
  {
   "cell_type": "code",
   "execution_count": 6,
   "id": "fe68ec3f",
   "metadata": {},
   "outputs": [
    {
     "data": {
      "text/plain": [
       "720"
      ]
     },
     "execution_count": 6,
     "metadata": {},
     "output_type": "execute_result"
    }
   ],
   "source": [
    "pkg.fact.fact(6)"
   ]
  },
  {
   "cell_type": "code",
   "execution_count": 7,
   "id": "902f7070",
   "metadata": {},
   "outputs": [],
   "source": [
    "from pkg import mod, fact"
   ]
  },
  {
   "cell_type": "code",
   "execution_count": 9,
   "id": "0fc93606",
   "metadata": {},
   "outputs": [
    {
     "name": "stdout",
     "output_type": "stream",
     "text": [
      "arg = Saya\n"
     ]
    }
   ],
   "source": [
    "mod.foo('Saya')"
   ]
  },
  {
   "cell_type": "code",
   "execution_count": 10,
   "id": "ed4344fb",
   "metadata": {},
   "outputs": [
    {
     "data": {
      "text/plain": [
       "6"
      ]
     },
     "execution_count": 10,
     "metadata": {},
     "output_type": "execute_result"
    }
   ],
   "source": [
    "fact.fact(3)"
   ]
  },
  {
   "cell_type": "code",
   "execution_count": null,
   "id": "1014882a",
   "metadata": {},
   "outputs": [],
   "source": []
  }
 ],
 "metadata": {
  "kernelspec": {
   "display_name": "Python 3 (ipykernel)",
   "language": "python",
   "name": "python3"
  },
  "language_info": {
   "codemirror_mode": {
    "name": "ipython",
    "version": 3
   },
   "file_extension": ".py",
   "mimetype": "text/x-python",
   "name": "python",
   "nbconvert_exporter": "python",
   "pygments_lexer": "ipython3",
   "version": "3.9.12"
  }
 },
 "nbformat": 4,
 "nbformat_minor": 5
}
