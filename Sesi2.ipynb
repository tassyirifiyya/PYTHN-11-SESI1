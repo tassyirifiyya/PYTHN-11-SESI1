{
 "cells": [
  {
   "cell_type": "code",
   "execution_count": 3,
   "id": "c02e04c2",
   "metadata": {},
   "outputs": [
    {
     "name": "stdout",
     "output_type": "stream",
     "text": [
      "ya benar\n",
      "ya benar\n"
     ]
    }
   ],
   "source": [
    "x = 2\n",
    "y = 3\n",
    "\n",
    "if x > y:\n",
    "    print('ya benar')\n",
    "if x < y:\n",
    "    print('ya benar')\n",
    "if x == y:\n",
    "    print('ya benar')\n",
    "if x <= y:\n",
    "    print('ya benar')\n",
    "    "
   ]
  },
  {
   "cell_type": "code",
   "execution_count": 4,
   "id": "40f51312",
   "metadata": {},
   "outputs": [
    {
     "name": "stdout",
     "output_type": "stream",
     "text": [
      "True\n"
     ]
    }
   ],
   "source": [
    "print('we' in ['we', 'wa', 'wo']) "
   ]
  },
  {
   "cell_type": "code",
   "execution_count": 10,
   "id": "26b8502e",
   "metadata": {},
   "outputs": [
    {
     "name": "stdout",
     "output_type": "stream",
     "text": [
      "ya benar\n"
     ]
    }
   ],
   "source": [
    "# Python memerlukan indentasi\n",
    "x = 2\n",
    "y = 3\n",
    "\n",
    "if x < y:\n",
    "    if y<x:   \n",
    "        pass\n",
    "    print('ya benar')"
   ]
  },
  {
   "cell_type": "code",
   "execution_count": 13,
   "id": "3ab80170",
   "metadata": {},
   "outputs": [
    {
     "name": "stdout",
     "output_type": "stream",
     "text": [
      "MAHAL\n"
     ]
    }
   ],
   "source": [
    "harga_jeruk = 50000\n",
    "standar_harga = 30000\n",
    "\n",
    "#apabila jeruk lebih dari standar harga, maka jeruk mahal dan apabila kurang dari standar, maka jeruk murah\n",
    "\n",
    "if harga_jeruk > standar_harga:\n",
    "    print(\"MAHAL\")\n",
    "elif harga_jeruk<standar_harga:\n",
    "    print('Murah')\n",
    "elif harga_jeruk == standar_harga:\n",
    "    print('Biasa')"
   ]
  },
  {
   "cell_type": "code",
   "execution_count": 15,
   "id": "76b721be",
   "metadata": {},
   "outputs": [
    {
     "name": "stdout",
     "output_type": "stream",
     "text": [
      "Murah\n"
     ]
    }
   ],
   "source": [
    "harga_jeruk = 30000\n",
    "standar_harga = 30000\n",
    "\n",
    "#apabila jeruk lebih dari standar harga, maka jeruk mahal dan apabila kurang dari standar, maka jeruk murah\n",
    "\n",
    "if harga_jeruk > standar_harga:\n",
    "    print(\"MAHAL\")\n",
    "else:\n",
    "    print('Murah')"
   ]
  },
  {
   "cell_type": "code",
   "execution_count": 29,
   "id": "2dfa09e0",
   "metadata": {},
   "outputs": [
    {
     "name": "stdout",
     "output_type": "stream",
     "text": [
      "MAHAL\n",
      "Banget\n",
      "2\n"
     ]
    }
   ],
   "source": [
    "harga_jeruk = 50000\n",
    "standar_harga = 30000\n",
    "\n",
    "#apabila jeruk lebih dari standar harga, maka jeruk mahal dan apabila kurang dari standar, maka jeruk murah\n",
    "\n",
    "if harga_jeruk > standar_harga: print(\"MAHAL\"); print('Banget'); print(1+1)\n",
    "    \n",
    "elif harga_jeruk<standar_harga:\n",
    "    print('Murah')\n",
    "elif harga_jeruk == standar_harga:\n",
    "    print('Biasa')"
   ]
  },
  {
   "cell_type": "markdown",
   "id": "5db03ede",
   "metadata": {},
   "source": [
    "Conditional Express"
   ]
  },
  {
   "cell_type": "code",
   "execution_count": 32,
   "id": "9b4cc106",
   "metadata": {},
   "outputs": [
    {
     "name": "stdout",
     "output_type": "stream",
     "text": [
      "Tua\n"
     ]
    }
   ],
   "source": [
    "umur = 37\n",
    "s = 'Tua' if umur >= 35 else 'Muda'\n",
    "print(s)"
   ]
  },
  {
   "cell_type": "code",
   "execution_count": 36,
   "id": "6c851880",
   "metadata": {},
   "outputs": [
    {
     "name": "stdout",
     "output_type": "stream",
     "text": [
      "Out of Class\n"
     ]
    }
   ],
   "source": [
    "nama = 'Tassyi'\n",
    "n = 'In Class' if nama in ['Fachri', 'Rahmat', 'Nunu'] else 'Out of Class'\n",
    "print(n)"
   ]
  },
  {
   "cell_type": "code",
   "execution_count": 34,
   "id": "96f85654",
   "metadata": {},
   "outputs": [
    {
     "name": "stdout",
     "output_type": "stream",
     "text": [
      "MAHAL\n"
     ]
    }
   ],
   "source": [
    "harga_jeruk = 50000\n",
    "standar_harga = 30000\n",
    "ulang_tahun = 1997\n",
    "#apabila jeruk lebih dari standar harga, maka jeruk mahal dan apabila kurang dari standar, maka jeruk murah\n",
    "\n",
    "if harga_jeruk > standar_harga:\n",
    "    print(\"MAHAL\")\n",
    "elif harga_jeruk == ulang_tahun:\n",
    "    pass\n",
    "elif harga_jeruk<standar_harga:\n",
    "    print('Murah')\n",
    "elif harga_jeruk == standar_harga:\n",
    "    print('Biasa')"
   ]
  },
  {
   "cell_type": "code",
   "execution_count": 38,
   "id": "e221143b",
   "metadata": {},
   "outputs": [],
   "source": [
    "harga_jeruk = 20000\n",
    "standar_harga = 30000\n",
    "ulang_tahun = 1997\n",
    "#apabila jeruk lebih dari standar harga, maka jeruk mahal dan apabila kurang dari standar, maka jeruk murah\n",
    "\n",
    "if harga_jeruk > standar_harga:\n",
    "    print(\"MAHAL\")\n",
    "else:\n",
    "    pass"
   ]
  },
  {
   "cell_type": "code",
   "execution_count": 3,
   "id": "45e7000b",
   "metadata": {},
   "outputs": [
    {
     "name": "stdout",
     "output_type": "stream",
     "text": [
      "berapa gaji Anda\n",
      "10000000\n",
      "berapa tahun Anda kerja\n",
      "15\n",
      "total gaji anda adalah IDR11000000.0\n"
     ]
    }
   ],
   "source": [
    "print('berapa gaji Anda')\n",
    "gaji = int(input())\n",
    "\n",
    "print('berapa tahun Anda kerja')\n",
    "tahun = int(input())\n",
    "\n",
    "if tahun > 10:\n",
    "    gaji_plus = gaji + (gaji * (10/100))\n",
    "    print('total gaji anda adalah IDR' + str(gaji_plus))\n",
    "else : pass"
   ]
  },
  {
   "cell_type": "markdown",
   "id": "e9a4fa21",
   "metadata": {},
   "source": [
    "Quiz 2"
   ]
  },
  {
   "cell_type": "code",
   "execution_count": 4,
   "id": "9a3eea4d",
   "metadata": {},
   "outputs": [
    {
     "name": "stdout",
     "output_type": "stream",
     "text": [
      "berapa gaji Anda\n",
      "200000\n",
      "berapa tahun Anda kerja\n",
      "5\n"
     ]
    }
   ],
   "source": [
    "print('berapa gaji Anda')\n",
    "gaji = int(input())\n",
    "\n",
    "print('berapa tahun Anda kerja')\n",
    "tahun = int(input())\n",
    "\n",
    "if tahun > 10:\n",
    "    gaji_plus = gaji + (gaji * (10/100))\n",
    "    print('total gaji anda adalah IDR' + str(gaji_plus))\n",
    "else : pass"
   ]
  },
  {
   "cell_type": "markdown",
   "id": "d7204cf1",
   "metadata": {},
   "source": [
    "## LOOP"
   ]
  },
  {
   "cell_type": "code",
   "execution_count": 9,
   "id": "8b80e648",
   "metadata": {
    "scrolled": true
   },
   "outputs": [
    {
     "name": "stdout",
     "output_type": "stream",
     "text": [
      "fooayam\n",
      "barayam\n",
      "bazayam\n",
      "quxayam\n",
      "quuxayam\n",
      "corgeayam\n"
     ]
    }
   ],
   "source": [
    "for i in ['foo', 'bar', 'baz', 'qux', 'quux', 'corge']:\n",
    "    print(i+'ayam')"
   ]
  },
  {
   "cell_type": "code",
   "execution_count": 10,
   "id": "e3f4ea5b",
   "metadata": {
    "scrolled": true
   },
   "outputs": [
    {
     "name": "stdout",
     "output_type": "stream",
     "text": [
      "2\n",
      "3\n",
      "4\n",
      "5\n"
     ]
    }
   ],
   "source": [
    "for i in [1,2,3,4]:\n",
    "    print(i+1)"
   ]
  },
  {
   "cell_type": "markdown",
   "id": "b9dc07d2",
   "metadata": {},
   "source": [
    "## objek yang bisa dilakukan looping adalah iterable (string, list, tuplem dictionary, dsb)"
   ]
  },
  {
   "cell_type": "code",
   "execution_count": 12,
   "id": "57d1e2c3",
   "metadata": {},
   "outputs": [
    {
     "name": "stdout",
     "output_type": "stream",
     "text": [
      "s\n",
      "t\n",
      "r\n",
      "i\n",
      "n\n",
      "g\n"
     ]
    }
   ],
   "source": [
    "for i in 'string':\n",
    "    print(i)"
   ]
  },
  {
   "cell_type": "code",
   "execution_count": 14,
   "id": "8808a9c0",
   "metadata": {},
   "outputs": [
    {
     "name": "stdout",
     "output_type": "stream",
     "text": [
      "4\n",
      "3\n",
      "2\n",
      "1\n",
      "0\n"
     ]
    }
   ],
   "source": [
    "apel = 5\n",
    "while apel>0:\n",
    "    apel-=1\n",
    "    print(apel)"
   ]
  },
  {
   "cell_type": "code",
   "execution_count": 13,
   "id": "558c5aa1",
   "metadata": {},
   "outputs": [
    {
     "name": "stdout",
     "output_type": "stream",
     "text": [
      "4\n"
     ]
    }
   ],
   "source": [
    "apel = 5\n",
    "apel -= 1\n",
    "print(apel)"
   ]
  },
  {
   "cell_type": "code",
   "execution_count": 15,
   "id": "832d18c6",
   "metadata": {},
   "outputs": [
    {
     "name": "stdout",
     "output_type": "stream",
     "text": [
      "4\n",
      "3\n",
      "2\n",
      "dikit lagi nich\n",
      "0\n"
     ]
    }
   ],
   "source": [
    "apel = 5\n",
    "while apel > 0:\n",
    "    apel -=1\n",
    "    if apel ==1:\n",
    "        print('dikit lagi nich')\n",
    "    else:\n",
    "        print(apel)"
   ]
  },
  {
   "cell_type": "code",
   "execution_count": 18,
   "id": "4ad448da",
   "metadata": {},
   "outputs": [
    {
     "name": "stdout",
     "output_type": "stream",
     "text": [
      "4\n",
      "3\n",
      "Loop End\n"
     ]
    }
   ],
   "source": [
    "# break\n",
    "apel = 5\n",
    "while apel > 0:\n",
    "    apel -= 1\n",
    "    if apel == 2:\n",
    "        break\n",
    "    print(apel)\n",
    "print('Loop End')"
   ]
  },
  {
   "cell_type": "code",
   "execution_count": 19,
   "id": "1247e182",
   "metadata": {},
   "outputs": [
    {
     "name": "stdout",
     "output_type": "stream",
     "text": [
      "4\n",
      "3\n",
      "1\n",
      "0\n",
      "Loop End\n"
     ]
    }
   ],
   "source": [
    "# continue melanjutkan loop berdasarkan kondisi\n",
    "apel = 5\n",
    "while apel > 0:\n",
    "    apel -= 1\n",
    "    if apel == 2:\n",
    "        continue\n",
    "    print(apel)\n",
    "print('Loop End')"
   ]
  },
  {
   "cell_type": "code",
   "execution_count": 22,
   "id": "16dfcc30",
   "metadata": {},
   "outputs": [
    {
     "name": "stdout",
     "output_type": "stream",
     "text": [
      "Mau bagi apel nich\n",
      "8\n",
      "6\n",
      "4\n",
      "2\n",
      "0\n",
      "da abis yh\n"
     ]
    }
   ],
   "source": [
    "# else\n",
    "apel = 10\n",
    "print('Mau bagi apel nich')\n",
    "while apel > 0:\n",
    "    apel -=2\n",
    "    print(apel)\n",
    "else: print('da abis yh')"
   ]
  },
  {
   "cell_type": "code",
   "execution_count": 23,
   "id": "7986e0fd",
   "metadata": {},
   "outputs": [
    {
     "name": "stdout",
     "output_type": "stream",
     "text": [
      "4\n",
      "3\n",
      "2\n"
     ]
    }
   ],
   "source": [
    "apel = 5\n",
    "while apel > 0:\n",
    "    apel -= 1\n",
    "    print(apel)\n",
    "    if apel == 2:\n",
    "        break\n",
    "else: print('DAH Y')"
   ]
  },
  {
   "cell_type": "code",
   "execution_count": null,
   "id": "d14b3f12",
   "metadata": {},
   "outputs": [],
   "source": []
  },
  {
   "cell_type": "code",
   "execution_count": 29,
   "id": "cf668bee",
   "metadata": {},
   "outputs": [
    {
     "name": "stdout",
     "output_type": "stream",
     "text": [
      "Dad\n"
     ]
    }
   ],
   "source": [
    "#Nested If\n",
    "umur = 42\n",
    "gender = 'M'\n",
    "if umur < 18:\n",
    "    if gender == 'M':\n",
    "        print('Son')\n",
    "    else:\n",
    "        print('Daughter')\n",
    "        \n",
    "if umur >=18 and umur <65:\n",
    "    if gender == 'M':\n",
    "        print('Dad')\n",
    "    else:\n",
    "        print('Mom')"
   ]
  },
  {
   "cell_type": "markdown",
   "id": "e9a848f0",
   "metadata": {},
   "source": []
  },
  {
   "cell_type": "code",
   "execution_count": 31,
   "id": "76568e1d",
   "metadata": {
    "scrolled": true
   },
   "outputs": [
    {
     "name": "stdout",
     "output_type": "stream",
     "text": [
      "4\n",
      "3\n",
      "2\n",
      "1\n",
      "0\n"
     ]
    }
   ],
   "source": [
    "#WHILE LOOP\n",
    "apel = 5\n",
    "while apel>0: apel -=1; print(apel)"
   ]
  },
  {
   "cell_type": "code",
   "execution_count": 32,
   "id": "40583021",
   "metadata": {},
   "outputs": [
    {
     "name": "stdout",
     "output_type": "stream",
     "text": [
      "1\n",
      "2\n",
      "3\n",
      "4\n",
      "5\n",
      "6\n"
     ]
    }
   ],
   "source": [
    "a = [1,2,3,4,5,6]\n",
    "for i in  a:\n",
    "    print(i)"
   ]
  },
  {
   "cell_type": "code",
   "execution_count": 33,
   "id": "9d182e9a",
   "metadata": {},
   "outputs": [
    {
     "name": "stdout",
     "output_type": "stream",
     "text": [
      "Budi\n",
      "Joko\n",
      "Anwar\n"
     ]
    }
   ],
   "source": [
    "#NESTED FOR LOOP\n",
    "b = ['Budi', 'Joko', 'Anwar']\n",
    "for i in b:\n",
    "    print(i)"
   ]
  },
  {
   "cell_type": "code",
   "execution_count": null,
   "id": "9674fa0e",
   "metadata": {},
   "outputs": [],
   "source": [
    "#NESTED FOR LOOP\n",
    "b = ['Budi', 'Joko', 'Anwar']\n",
    "for i in b:\n",
    "    for j in i:\n",
    "        print(j)"
   ]
  },
  {
   "cell_type": "code",
   "execution_count": 38,
   "id": "0d98d601",
   "metadata": {},
   "outputs": [
    {
     "name": "stdout",
     "output_type": "stream",
     "text": [
      "B\n",
      "u\n",
      "d\n",
      "i\n"
     ]
    }
   ],
   "source": [
    "#NESTED FOR LOOP\n",
    "b = ['Budi', 'Joko', 'Anwar']\n",
    "for i in b:\n",
    "    if i == 'Joko':\n",
    "        break\n",
    "    for j in i:\n",
    "        print(j)"
   ]
  },
  {
   "cell_type": "code",
   "execution_count": 44,
   "id": "1138fe0d",
   "metadata": {},
   "outputs": [
    {
     "name": "stdout",
     "output_type": "stream",
     "text": [
      "dict_values(['Bekasi', 'Jakarta', 'Medan'])\n",
      "dict_values(['Bekasi', 'Jakarta', 'Medan'])\n",
      "dict_values(['Bekasi', 'Jakarta', 'Medan'])\n"
     ]
    }
   ],
   "source": [
    "dictionary_a = {'A':'Bekasi', 'B':'Jakarta', 'C':\"Medan\"}\n",
    "for i in dictionary_a:\n",
    "    print(dictionary_a.values())"
   ]
  },
  {
   "cell_type": "code",
   "execution_count": 46,
   "id": "d9ae03cb",
   "metadata": {},
   "outputs": [
    {
     "name": "stdout",
     "output_type": "stream",
     "text": [
      "Bekasi\n",
      "Jakarta\n",
      "Medan\n"
     ]
    }
   ],
   "source": [
    "dictionary_a = {'A':'Bekasi', 'B':'Jakarta', 'C':\"Medan\"}\n",
    "for i in dictionary_a:\n",
    "    print(dictionary_a[i])"
   ]
  },
  {
   "cell_type": "code",
   "execution_count": 48,
   "id": "be6bc2f1",
   "metadata": {},
   "outputs": [
    {
     "name": "stdout",
     "output_type": "stream",
     "text": [
      "Bekasi\n"
     ]
    }
   ],
   "source": [
    "dictionary_a = {'A':'Bekasi', 'B':'Jakarta', 'C':\"Medan\"}\n",
    "for i in dictionary_a:\n",
    "    if i == 'A':\n",
    "        print(dictionary_a[i])"
   ]
  },
  {
   "cell_type": "code",
   "execution_count": 56,
   "id": "9e7cf8b0",
   "metadata": {},
   "outputs": [
    {
     "name": "stdout",
     "output_type": "stream",
     "text": [
      "Aster\n"
     ]
    }
   ],
   "source": [
    "for i in ['Aster', 'Jubah', 'Nambo', 'Hachi']:\n",
    "    if 'a' in i:\n",
    "        continue\n",
    "    print(i)"
   ]
  },
  {
   "cell_type": "markdown",
   "id": "5db85e28",
   "metadata": {},
   "source": [
    "## Loop itu keselurhan iterasi objek 1 loop diatas 4 iterasi\n",
    "## Iterasi adalah istilah untuk 1 putaran loop\n",
    "## Continue akan memberhentikan dan lanjut ke iterasi berikutnya\n",
    "## break membenrthatikan looping selurruhnay"
   ]
  },
  {
   "cell_type": "markdown",
   "id": "d46d77b4",
   "metadata": {},
   "source": [
    "pass untuk if\n",
    "break untuk for"
   ]
  },
  {
   "cell_type": "code",
   "execution_count": 58,
   "id": "2d7e2be6",
   "metadata": {},
   "outputs": [
    {
     "name": "stdout",
     "output_type": "stream",
     "text": [
      "Aster\n",
      "Jubah\n",
      "Nambo\n",
      "Hachi\n",
      "Loop done ea\n"
     ]
    }
   ],
   "source": [
    "for i in ['Aster', 'Jubah', 'Nambo', 'Hachi']:\n",
    "    print(i)\n",
    "else:\n",
    "    print('Loop done ea')"
   ]
  },
  {
   "cell_type": "code",
   "execution_count": 59,
   "id": "6b88f09d",
   "metadata": {},
   "outputs": [
    {
     "name": "stdout",
     "output_type": "stream",
     "text": [
      "Aster\n"
     ]
    }
   ],
   "source": [
    "for i in ['Aster', 'Jubah', 'Nambo', 'Hachi']:\n",
    "    if 'b' in i:\n",
    "        break\n",
    "    print(i)\n",
    "else:\n",
    "    print('Loop Done')"
   ]
  },
  {
   "cell_type": "code",
   "execution_count": 61,
   "id": "6081c7d1",
   "metadata": {},
   "outputs": [
    {
     "name": "stdout",
     "output_type": "stream",
     "text": [
      "Bekasi\n",
      "Jakarta\n",
      "Medan\n"
     ]
    }
   ],
   "source": [
    "dictionary_a = {'A':'Bekasi', 'B':'Jakarta', 'C':\"Medan\"}\n",
    "for i in dictionary_a.values():\n",
    "    print(i)"
   ]
  },
  {
   "cell_type": "code",
   "execution_count": 62,
   "id": "8a334641",
   "metadata": {},
   "outputs": [
    {
     "name": "stdout",
     "output_type": "stream",
     "text": [
      "range(0, 5)\n"
     ]
    }
   ],
   "source": [
    "print(range(5))"
   ]
  },
  {
   "cell_type": "code",
   "execution_count": 63,
   "id": "6e6860f6",
   "metadata": {},
   "outputs": [
    {
     "name": "stdout",
     "output_type": "stream",
     "text": [
      "1\n",
      "2\n",
      "3\n",
      "4\n",
      "5\n",
      "6\n",
      "7\n",
      "8\n",
      "9\n",
      "10\n",
      "11\n",
      "12\n",
      "13\n",
      "14\n",
      "15\n",
      "16\n",
      "17\n",
      "18\n",
      "19\n",
      "20\n",
      "21\n",
      "22\n",
      "23\n",
      "24\n",
      "25\n",
      "26\n",
      "27\n",
      "28\n",
      "29\n",
      "30\n",
      "31\n",
      "32\n",
      "33\n",
      "34\n",
      "35\n",
      "36\n",
      "37\n",
      "38\n",
      "39\n",
      "40\n",
      "41\n",
      "42\n",
      "43\n",
      "44\n",
      "45\n",
      "46\n",
      "47\n",
      "48\n",
      "49\n",
      "50\n",
      "51\n",
      "52\n",
      "53\n",
      "54\n",
      "55\n",
      "56\n",
      "57\n",
      "58\n",
      "59\n",
      "60\n",
      "61\n",
      "62\n",
      "63\n",
      "64\n",
      "65\n",
      "66\n",
      "67\n",
      "68\n",
      "69\n",
      "70\n",
      "71\n",
      "72\n",
      "73\n",
      "74\n",
      "75\n",
      "76\n",
      "77\n",
      "78\n",
      "79\n",
      "80\n",
      "81\n",
      "82\n",
      "83\n",
      "84\n",
      "85\n",
      "86\n",
      "87\n",
      "88\n",
      "89\n",
      "90\n",
      "91\n",
      "92\n",
      "93\n",
      "94\n",
      "95\n",
      "96\n",
      "97\n",
      "98\n",
      "99\n",
      "100\n"
     ]
    }
   ],
   "source": [
    "for i in range(100):\n",
    "    print(i+1)"
   ]
  },
  {
   "cell_type": "code",
   "execution_count": 64,
   "id": "08736d46",
   "metadata": {},
   "outputs": [
    {
     "data": {
      "text/plain": [
       "dict_items([('A', 'Bekasi'), ('B', 'Jakarta'), ('C', 'Medan')])"
      ]
     },
     "execution_count": 64,
     "metadata": {},
     "output_type": "execute_result"
    }
   ],
   "source": [
    "dictionary_a.items()"
   ]
  },
  {
   "cell_type": "code",
   "execution_count": 66,
   "id": "96a964f8",
   "metadata": {},
   "outputs": [
    {
     "name": "stdout",
     "output_type": "stream",
     "text": [
      "1 4\n",
      "2 5\n",
      "3 6\n"
     ]
    }
   ],
   "source": [
    "a = [1,2,3]\n",
    "b = [4,5,6]\n",
    "for i,j in zip(a,b):\n",
    "    print(i,j)"
   ]
  },
  {
   "cell_type": "code",
   "execution_count": 67,
   "id": "2a93989b",
   "metadata": {
    "scrolled": true
   },
   "outputs": [
    {
     "name": "stdout",
     "output_type": "stream",
     "text": [
      "<zip object at 0x00000174BA919A00>\n"
     ]
    }
   ],
   "source": [
    "print(zip(a,b))"
   ]
  },
  {
   "cell_type": "code",
   "execution_count": 68,
   "id": "b0bfd60d",
   "metadata": {},
   "outputs": [
    {
     "name": "stdout",
     "output_type": "stream",
     "text": [
      "1 TA\n",
      "2 ZA\n",
      "3 SA\n"
     ]
    }
   ],
   "source": [
    "a = [1,2,3]\n",
    "b = ['TA','ZA','SA']\n",
    "for i,j in zip(a,b):\n",
    "    print(i,j)"
   ]
  },
  {
   "cell_type": "code",
   "execution_count": 90,
   "id": "44a3a3a2",
   "metadata": {},
   "outputs": [
    {
     "name": "stdout",
     "output_type": "stream",
     "text": [
      "12\n",
      "15\n",
      "18\n"
     ]
    }
   ],
   "source": [
    "a = [1,2,3]\n",
    "b = [4,5,6]\n",
    "c = [7,8,9]\n",
    "for i,j,k in zip(a,b,c):\n",
    "    print(i+j+k)"
   ]
  },
  {
   "cell_type": "code",
   "execution_count": 87,
   "id": "80ab52bb",
   "metadata": {},
   "outputs": [
    {
     "name": "stdout",
     "output_type": "stream",
     "text": [
      "1\n",
      "GENAP\n",
      "3\n",
      "GENAP\n",
      "5\n",
      "GENAP\n",
      "7\n",
      "GENAP\n",
      "9\n",
      "GENAP\n",
      "11\n",
      "GENAP\n",
      "13\n",
      "GENAP\n",
      "15\n",
      "GENAP\n",
      "17\n",
      "GENAP\n",
      "19\n",
      "GENAP\n"
     ]
    }
   ],
   "source": [
    "x = 1\n",
    "while x < 21:\n",
    "    if x % 2 != 0:\n",
    "        print(x)\n",
    "    else:\n",
    "        print('GENAP')\n",
    "    x += 1"
   ]
  }
 ],
 "metadata": {
  "kernelspec": {
   "display_name": "Python 3 (ipykernel)",
   "language": "python",
   "name": "python3"
  },
  "language_info": {
   "codemirror_mode": {
    "name": "ipython",
    "version": 3
   },
   "file_extension": ".py",
   "mimetype": "text/x-python",
   "name": "python",
   "nbconvert_exporter": "python",
   "pygments_lexer": "ipython3",
   "version": "3.9.12"
  }
 },
 "nbformat": 4,
 "nbformat_minor": 5
}
